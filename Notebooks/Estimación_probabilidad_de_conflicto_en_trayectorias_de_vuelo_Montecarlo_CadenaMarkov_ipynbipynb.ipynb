{
  "nbformat": 4,
  "nbformat_minor": 0,
  "metadata": {
    "kernelspec": {
      "display_name": "Python 3",
      "language": "python",
      "name": "python3"
    },
    "language_info": {
      "codemirror_mode": {
        "name": "ipython",
        "version": 3
      },
      "file_extension": ".py",
      "mimetype": "text/x-python",
      "name": "python",
      "nbconvert_exporter": "python",
      "pygments_lexer": "ipython3",
      "version": "3.7.3"
    },
    "colab": {
      "name": "Estimación probabilidad de conflicto en trayectorias de vuelo_Montecarlo_CadenaMarkov.ipynbipynb",
      "provenance": [],
      "toc_visible": true,
      "include_colab_link": true
    }
  },
  "cells": [
    {
      "cell_type": "markdown",
      "metadata": {
        "id": "view-in-github",
        "colab_type": "text"
      },
      "source": [
        "<a href=\"https://colab.research.google.com/github/AnIsAsPe/Estimacion-probabilidad-conflicto-en-trayectorias-de-vuelos-paralelos/blob/main/Notebooks/Estimaci%C3%B3n_probabilidad_de_conflicto_en_trayectorias_de_vuelo_Montecarlo_CadenaMarkov_ipynbipynb.ipynb\" target=\"_parent\"><img src=\"https://colab.research.google.com/assets/colab-badge.svg\" alt=\"Open In Colab\"/></a>"
      ]
    },
    {
      "cell_type": "code",
      "metadata": {
        "id": "-Y8onNp3S8jK"
      },
      "source": [
        "import numpy as np\n",
        "\n",
        "import matplotlib.pyplot as plt\n",
        "import seaborn as sns"
      ],
      "execution_count": 1,
      "outputs": []
    },
    {
      "cell_type": "markdown",
      "metadata": {
        "id": "FPN3f2fsOXm8"
      },
      "source": [
        "# Funciones"
      ]
    },
    {
      "cell_type": "markdown",
      "metadata": {
        "id": "pmHP_vt2CvsQ"
      },
      "source": [
        "$\\mathbb{Cov}(error_{a,t},~error_{a,s}) = r_a^2t^2$    \n",
        "\n",
        "$\\mathbb{Cov}(error_{c,t},~error_{c,s}) = \\sigma_c^2(1-e^{-2\\frac{r_c}{\\sigma_c}vt})e^{-\\frac{r_c}{\\sigma_c}v(s-t)}$  \n",
        "\n",
        "\n",
        "---\n",
        "R. A. Paielli y H. Erzberger, «Conflict Probability Estimation for Free Flight», Journal of Guidance, Control, and Dynamics, may 2012, doi: 10.2514/2.4081.\n"
      ]
    },
    {
      "cell_type": "code",
      "metadata": {
        "id": "qv1nKIs7MhlM"
      },
      "source": [
        "def covarianzas(r_a, sigma_c, r_c, v ): \n",
        "  covA=np.zeros((20,20))\n",
        "  covC=np.zeros((20,20))\n",
        "  for s in range(20):\n",
        "    covC[s,s]=(sigma_c**2)*(1-np.exp(-2*r_c*v*(s+1)/sigma_c))\n",
        "    covA[s,s]=(r_a**2)*((s+1)**2)\n",
        "    for t in range(s):\n",
        "        covC[t,s]=covC[s,t]=(sigma_c**2)*(1-np.exp(-2*r_c*v*(t+1)/sigma_c))*np.exp(-r_c*v*(s-t)/sigma_c)\n",
        "        covA[t,s]=covA[s,t]=(r_a**2)*((t+1)**2)  \n",
        "  return covA, covC\n"
      ],
      "execution_count": 2,
      "outputs": []
    },
    {
      "cell_type": "code",
      "metadata": {
        "id": "Eh4rSgN0S8jT"
      },
      "source": [
        "def NiveauxSplitting2(a, seuil, rho, rho_bar, n, d):\n",
        "   \n",
        "    mu1=np.zeros(20)+d/2\n",
        "    \n",
        "    XA = np.random.multivariate_normal(np.zeros(20), 2*covA,size=1)\n",
        "    XC = np.random.multivariate_normal(2*mu1, 2*covC,size=1)\n",
        "    X=np.concatenate((XA, XC), axis=1)\n",
        "\n",
        "    ZA = np.random.multivariate_normal(np.zeros(20), 2*covA,size=n)\n",
        "    ZC = np.random.multivariate_normal(2*mu1, 2*covC,size=n)\n",
        "    Z=np.concatenate((ZA, ZC), axis=1)\n",
        "\n",
        "    # Simulación de trayectorias con el modelo AR\n",
        "   \n",
        "    for i in range(n):\n",
        "        XC = np.append(XC, rho*(XC[-1:,]-2*mu1) + rho_bar*(ZC[i,:]-2*mu1)+2*mu1,axis=0)\n",
        "        XA = np.append(XA, rho*(XA[-1:,]) + rho_bar*(ZA[i,:]),axis=0)\n",
        "        X=np.concatenate((XA, XC), axis=1)\n",
        "\n",
        "    # Ordena las simulaciones en base a la distancia minima en cada simulación  \n",
        "    X = np.array(sorted(list(X), key=lambda x:min(x[:20]*x[:20] + x[20:]*x[20:])))\n",
        "    \n",
        "    quantiles = np.array([])    \n",
        "    renglon = int(np.ceil((1-seuil)*n)-1) \n",
        "    distancia_minima = np.sqrt(np.min((X[renglon,:20]**2+X[renglon, 20:]**2)))\n",
        "    quantiles = np.append(quantiles, distancia_minima)\n",
        "    #print(quantiles)\n",
        "    while (quantiles[-1] > a ):\n",
        "        \n",
        "        ## Inicializamos el ciclo con la simulación con la menor distancia\n",
        "        simulaciones_en_cuantil = np.sqrt(np.amin(X[:,:20]*X[:,:20]+X[:,20:]*X[:,20:],axis=1)) <= quantiles[-1]\n",
        "        startingPoint = (X[simulaciones_en_cuantil][0])\n",
        "\n",
        "        X = np.array([startingPoint])\n",
        "        XA=X[:,:20]\n",
        "        XC=X[:,20:]\n",
        "        ## Simulacion del proceso condicional AR(1) conditionnel\n",
        "        ZA = np.random.multivariate_normal(np.zeros(20), 2*covA,size=n)\n",
        "        ZC = np.random.multivariate_normal(2*mu1, 2*covC,size=n)\n",
        "        Z=np.concatenate((ZA, ZC), axis=1)\n",
        "        for i in range(n):\n",
        "\n",
        "\n",
        "            newXA= rho*(XA[-1:,]) + rho_bar*(ZA[i,:])\n",
        "            newXC= rho*(XC[-1:,]-2*mu1) + rho_bar*(ZC[i,:]-2*mu1)+2*mu1\n",
        "            alpha=np.sqrt(np.amin(newXA*newXA+newXC*newXC))\n",
        "            XC = np.append(XC, newXC*(alpha <=quantiles[-1] )+X[-1:,20:]*(alpha >quantiles[-1] ),axis=0)\n",
        "            XA = np.append(XA, newXA*(alpha <=quantiles[-1] )+X[-1:,:20]*(alpha >quantiles[-1] ),axis=0)\n",
        "            \n",
        "            X=np.concatenate((XA, XC), axis=1)\n",
        "            \n",
        "    # # Ordena las simulaciones en base a la distancia minima en cada simulación  \n",
        "\n",
        "        X=np.array(sorted(list(X),key=lambda x:min(x[:20]*x[:20]+x[20:]*x[20:])))\n",
        "         \n",
        "        renglon = int(np.ceil((1-seuil)*n)-1)\n",
        "        distancia_minima = np.sqrt(np.min((X[renglon,:20]**2+X[renglon, 20:]**2)))\n",
        "        quantiles = np.append(quantiles, distancia_minima)\n",
        "      \n",
        "    ## Nos aseguramos de que el primer nivel sea a\n",
        "    \n",
        "    quantiles = quantiles[:-1]    \n",
        "    quantiles = np.append(quantiles, a)\n",
        "    \n",
        "    quantiles=list(dict.fromkeys(quantiles))\n",
        "    \n",
        "    \n",
        "    return quantiles"
      ],
      "execution_count": 3,
      "outputs": []
    },
    {
      "cell_type": "markdown",
      "metadata": {
        "id": "Rics1Qh1S8jT"
      },
      "source": [
        "#<h3>MCMC<h3>"
      ]
    },
    {
      "cell_type": "code",
      "metadata": {
        "id": "1VEXa5hbM3Tc",
        "colab": {
          "base_uri": "https://localhost:8080/",
          "height": 286
        },
        "outputId": "8732c6aa-36d9-4ded-8967-f20958bf27f7"
      },
      "source": [
        "sigma_c=1\n",
        "r_c=1/57\n",
        "v=8\n",
        "r_a = 0.25\n",
        "\n",
        "covA, covC = covarianzas(r_a, sigma_c, r_c, v)\n",
        "sns.heatmap(covA)"
      ],
      "execution_count": 4,
      "outputs": [
        {
          "output_type": "execute_result",
          "data": {
            "text/plain": [
              "<matplotlib.axes._subplots.AxesSubplot at 0x7f1952029910>"
            ]
          },
          "metadata": {},
          "execution_count": 4
        },
        {
          "output_type": "display_data",
          "data": {
            "image/png": "[encoded data removed]",
            "text/plain": [
              "<Figure size 432x288 with 2 Axes>"
            ]
          },
          "metadata": {
            "needs_background": "light"
          }
        }
      ]
    },
    {
      "cell_type": "code",
      "metadata": {
        "id": "NghADShV_ug-"
      },
      "source": [
        "d=8\n",
        "n = 500\n",
        "mu1 = np.zeros(20)+d/2\n",
        "    \n",
        "XA = np.random.multivariate_normal(np.zeros(20), 2*covA, size=1) + v*np.arange(1,21)\n",
        "XC = np.random.multivariate_normal(2*mu1, 2*covC, size=1)\n",
        "X = np.concatenate((XA, XC), axis=1)\n",
        "\n",
        "ZA = np.random.multivariate_normal(np.zeros(20), 2*covA, size=n) + v*np.arange(1,21)\n",
        "ZC = np.random.multivariate_normal(2*mu1, 2*covC, size=n)\n",
        "Z=np.concatenate((ZA, ZC), axis=1)"
      ],
      "execution_count": 5,
      "outputs": []
    },
    {
      "cell_type": "code",
      "metadata": {
        "id": "EzJhJInJ_wHm",
        "colab": {
          "base_uri": "https://localhost:8080/"
        },
        "outputId": "c97f4460-07ae-4ec0-8404-5169c288e885"
      },
      "source": [
        "print(XA.shape, XC.shape, X.shape)\n",
        "print(ZA.shape, ZC.shape, Z.shape)"
      ],
      "execution_count": 8,
      "outputs": [
        {
          "output_type": "stream",
          "name": "stdout",
          "text": [
            "(1, 20) (1, 20) (1, 40)\n",
            "(500, 20) (500, 20) (500, 40)\n"
          ]
        }
      ]
    },
    {
      "cell_type": "markdown",
      "source": [
        "# Simulaciones con modelo AR (Construcción de la cadena de markov)"
      ],
      "metadata": {
        "id": "tp4lRtbv6Rzu"
      }
    },
    {
      "cell_type": "code",
      "metadata": {
        "id": "5BmSnkKG_hE5"
      },
      "source": [
        "rho = 0.9  # coeficiente\n",
        "rho_bar = np.sqrt(1-rho**2)\n",
        "\n",
        "\n",
        "for i in range(500):\n",
        "  XC = np.append(XC, rho*(XC[-1:,]-2*mu1) + rho_bar*(ZC[i,:]-2*mu1)+2*mu1,axis=0)\n",
        "  XA = np.append(XA, rho*(XA[-1:,]) + rho_bar*(ZA[i,:]),axis=0)                  # en la componente accros, no interviene la distancia\n",
        "  X=np.concatenate((XA, XC), axis=1)\n",
        "\n",
        "print(XA.shape, XC.shape, X.shape)"
      ],
      "execution_count": null,
      "outputs": []
    },
    {
      "cell_type": "markdown",
      "source": [
        "# Encontrar distancias parciales convenientes"
      ],
      "metadata": {
        "id": "NBYvPtK57_OF"
      }
    },
    {
      "cell_type": "code",
      "metadata": {
        "id": "_kBtygSRMilf",
        "colab": {
          "base_uri": "https://localhost:8080/"
        },
        "outputId": "8e680400-927a-451f-da98-38e4b4163c2e"
      },
      "source": [
        "a = 0.1\n",
        "seuil = 0.98\n",
        "rho = 0.9\n",
        "\n",
        "rho_bar = np.sqrt(1-rho**2)\n",
        "d=8\n",
        "n=500\n",
        "\n",
        "niveles = NiveauxSplitting2(a,  seuil, rho, rho_bar, n, d)\n",
        "niveles"
      ],
      "execution_count": 11,
      "outputs": [
        {
          "output_type": "execute_result",
          "data": {
            "text/plain": [
              "[5.292689133010765,\n",
              " 3.7198538833319277,\n",
              " 2.5817873316368414,\n",
              " 1.5479975855443433,\n",
              " 0.4066838898699339,\n",
              " 0.14304406327777766,\n",
              " 0.1]"
            ]
          },
          "metadata": {},
          "execution_count": 11
        }
      ]
    },
    {
      "cell_type": "markdown",
      "source": [
        "# Encontrar la probabilidad de conflicto usando las distancias parciales"
      ],
      "metadata": {
        "id": "cP393re88FRe"
      }
    },
    {
      "cell_type": "code",
      "metadata": {
        "id": "_fDWuv4QS8jU"
      },
      "source": [
        "def probaAR(a, rho, rho_bar, n, d, niveaux):       \n",
        "    \n",
        "    mu1=np.zeros(20)+d/2.\n",
        "\n",
        "    # Simulación de las cadenas para encontrar la probabilidad condicional\n",
        "    ##  con un N cada vez más grande entre menor es la distancia\n",
        "   \n",
        "    XA = np.random.multivariate_normal(np.zeros(20), 2*covA,size=1)\n",
        "    XC = np.random.multivariate_normal(2*mu1, 2*covC,size=1)\n",
        "    X=np.concatenate((XA, XC), axis=1)\n",
        "\n",
        "    ZA = np.random.multivariate_normal(np.zeros(20), 2*covA,size=n)\n",
        "    ZC = np.random.multivariate_normal(2*mu1, 2*covC,size=n)\n",
        "    Z=np.concatenate((ZA, ZC), axis=1)\n",
        "    ## Distancia Parcial 0:\n",
        "    for i in range(n):\n",
        "        XC = np.append(XC, rho*(XC[-1:,]-2*mu1) + rho_bar*(ZC[i,:]-2*mu1)+2*mu1,axis=0)\n",
        "        XA = np.append(XA, rho*(XA[-1:,]) + rho_bar*(ZA[i,:]),axis=0)\n",
        "        X=np.concatenate((XA, XC), axis=1)\n",
        "    \n",
        "    # Distancia mínima al cuadrado por simulación\n",
        "    l=np.sqrt( np.amin(X[:,:20]*X[:,:20]+X[:,20:]*X[:,20:],axis=1))\n",
        "    #Probabilidad de que distancia mínima se acerque más allá del primer corte en d\n",
        "    P = [ np.mean(l<=niveaux[0]) ]\n",
        "    \n",
        "\n",
        "    ## Distancia Parcial l en adelante\n",
        "    k = len(niveaux)\n",
        "    for l in range(1,k):\n",
        "        ## Recuperamos la distancia más pequeña\n",
        "        m = np.sqrt(np.amin(X[:,:20]*X[:,:20]+X[:,20:]*X[:,20:],axis=1))\n",
        "        d_parcial_ant = niveaux[(l-1)]\n",
        "        count_true=sum(m <= d_parcial_ant)\n",
        "        if(count_true>0):\n",
        "          startingPoint = (X[m <= d_parcial_ant][0])\n",
        "        else:\n",
        "          X=np.array(sorted(list(X),key=lambda x:min(x[:20]**2+x[20:]**2)))\n",
        "          startingPoint = X[0]\n",
        "       \n",
        "        X=np.array([startingPoint]) \n",
        "        XA=X[:,:20]\n",
        "        XC=X[:,20:]    \n",
        "      \n",
        "        ZA = np.random.multivariate_normal(np.zeros(20), 2*covA,size=n)\n",
        "        ZC = np.random.multivariate_normal(2*mu1, 2*covC,size=n)\n",
        "        Z=np.concatenate((ZA, ZC), axis=1)\n",
        "        for i in range(n):\n",
        "         \n",
        "          newXA=rho*(XA[-1:,]) + rho_bar*(ZA[i,:])\n",
        "          newXC= rho*(XC[-1:,]-2*mu1) + rho_bar*(ZC[i,:]-2*mu1)+2*mu1\n",
        "          alpha=np.sqrt(np.amin(newXA*newXA+newXC*newXC))\n",
        "          XC = np.append(XC, newXC*(alpha <=d_parcial_ant )+X[-1:,20:]*(alpha >d_parcial_ant ),axis=0)\n",
        "          XA = np.append(XA, newXA*(alpha <=d_parcial_ant )+X[-1:,:20]*(alpha >d_parcial_ant ),axis=0)\n",
        "          X=np.concatenate((XA, XC), axis=1)\n",
        "        \n",
        "        P.append( np.mean(np.sqrt(np.amin(X[:,:20]*X[:,:20]+X[:,20:]*X[:,20:],axis=1))<=niveaux[l]) )\n",
        "    #Obtenemos la probabilidad final\n",
        "    Proba_emp_split =np.prod(P)\n",
        "\n",
        "    return(Proba_emp_split)"
      ],
      "execution_count": 12,
      "outputs": []
    },
    {
      "cell_type": "code",
      "metadata": {
        "colab": {
          "base_uri": "https://localhost:8080/"
        },
        "id": "LJnUQRGES8jU",
        "outputId": "f958e4f0-173f-436e-920c-69232ca86e1b"
      },
      "source": [
        "## Parametros del problema\n",
        "a = 0.1\n",
        "rho = 0.9\n",
        "\n",
        "rho_bar = np.sqrt(1-rho**2)\n",
        "d=8\n",
        "n=1000\n",
        "probaAR(a,  rho, rho_bar, n,d, niveles)"
      ],
      "execution_count": 13,
      "outputs": [
        {
          "output_type": "execute_result",
          "data": {
            "text/plain": [
              "3.491172050241965e-10"
            ]
          },
          "metadata": {},
          "execution_count": 13
        }
      ]
    },
    {
      "cell_type": "code",
      "metadata": {
        "colab": {
          "base_uri": "https://localhost:8080/"
        },
        "id": "sqFeBKU5S8jV",
        "outputId": "dbb7e492-3f9d-4abb-bef2-391f338d5b56"
      },
      "source": [
        "# Calculamos el erro de nuestra estimación\n",
        "a = 0.1\n",
        "seuil = 0.99\n",
        "rho = 0.9\n",
        "\n",
        "rho_bar = np.sqrt(1-rho**2)\n",
        "d=6\n",
        "n=500\n",
        "\n",
        "niveles = NiveauxSplitting2(a,  seuil, rho, rho_bar, 500, d)\n",
        "\n",
        "\n",
        "a = 0.1\n",
        "rho = 0.9\n",
        "rho_bar = np.sqrt(1-rho**2)\n",
        "n=1500\n",
        "l=[]\n",
        "for i in range(10):\n",
        "  l.append(probaAR(a,  rho, rho_bar, n, d, niveles))\n",
        "\n",
        "h=[np.mean(l),np.var(l),2*((np.var(l)/n)**0.5)]\n",
        "print(h)"
      ],
      "execution_count": 14,
      "outputs": [
        {
          "output_type": "stream",
          "name": "stdout",
          "text": [
            "[1.0212067981836018e-06, 8.374445623274848e-13, 4.7256592127871e-08]\n"
          ]
        }
      ]
    }
  ]
}