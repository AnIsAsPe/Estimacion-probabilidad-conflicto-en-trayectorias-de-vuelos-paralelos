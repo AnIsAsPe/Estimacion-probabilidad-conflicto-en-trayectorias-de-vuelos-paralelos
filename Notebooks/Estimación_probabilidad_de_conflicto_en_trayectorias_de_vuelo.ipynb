{
  "nbformat": 4,
  "nbformat_minor": 0,
  "metadata": {
    "kernelspec": {
      "display_name": "Python 3",
      "language": "python",
      "name": "python3"
    },
    "language_info": {
      "codemirror_mode": {
        "name": "ipython",
        "version": 3
      },
      "file_extension": ".py",
      "mimetype": "text/x-python",
      "name": "python",
      "nbconvert_exporter": "python",
      "pygments_lexer": "ipython3",
      "version": "3.7.3"
    },
    "colab": {
      "name": "Estimación probabilidad de conflicto en trayectorias de vuelo.ipynb",
      "provenance": [],
      "collapsed_sections": [],
      "toc_visible": true,
      "include_colab_link": true
    }
  },
  "cells": [
    {
      "cell_type": "markdown",
      "metadata": {
        "id": "view-in-github",
        "colab_type": "text"
      },
      "source": [
        "<a href=\"https://colab.research.google.com/github/AnIsAsPe/Estimacion-probabilidad-conflicto-en-trayectorias-de-vuelos-paralelos/blob/main/Notebooks/Estimaci%C3%B3n_probabilidad_de_conflicto_en_trayectorias_de_vuelo.ipynb\" target=\"_parent\"><img src=\"https://colab.research.google.com/assets/colab-badge.svg\" alt=\"Open In Colab\"/></a>"
      ]
    },
    {
      "cell_type": "markdown",
      "metadata": {
        "id": "apriGpjnyXX1"
      },
      "source": [
        "# Bibliotecas"
      ]
    },
    {
      "cell_type": "code",
      "metadata": {
        "id": "das9mGfMyXX5"
      },
      "source": [
        "import numpy as np\n",
        "import pandas as pd\n",
        "import matplotlib.pyplot as plt\n",
        "# import scipy.linalg\n",
        "import math\n",
        "from scipy import stats\n",
        "import matplotlib.pyplot as plt\n",
        "import seaborn as sns"
      ],
      "execution_count": 1,
      "outputs": []
    },
    {
      "cell_type": "markdown",
      "metadata": {
        "id": "a7GbKyD_BcE5"
      },
      "source": [
        "# Funciones"
      ]
    },
    {
      "cell_type": "markdown",
      "metadata": {
        "id": "vMxYuMPdArRc"
      },
      "source": [
        "**covarianza_a()**\n",
        "\n",
        "$\\mathbb{Cov}(error_{a,t},~error_{a,s}) = r_a^2t^2$\n"
      ]
    },
    {
      "cell_type": "code",
      "metadata": {
        "id": "H29_amxzI7zM"
      },
      "source": [
        "# COVARIANZA ALONG TRACK\n",
        "def covarianza_a(r_a):  \n",
        "      cov_a = pd.DataFrame(np.zeros((21,21)), index=range(21), columns=range(21))\n",
        "      for s in range(21):\n",
        "          for t in range(1,s):\n",
        "                cov_a.loc[t,s]=cov_a.loc[s,t]=(r_a**2)*((t)**2)\n",
        "      return cov_a"
      ],
      "execution_count": 2,
      "outputs": []
    },
    {
      "cell_type": "markdown",
      "metadata": {
        "id": "sY8smi5yA-9x"
      },
      "source": [
        "**covarianza_c()**\n",
        "\n",
        "$\\mathbb{Cov}(error_{c,t},~error_{c,s}) = \\sigma_c^2(1-e^{-2\\frac{r_c}{\\sigma_c}vt})e^{-\\frac{r_c}{\\sigma_c}v(s-t)}$"
      ]
    },
    {
      "cell_type": "code",
      "metadata": {
        "id": "s2WGn8dBItrg"
      },
      "source": [
        "# COVARIANZA CROSS TRACK\n",
        "\n",
        "def covarianza_c(sigma_c, r_c, v ):\n",
        "      cov_c = pd.DataFrame(np.zeros((21,21)), index=range(21), columns=range(21)) \n",
        "      for s in range(21):\n",
        "          cov_c.loc[s,s] = (sigma_c**2) * (1-np.exp(-2 * r_c * v * (s) /sigma_c))\n",
        "          for t in range(1,s):\n",
        "              cov_c.loc[t,s] = cov_c.loc[s,t] = (sigma_c**2)*(1-np.exp(-2*r_c*v*(t)/sigma_c))*np.exp(-r_c*v*(s-t)/sigma_c)\n",
        "      return cov_c"
      ],
      "execution_count": 3,
      "outputs": []
    },
    {
      "cell_type": "markdown",
      "metadata": {
        "id": "7uS1-lZgBML5"
      },
      "source": [
        "**simulacion_error()**"
      ]
    },
    {
      "cell_type": "code",
      "metadata": {
        "id": "tWBgy4V7Vxu5"
      },
      "source": [
        "def simulacion_error(matriz_covarianza, n_simulaciones = 1):\n",
        "  error = pd.DataFrame(np.random.multivariate_normal(np.zeros(len(matriz_covarianza)), \n",
        "                                                       matriz_covarianza, \n",
        "                                                       size = n_simulaciones), \n",
        "                              index =['simulación_'+str(a) for a in range(1, n_simulaciones+1)], \n",
        "                              columns=['min_' + str(t) for t in range(21)]) \n",
        "  return error"
      ],
      "execution_count": 4,
      "outputs": []
    },
    {
      "cell_type": "markdown",
      "metadata": {
        "id": "97b_r5JZUlUE"
      },
      "source": [
        "**probabilidad_de_conflicto**"
      ]
    },
    {
      "cell_type": "code",
      "metadata": {
        "id": "OkmxoON_OgIZ"
      },
      "source": [
        "def probabilidad_de_conflicto(velocidad, distancia, r_a, r_c, sigma_c, n_simulaciones):\n",
        "\n",
        "    # CÁLCULO DE COVARIANZAS\n",
        "    cov_c = covarianza_c(sigma_c, r_c, velocidad)\n",
        "    cov_a = covarianza_a(r_a)\n",
        "\n",
        "    X_a = {}    # diccionario para guardar las cordenadas Along-Track de cada aeronave\n",
        "    X_c = {}    # diccionario para guardar las coordenadas Cross-Track de cada aeronave\n",
        "\n",
        "    for aeronave, signo_posicion in zip(['A','B'], (1,-1)):\n",
        "\n",
        "        # SIMULACIÖN DE LOS ERRORES\n",
        "\n",
        "        error_c = simulacion_error(cov_c, n_simulaciones)\n",
        "        error_a = simulacion_error(cov_a, n_simulaciones)\n",
        "\n",
        "        # CÁLCULO DE LAS COORDENADAS Along-Track (X_a = v_por_t + error)\n",
        "\n",
        "        # Obtenemos v * t para cada t\n",
        "        v_por_t = pd.Series( velocidad * np.arange(21), \n",
        "                            index=['min_' + str(t) for t in range(21)])\n",
        "    \n",
        "        X_a[aeronave] = v_por_t + error_a\n",
        "\n",
        "        # CÁLCULO DE COORDENADAS Cross-Track(\n",
        "\n",
        "        X_c[aeronave] = error_c +( distancia/2 * signo_posicion)\n",
        "\n",
        "    # PROBABILIDAD DE CONFLICTO\n",
        "    a = 0.1\n",
        "    Z = np.min((X_c['A']-X_c['B'])**2+(X_a['A']-X_a['B'])**2, axis=1) < a**2\n",
        "    probabilidad = Z.mean()\n",
        "    varianza = p*(1-p)\n",
        "    error = 2*((p*(1-p)/n)**0.5)\n",
        "\n",
        "    return probabilidad, varianza, error, Z"
      ],
      "execution_count": 5,
      "outputs": []
    },
    {
      "cell_type": "markdown",
      "metadata": {
        "id": "dojrJ78aOdGQ"
      },
      "source": [
        "# [Covarianza ](https://en.wikipedia.org/wiki/Covariance) entre dos gausianas"
      ]
    },
    {
      "cell_type": "code",
      "metadata": {
        "colab": {
          "base_uri": "https://localhost:8080/",
          "height": 474
        },
        "id": "LvlOIiixKVh3",
        "outputId": "c717b0a4-8cc1-4e78-b3fc-332abe0f9af3"
      },
      "source": [
        "x1 = np.random.normal(loc=0, scale=1, size = 1000)\n",
        "y1 = np.random.normal(loc=0, scale = 1, size=1000)\n",
        "sns.jointplot(x=x1, y= y1, kind = 'scatter', color = 'darkcyan', s = 2 )\n",
        "M_covarianza1 = np.cov(x1, y1)\n",
        "print(M_covarianza1.round(2))\n",
        "plt.show()"
      ],
      "execution_count": 6,
      "outputs": [
        {
          "output_type": "stream",
          "name": "stdout",
          "text": [
            "[[1.03 0.01]\n",
            " [0.01 1.03]]\n"
          ]
        },
        {
          "output_type": "display_data",
          "data": {
            "image/png": "[encoded data removed]",
            "text/plain": [
              "<Figure size 432x432 with 3 Axes>"
            ]
          },
          "metadata": {
            "needs_background": "light"
          }
        }
      ]
    },
    {
      "cell_type": "code",
      "metadata": {
        "colab": {
          "base_uri": "https://localhost:8080/",
          "height": 474
        },
        "id": "grk-P9wXMScs",
        "outputId": "efd42422-c493-4424-cf90-ba152c33f0be"
      },
      "source": [
        "x2  = np.random.normal(loc=5, scale=1.2, size = 1000)\n",
        "y2 = 6 - 2*x2 + np.random.normal(size=1000)\n",
        "sns.jointplot(x=x2, y= y2, kind = 'scatter', color = 'darkcyan', s = 2 )\n",
        "M_covarianza2 = np.cov(x2, y2)\n",
        "print(M_covarianza2.round(2))\n",
        "plt.show()"
      ],
      "execution_count": 7,
      "outputs": [
        {
          "output_type": "stream",
          "name": "stdout",
          "text": [
            "[[ 1.37 -2.7 ]\n",
            " [-2.7   6.4 ]]\n"
          ]
        },
        {
          "output_type": "display_data",
          "data": {
            "image/png": "[encoded data removed]",
            "text/plain": [
              "<Figure size 432x432 with 3 Axes>"
            ]
          },
          "metadata": {
            "needs_background": "light"
          }
        }
      ]
    },
    {
      "cell_type": "markdown",
      "metadata": {
        "id": "vO70lSf6TzwZ"
      },
      "source": [
        "podríamos generar las coordenadas de puntos aleatoiros por medio de la distribución normal multivariada, ingresando las medias y la matriz de covarianza"
      ]
    },
    {
      "cell_type": "code",
      "metadata": {
        "colab": {
          "base_uri": "https://localhost:8080/"
        },
        "id": "z7Kctd-F_NMZ",
        "outputId": "b355bc7d-156b-41d7-b5ea-28e2513c2f5a"
      },
      "source": [
        "medias = np.array((x2.mean(), y2.mean()))\n",
        "medias.shape, M_covarianza2.shape"
      ],
      "execution_count": 8,
      "outputs": [
        {
          "output_type": "execute_result",
          "data": {
            "text/plain": [
              "((2,), (2, 2))"
            ]
          },
          "metadata": {},
          "execution_count": 8
        }
      ]
    },
    {
      "cell_type": "code",
      "metadata": {
        "colab": {
          "base_uri": "https://localhost:8080/"
        },
        "id": "GEBP5KjiRMY2",
        "outputId": "e6784555-541f-49a3-b4e8-25bcb8592eb0"
      },
      "source": [
        "coordenadas = np.random.multivariate_normal(mean = medias, cov = M_covarianza2, size = 1000)\n",
        "coordenadas.shape"
      ],
      "execution_count": 9,
      "outputs": [
        {
          "output_type": "execute_result",
          "data": {
            "text/plain": [
              "(1000, 2)"
            ]
          },
          "metadata": {},
          "execution_count": 9
        }
      ]
    },
    {
      "cell_type": "code",
      "metadata": {
        "colab": {
          "base_uri": "https://localhost:8080/",
          "height": 441
        },
        "id": "olFjfjWeS4kH",
        "outputId": "a60c4e71-3725-413e-e468-a80b47f21c2c"
      },
      "source": [
        "sns.jointplot(x=coordenadas[:,0], y=coordenadas[:,1], kind = 'scatter', color = 'darkcyan', s = 2 )\n",
        "plt.show()"
      ],
      "execution_count": 10,
      "outputs": [
        {
          "output_type": "display_data",
          "data": {
            "image/png": "[encoded data removed]",
            "text/plain": [
              "<Figure size 432x432 with 3 Axes>"
            ]
          },
          "metadata": {
            "needs_background": "light"
          }
        }
      ]
    },
    {
      "cell_type": "markdown",
      "metadata": {
        "id": "Dpc99SR8Q2xV"
      },
      "source": [
        "# Estimacion de la probabilidad de conflicto entre dos aviones\n",
        "Dos aviones se consideran en conflicto cuando la distancia entre ellos es menor al umbral de 0.1 nmi en algun punto de sus trayectorias."
      ]
    },
    {
      "cell_type": "markdown",
      "metadata": {
        "id": "BAO91yLeyXX6"
      },
      "source": [
        "## 1) Simulación de trayectorias de vuelo\n",
        "La estimación de probabilidad de conflicto se calcua para trayectorias de 20 min\n",
        "La trayectoria de cada vuelo se define en el tiempo mediante dos coordenadas $Xa$ y $Xc$\n"
      ]
    },
    {
      "cell_type": "markdown",
      "metadata": {
        "id": "VAWnHL8vhIXh"
      },
      "source": [
        "![image.png](https://drive.google.com/uc?id=1KetZH3OEStTkAYjZEtjLJeEY__dMPoEH)\n",
        "\n",
        "$x_t = (x_{a,t}, x_{c,t})$\n",
        "\n",
        "$x_{a,t} = vt + error_{a,t}~~~~$  (Along-track component)\n",
        "\n",
        "$x_{c,t} = error_{c,t}~~~~~~~~~~~~~$       (Cross-track component)\n",
        "\n",
        "\n",
        "Se simularán coordenadas de cada avion en intervalos regulares de un minuto"
      ]
    },
    {
      "cell_type": "markdown",
      "metadata": {
        "id": "VtEiqUxojQ1e"
      },
      "source": [
        "### 1.1) Partimos de la Matriz de Covarianza de los errores en el tiempo\n",
        "**Tanto para el componente along-track, como para el cors-track.**\n",
        "\n",
        "\n",
        "\n"
      ]
    },
    {
      "cell_type": "markdown",
      "metadata": {
        "id": "pmHP_vt2CvsQ"
      },
      "source": [
        "$\\mathbb{Cov}(error_{a,t},~error_{a,s}) = r_a^2t^2$\n",
        "\n",
        "$\\mathbb{Cov}(error_{c,t},~error_{c,s}) = \\sigma_c^2(1-e^{-2\\frac{r_c}{\\sigma_c}vt})e^{-\\frac{r_c}{\\sigma_c}v(s-t)}$\n",
        "\n",
        "\n",
        "---\n",
        "R. A. Paielli y H. Erzberger, «Conflict Probability Estimation for Free Flight», Journal of Guidance, Control, and Dynamics, may 2012, doi: 10.2514/2.4081.\n"
      ]
    },
    {
      "cell_type": "code",
      "metadata": {
        "id": "10DHLCg094SX"
      },
      "source": [
        "v = 8           # velocidad (nmi/min)(nmi -> millas naúticas)\n",
        "\n",
        "# Para aviones con turvina civil se tiene\n",
        "r_c = 1/57      #  nmi/min \n",
        "sigma_c = 1     #  nmi\n",
        "\n",
        "r_a = 0         # se omiten los errores along-track\n",
        "\n",
        "# CÁLCULO DE COVARIANZAS\n",
        "cov_c = covarianza_c(sigma_c, r_c, v)\n",
        "cov_a = covarianza_a(r_a)"
      ],
      "execution_count": 11,
      "outputs": []
    },
    {
      "cell_type": "code",
      "metadata": {
        "colab": {
          "base_uri": "https://localhost:8080/",
          "height": 712
        },
        "id": "SvJOk4J6za8R",
        "outputId": "3499c96c-5319-4400-9786-f372fe14e35c"
      },
      "source": [
        "cov_c"
      ],
      "execution_count": 12,
      "outputs": [
        {
          "output_type": "execute_result",
          "data": {
            "text/html": [
              "<div>\n",
              "<style scoped>\n",
              "    .dataframe tbody tr th:only-of-type {\n",
              "        vertical-align: middle;\n",
              "    }\n",
              "\n",
              "    .dataframe tbody tr th {\n",
              "        vertical-align: top;\n",
              "    }\n",
              "\n",
              "    .dataframe thead th {\n",
              "        text-align: right;\n",
              "    }\n",
              "</style>\n",
              "<table border=\"1\" class=\"dataframe\">\n",
              "  <thead>\n",
              "    <tr style=\"text-align: right;\">\n",
              "      <th></th>\n",
              "      <th>0</th>\n",
              "      <th>1</th>\n",
              "      <th>2</th>\n",
              "      <th>3</th>\n",
              "      <th>4</th>\n",
              "      <th>5</th>\n",
              "      <th>6</th>\n",
              "      <th>7</th>\n",
              "      <th>8</th>\n",
              "      <th>9</th>\n",
              "      <th>10</th>\n",
              "      <th>11</th>\n",
              "      <th>12</th>\n",
              "      <th>13</th>\n",
              "      <th>14</th>\n",
              "      <th>15</th>\n",
              "      <th>16</th>\n",
              "      <th>17</th>\n",
              "      <th>18</th>\n",
              "      <th>19</th>\n",
              "      <th>20</th>\n",
              "    </tr>\n",
              "  </thead>\n",
              "  <tbody>\n",
              "    <tr>\n",
              "      <th>0</th>\n",
              "      <td>0.0</td>\n",
              "      <td>0.000000</td>\n",
              "      <td>0.000000</td>\n",
              "      <td>0.000000</td>\n",
              "      <td>0.000000</td>\n",
              "      <td>0.000000</td>\n",
              "      <td>0.000000</td>\n",
              "      <td>0.000000</td>\n",
              "      <td>0.000000</td>\n",
              "      <td>0.000000</td>\n",
              "      <td>0.000000</td>\n",
              "      <td>0.000000</td>\n",
              "      <td>0.000000</td>\n",
              "      <td>0.000000</td>\n",
              "      <td>0.000000</td>\n",
              "      <td>0.000000</td>\n",
              "      <td>0.000000</td>\n",
              "      <td>0.000000</td>\n",
              "      <td>0.000000</td>\n",
              "      <td>0.000000</td>\n",
              "      <td>0.000000</td>\n",
              "    </tr>\n",
              "    <tr>\n",
              "      <th>1</th>\n",
              "      <td>0.0</td>\n",
              "      <td>0.244746</td>\n",
              "      <td>0.212698</td>\n",
              "      <td>0.184846</td>\n",
              "      <td>0.160641</td>\n",
              "      <td>0.139605</td>\n",
              "      <td>0.121324</td>\n",
              "      <td>0.105437</td>\n",
              "      <td>0.091631</td>\n",
              "      <td>0.079632</td>\n",
              "      <td>0.069204</td>\n",
              "      <td>0.060142</td>\n",
              "      <td>0.052267</td>\n",
              "      <td>0.045423</td>\n",
              "      <td>0.039475</td>\n",
              "      <td>0.034306</td>\n",
              "      <td>0.029813</td>\n",
              "      <td>0.025909</td>\n",
              "      <td>0.022517</td>\n",
              "      <td>0.019568</td>\n",
              "      <td>0.017006</td>\n",
              "    </tr>\n",
              "    <tr>\n",
              "      <th>2</th>\n",
              "      <td>0.0</td>\n",
              "      <td>0.212698</td>\n",
              "      <td>0.429592</td>\n",
              "      <td>0.373338</td>\n",
              "      <td>0.324451</td>\n",
              "      <td>0.281965</td>\n",
              "      <td>0.245043</td>\n",
              "      <td>0.212955</td>\n",
              "      <td>0.185069</td>\n",
              "      <td>0.160835</td>\n",
              "      <td>0.139774</td>\n",
              "      <td>0.121471</td>\n",
              "      <td>0.105565</td>\n",
              "      <td>0.091742</td>\n",
              "      <td>0.079728</td>\n",
              "      <td>0.069288</td>\n",
              "      <td>0.060215</td>\n",
              "      <td>0.052330</td>\n",
              "      <td>0.045478</td>\n",
              "      <td>0.039523</td>\n",
              "      <td>0.034347</td>\n",
              "    </tr>\n",
              "    <tr>\n",
              "      <th>3</th>\n",
              "      <td>0.0</td>\n",
              "      <td>0.184846</td>\n",
              "      <td>0.373338</td>\n",
              "      <td>0.569197</td>\n",
              "      <td>0.494663</td>\n",
              "      <td>0.429888</td>\n",
              "      <td>0.373596</td>\n",
              "      <td>0.324675</td>\n",
              "      <td>0.282160</td>\n",
              "      <td>0.245212</td>\n",
              "      <td>0.213102</td>\n",
              "      <td>0.185197</td>\n",
              "      <td>0.160946</td>\n",
              "      <td>0.139871</td>\n",
              "      <td>0.121555</td>\n",
              "      <td>0.105638</td>\n",
              "      <td>0.091805</td>\n",
              "      <td>0.079783</td>\n",
              "      <td>0.069336</td>\n",
              "      <td>0.060257</td>\n",
              "      <td>0.052366</td>\n",
              "    </tr>\n",
              "    <tr>\n",
              "      <th>4</th>\n",
              "      <td>0.0</td>\n",
              "      <td>0.160641</td>\n",
              "      <td>0.324451</td>\n",
              "      <td>0.494663</td>\n",
              "      <td>0.674635</td>\n",
              "      <td>0.586294</td>\n",
              "      <td>0.509520</td>\n",
              "      <td>0.442800</td>\n",
              "      <td>0.384817</td>\n",
              "      <td>0.334426</td>\n",
              "      <td>0.290634</td>\n",
              "      <td>0.252577</td>\n",
              "      <td>0.219503</td>\n",
              "      <td>0.190760</td>\n",
              "      <td>0.165780</td>\n",
              "      <td>0.144072</td>\n",
              "      <td>0.125206</td>\n",
              "      <td>0.108811</td>\n",
              "      <td>0.094562</td>\n",
              "      <td>0.082180</td>\n",
              "      <td>0.071419</td>\n",
              "    </tr>\n",
              "    <tr>\n",
              "      <th>5</th>\n",
              "      <td>0.0</td>\n",
              "      <td>0.139605</td>\n",
              "      <td>0.281965</td>\n",
              "      <td>0.429888</td>\n",
              "      <td>0.586294</td>\n",
              "      <td>0.754267</td>\n",
              "      <td>0.655498</td>\n",
              "      <td>0.569663</td>\n",
              "      <td>0.495067</td>\n",
              "      <td>0.430240</td>\n",
              "      <td>0.373901</td>\n",
              "      <td>0.324940</td>\n",
              "      <td>0.282390</td>\n",
              "      <td>0.245412</td>\n",
              "      <td>0.213276</td>\n",
              "      <td>0.185348</td>\n",
              "      <td>0.161078</td>\n",
              "      <td>0.139985</td>\n",
              "      <td>0.121654</td>\n",
              "      <td>0.105724</td>\n",
              "      <td>0.091880</td>\n",
              "    </tr>\n",
              "    <tr>\n",
              "      <th>6</th>\n",
              "      <td>0.0</td>\n",
              "      <td>0.121324</td>\n",
              "      <td>0.245043</td>\n",
              "      <td>0.373596</td>\n",
              "      <td>0.509520</td>\n",
              "      <td>0.655498</td>\n",
              "      <td>0.814409</td>\n",
              "      <td>0.707765</td>\n",
              "      <td>0.615085</td>\n",
              "      <td>0.534542</td>\n",
              "      <td>0.464545</td>\n",
              "      <td>0.403715</td>\n",
              "      <td>0.350850</td>\n",
              "      <td>0.304907</td>\n",
              "      <td>0.264980</td>\n",
              "      <td>0.230282</td>\n",
              "      <td>0.200127</td>\n",
              "      <td>0.173921</td>\n",
              "      <td>0.151147</td>\n",
              "      <td>0.131355</td>\n",
              "      <td>0.114154</td>\n",
              "    </tr>\n",
              "    <tr>\n",
              "      <th>7</th>\n",
              "      <td>0.0</td>\n",
              "      <td>0.105437</td>\n",
              "      <td>0.212955</td>\n",
              "      <td>0.324675</td>\n",
              "      <td>0.442800</td>\n",
              "      <td>0.569663</td>\n",
              "      <td>0.707765</td>\n",
              "      <td>0.859832</td>\n",
              "      <td>0.747240</td>\n",
              "      <td>0.649391</td>\n",
              "      <td>0.564355</td>\n",
              "      <td>0.490455</td>\n",
              "      <td>0.426231</td>\n",
              "      <td>0.370418</td>\n",
              "      <td>0.321913</td>\n",
              "      <td>0.279759</td>\n",
              "      <td>0.243126</td>\n",
              "      <td>0.211289</td>\n",
              "      <td>0.183622</td>\n",
              "      <td>0.159577</td>\n",
              "      <td>0.138681</td>\n",
              "    </tr>\n",
              "    <tr>\n",
              "      <th>8</th>\n",
              "      <td>0.0</td>\n",
              "      <td>0.091631</td>\n",
              "      <td>0.185069</td>\n",
              "      <td>0.282160</td>\n",
              "      <td>0.384817</td>\n",
              "      <td>0.495067</td>\n",
              "      <td>0.615085</td>\n",
              "      <td>0.747240</td>\n",
              "      <td>0.894137</td>\n",
              "      <td>0.777053</td>\n",
              "      <td>0.675301</td>\n",
              "      <td>0.586872</td>\n",
              "      <td>0.510023</td>\n",
              "      <td>0.443237</td>\n",
              "      <td>0.385197</td>\n",
              "      <td>0.334757</td>\n",
              "      <td>0.290921</td>\n",
              "      <td>0.252826</td>\n",
              "      <td>0.219719</td>\n",
              "      <td>0.190948</td>\n",
              "      <td>0.165944</td>\n",
              "    </tr>\n",
              "    <tr>\n",
              "      <th>9</th>\n",
              "      <td>0.0</td>\n",
              "      <td>0.079632</td>\n",
              "      <td>0.160835</td>\n",
              "      <td>0.245212</td>\n",
              "      <td>0.334426</td>\n",
              "      <td>0.430240</td>\n",
              "      <td>0.534542</td>\n",
              "      <td>0.649391</td>\n",
              "      <td>0.777053</td>\n",
              "      <td>0.920047</td>\n",
              "      <td>0.799570</td>\n",
              "      <td>0.694869</td>\n",
              "      <td>0.603878</td>\n",
              "      <td>0.524802</td>\n",
              "      <td>0.456081</td>\n",
              "      <td>0.396359</td>\n",
              "      <td>0.344457</td>\n",
              "      <td>0.299351</td>\n",
              "      <td>0.260152</td>\n",
              "      <td>0.226086</td>\n",
              "      <td>0.196481</td>\n",
              "    </tr>\n",
              "    <tr>\n",
              "      <th>10</th>\n",
              "      <td>0.0</td>\n",
              "      <td>0.069204</td>\n",
              "      <td>0.139774</td>\n",
              "      <td>0.213102</td>\n",
              "      <td>0.290634</td>\n",
              "      <td>0.373901</td>\n",
              "      <td>0.464545</td>\n",
              "      <td>0.564355</td>\n",
              "      <td>0.675301</td>\n",
              "      <td>0.799570</td>\n",
              "      <td>0.939615</td>\n",
              "      <td>0.816576</td>\n",
              "      <td>0.709648</td>\n",
              "      <td>0.616722</td>\n",
              "      <td>0.535964</td>\n",
              "      <td>0.465781</td>\n",
              "      <td>0.404789</td>\n",
              "      <td>0.351783</td>\n",
              "      <td>0.305718</td>\n",
              "      <td>0.265685</td>\n",
              "      <td>0.230895</td>\n",
              "    </tr>\n",
              "    <tr>\n",
              "      <th>11</th>\n",
              "      <td>0.0</td>\n",
              "      <td>0.060142</td>\n",
              "      <td>0.121471</td>\n",
              "      <td>0.185197</td>\n",
              "      <td>0.252577</td>\n",
              "      <td>0.324940</td>\n",
              "      <td>0.403715</td>\n",
              "      <td>0.490455</td>\n",
              "      <td>0.586872</td>\n",
              "      <td>0.694869</td>\n",
              "      <td>0.816576</td>\n",
              "      <td>0.954394</td>\n",
              "      <td>0.829419</td>\n",
              "      <td>0.720810</td>\n",
              "      <td>0.626422</td>\n",
              "      <td>0.544394</td>\n",
              "      <td>0.473107</td>\n",
              "      <td>0.411155</td>\n",
              "      <td>0.357316</td>\n",
              "      <td>0.310527</td>\n",
              "      <td>0.269864</td>\n",
              "    </tr>\n",
              "    <tr>\n",
              "      <th>12</th>\n",
              "      <td>0.0</td>\n",
              "      <td>0.052267</td>\n",
              "      <td>0.105565</td>\n",
              "      <td>0.160946</td>\n",
              "      <td>0.219503</td>\n",
              "      <td>0.282390</td>\n",
              "      <td>0.350850</td>\n",
              "      <td>0.426231</td>\n",
              "      <td>0.510023</td>\n",
              "      <td>0.603878</td>\n",
              "      <td>0.709648</td>\n",
              "      <td>0.829419</td>\n",
              "      <td>0.965556</td>\n",
              "      <td>0.839120</td>\n",
              "      <td>0.729240</td>\n",
              "      <td>0.633748</td>\n",
              "      <td>0.550761</td>\n",
              "      <td>0.478640</td>\n",
              "      <td>0.415964</td>\n",
              "      <td>0.361495</td>\n",
              "      <td>0.314158</td>\n",
              "    </tr>\n",
              "    <tr>\n",
              "      <th>13</th>\n",
              "      <td>0.0</td>\n",
              "      <td>0.045423</td>\n",
              "      <td>0.091742</td>\n",
              "      <td>0.139871</td>\n",
              "      <td>0.190760</td>\n",
              "      <td>0.245412</td>\n",
              "      <td>0.304907</td>\n",
              "      <td>0.370418</td>\n",
              "      <td>0.443237</td>\n",
              "      <td>0.524802</td>\n",
              "      <td>0.616722</td>\n",
              "      <td>0.720810</td>\n",
              "      <td>0.839120</td>\n",
              "      <td>0.973986</td>\n",
              "      <td>0.846446</td>\n",
              "      <td>0.735606</td>\n",
              "      <td>0.639281</td>\n",
              "      <td>0.555569</td>\n",
              "      <td>0.482819</td>\n",
              "      <td>0.419596</td>\n",
              "      <td>0.364651</td>\n",
              "    </tr>\n",
              "    <tr>\n",
              "      <th>14</th>\n",
              "      <td>0.0</td>\n",
              "      <td>0.039475</td>\n",
              "      <td>0.079728</td>\n",
              "      <td>0.121555</td>\n",
              "      <td>0.165780</td>\n",
              "      <td>0.213276</td>\n",
              "      <td>0.264980</td>\n",
              "      <td>0.321913</td>\n",
              "      <td>0.385197</td>\n",
              "      <td>0.456081</td>\n",
              "      <td>0.535964</td>\n",
              "      <td>0.626422</td>\n",
              "      <td>0.729240</td>\n",
              "      <td>0.846446</td>\n",
              "      <td>0.980353</td>\n",
              "      <td>0.851979</td>\n",
              "      <td>0.740415</td>\n",
              "      <td>0.643460</td>\n",
              "      <td>0.559201</td>\n",
              "      <td>0.485975</td>\n",
              "      <td>0.422339</td>\n",
              "    </tr>\n",
              "    <tr>\n",
              "      <th>15</th>\n",
              "      <td>0.0</td>\n",
              "      <td>0.034306</td>\n",
              "      <td>0.069288</td>\n",
              "      <td>0.105638</td>\n",
              "      <td>0.144072</td>\n",
              "      <td>0.185348</td>\n",
              "      <td>0.230282</td>\n",
              "      <td>0.279759</td>\n",
              "      <td>0.334757</td>\n",
              "      <td>0.396359</td>\n",
              "      <td>0.465781</td>\n",
              "      <td>0.544394</td>\n",
              "      <td>0.633748</td>\n",
              "      <td>0.735606</td>\n",
              "      <td>0.851979</td>\n",
              "      <td>0.985161</td>\n",
              "      <td>0.856158</td>\n",
              "      <td>0.744047</td>\n",
              "      <td>0.646616</td>\n",
              "      <td>0.561944</td>\n",
              "      <td>0.488359</td>\n",
              "    </tr>\n",
              "    <tr>\n",
              "      <th>16</th>\n",
              "      <td>0.0</td>\n",
              "      <td>0.029813</td>\n",
              "      <td>0.060215</td>\n",
              "      <td>0.091805</td>\n",
              "      <td>0.125206</td>\n",
              "      <td>0.161078</td>\n",
              "      <td>0.200127</td>\n",
              "      <td>0.243126</td>\n",
              "      <td>0.290921</td>\n",
              "      <td>0.344457</td>\n",
              "      <td>0.404789</td>\n",
              "      <td>0.473107</td>\n",
              "      <td>0.550761</td>\n",
              "      <td>0.639281</td>\n",
              "      <td>0.740415</td>\n",
              "      <td>0.856158</td>\n",
              "      <td>0.988793</td>\n",
              "      <td>0.859314</td>\n",
              "      <td>0.746790</td>\n",
              "      <td>0.649000</td>\n",
              "      <td>0.564015</td>\n",
              "    </tr>\n",
              "    <tr>\n",
              "      <th>17</th>\n",
              "      <td>0.0</td>\n",
              "      <td>0.025909</td>\n",
              "      <td>0.052330</td>\n",
              "      <td>0.079783</td>\n",
              "      <td>0.108811</td>\n",
              "      <td>0.139985</td>\n",
              "      <td>0.173921</td>\n",
              "      <td>0.211289</td>\n",
              "      <td>0.252826</td>\n",
              "      <td>0.299351</td>\n",
              "      <td>0.351783</td>\n",
              "      <td>0.411155</td>\n",
              "      <td>0.478640</td>\n",
              "      <td>0.555569</td>\n",
              "      <td>0.643460</td>\n",
              "      <td>0.744047</td>\n",
              "      <td>0.859314</td>\n",
              "      <td>0.991536</td>\n",
              "      <td>0.861698</td>\n",
              "      <td>0.748861</td>\n",
              "      <td>0.650800</td>\n",
              "    </tr>\n",
              "    <tr>\n",
              "      <th>18</th>\n",
              "      <td>0.0</td>\n",
              "      <td>0.022517</td>\n",
              "      <td>0.045478</td>\n",
              "      <td>0.069336</td>\n",
              "      <td>0.094562</td>\n",
              "      <td>0.121654</td>\n",
              "      <td>0.151147</td>\n",
              "      <td>0.183622</td>\n",
              "      <td>0.219719</td>\n",
              "      <td>0.260152</td>\n",
              "      <td>0.305718</td>\n",
              "      <td>0.357316</td>\n",
              "      <td>0.415964</td>\n",
              "      <td>0.482819</td>\n",
              "      <td>0.559201</td>\n",
              "      <td>0.646616</td>\n",
              "      <td>0.746790</td>\n",
              "      <td>0.861698</td>\n",
              "      <td>0.993608</td>\n",
              "      <td>0.863498</td>\n",
              "      <td>0.750426</td>\n",
              "    </tr>\n",
              "    <tr>\n",
              "      <th>19</th>\n",
              "      <td>0.0</td>\n",
              "      <td>0.019568</td>\n",
              "      <td>0.039523</td>\n",
              "      <td>0.060257</td>\n",
              "      <td>0.082180</td>\n",
              "      <td>0.105724</td>\n",
              "      <td>0.131355</td>\n",
              "      <td>0.159577</td>\n",
              "      <td>0.190948</td>\n",
              "      <td>0.226086</td>\n",
              "      <td>0.265685</td>\n",
              "      <td>0.310527</td>\n",
              "      <td>0.361495</td>\n",
              "      <td>0.419596</td>\n",
              "      <td>0.485975</td>\n",
              "      <td>0.561944</td>\n",
              "      <td>0.649000</td>\n",
              "      <td>0.748861</td>\n",
              "      <td>0.863498</td>\n",
              "      <td>0.995172</td>\n",
              "      <td>0.864858</td>\n",
              "    </tr>\n",
              "    <tr>\n",
              "      <th>20</th>\n",
              "      <td>0.0</td>\n",
              "      <td>0.017006</td>\n",
              "      <td>0.034347</td>\n",
              "      <td>0.052366</td>\n",
              "      <td>0.071419</td>\n",
              "      <td>0.091880</td>\n",
              "      <td>0.114154</td>\n",
              "      <td>0.138681</td>\n",
              "      <td>0.165944</td>\n",
              "      <td>0.196481</td>\n",
              "      <td>0.230895</td>\n",
              "      <td>0.269864</td>\n",
              "      <td>0.314158</td>\n",
              "      <td>0.364651</td>\n",
              "      <td>0.422339</td>\n",
              "      <td>0.488359</td>\n",
              "      <td>0.564015</td>\n",
              "      <td>0.650800</td>\n",
              "      <td>0.750426</td>\n",
              "      <td>0.864858</td>\n",
              "      <td>0.996354</td>\n",
              "    </tr>\n",
              "  </tbody>\n",
              "</table>\n",
              "</div>"
            ],
            "text/plain": [
              "     0         1         2         3   ...        17        18        19        20\n",
              "0   0.0  0.000000  0.000000  0.000000  ...  0.000000  0.000000  0.000000  0.000000\n",
              "1   0.0  0.244746  0.212698  0.184846  ...  0.025909  0.022517  0.019568  0.017006\n",
              "2   0.0  0.212698  0.429592  0.373338  ...  0.052330  0.045478  0.039523  0.034347\n",
              "3   0.0  0.184846  0.373338  0.569197  ...  0.079783  0.069336  0.060257  0.052366\n",
              "4   0.0  0.160641  0.324451  0.494663  ...  0.108811  0.094562  0.082180  0.071419\n",
              "5   0.0  0.139605  0.281965  0.429888  ...  0.139985  0.121654  0.105724  0.091880\n",
              "6   0.0  0.121324  0.245043  0.373596  ...  0.173921  0.151147  0.131355  0.114154\n",
              "7   0.0  0.105437  0.212955  0.324675  ...  0.211289  0.183622  0.159577  0.138681\n",
              "8   0.0  0.091631  0.185069  0.282160  ...  0.252826  0.219719  0.190948  0.165944\n",
              "9   0.0  0.079632  0.160835  0.245212  ...  0.299351  0.260152  0.226086  0.196481\n",
              "10  0.0  0.069204  0.139774  0.213102  ...  0.351783  0.305718  0.265685  0.230895\n",
              "11  0.0  0.060142  0.121471  0.185197  ...  0.411155  0.357316  0.310527  0.269864\n",
              "12  0.0  0.052267  0.105565  0.160946  ...  0.478640  0.415964  0.361495  0.314158\n",
              "13  0.0  0.045423  0.091742  0.139871  ...  0.555569  0.482819  0.419596  0.364651\n",
              "14  0.0  0.039475  0.079728  0.121555  ...  0.643460  0.559201  0.485975  0.422339\n",
              "15  0.0  0.034306  0.069288  0.105638  ...  0.744047  0.646616  0.561944  0.488359\n",
              "16  0.0  0.029813  0.060215  0.091805  ...  0.859314  0.746790  0.649000  0.564015\n",
              "17  0.0  0.025909  0.052330  0.079783  ...  0.991536  0.861698  0.748861  0.650800\n",
              "18  0.0  0.022517  0.045478  0.069336  ...  0.861698  0.993608  0.863498  0.750426\n",
              "19  0.0  0.019568  0.039523  0.060257  ...  0.748861  0.863498  0.995172  0.864858\n",
              "20  0.0  0.017006  0.034347  0.052366  ...  0.650800  0.750426  0.864858  0.996354\n",
              "\n",
              "[21 rows x 21 columns]"
            ]
          },
          "metadata": {},
          "execution_count": 12
        }
      ]
    },
    {
      "cell_type": "markdown",
      "metadata": {
        "id": "YoMW3UH3ReSH"
      },
      "source": [
        "### 1.2) Simulación de errores y calculo de coordenadas Along-Track y Cross-Track"
      ]
    },
    {
      "cell_type": "code",
      "metadata": {
        "id": "d4C-MU-TaJRo"
      },
      "source": [
        "d = 2            # distancia entre trayectorias\n",
        "n = 100          # número de simulaciones\n",
        "\n",
        "X_a = {}    # diccionario para guardar las cordenadas Along-Track de cada aeronave\n",
        "X_c = {}    # diccionario para guardar las coordenadas Cross-Track de cada aeronave\n",
        "\n",
        "for aeronave, signo_posicion in zip(['A','B'], (1,-1)):\n",
        "\n",
        "    # SIMULACIÖN DE LOS ERRORES\n",
        "\n",
        "    error_c = simulacion_error(cov_c, n_simulaciones = n)\n",
        "    error_a = simulacion_error(cov_a, n_simulaciones = n)\n",
        "\n",
        "    # CÁLCULO DE LAS COORDENADAS Along-Track (X_a = v_por_t + error)\n",
        "\n",
        "    # Obtenemos v * t para cada t\n",
        "    v_por_t = pd.Series( v * np.arange(21), \n",
        "                        index=['min_' + str(t) for t in range(21)])\n",
        "    \n",
        "    X_a[aeronave] = v_por_t + error_a\n",
        "\n",
        "    # CÁLCULO DE COORDENADAS Cross-Track(\n",
        "\n",
        "    X_c[aeronave] = error_c +( d/2 * signo_posicion)  "
      ],
      "execution_count": 13,
      "outputs": []
    },
    {
      "cell_type": "code",
      "metadata": {
        "colab": {
          "base_uri": "https://localhost:8080/",
          "height": 434
        },
        "id": "FcwtXL6k5kCW",
        "outputId": "6e739a7c-f7af-47dd-800b-a2530ced4248"
      },
      "source": [
        "X_c['A']"
      ],
      "execution_count": 14,
      "outputs": [
        {
          "output_type": "execute_result",
          "data": {
            "text/html": [
              "<div>\n",
              "<style scoped>\n",
              "    .dataframe tbody tr th:only-of-type {\n",
              "        vertical-align: middle;\n",
              "    }\n",
              "\n",
              "    .dataframe tbody tr th {\n",
              "        vertical-align: top;\n",
              "    }\n",
              "\n",
              "    .dataframe thead th {\n",
              "        text-align: right;\n",
              "    }\n",
              "</style>\n",
              "<table border=\"1\" class=\"dataframe\">\n",
              "  <thead>\n",
              "    <tr style=\"text-align: right;\">\n",
              "      <th></th>\n",
              "      <th>min_0</th>\n",
              "      <th>min_1</th>\n",
              "      <th>min_2</th>\n",
              "      <th>min_3</th>\n",
              "      <th>min_4</th>\n",
              "      <th>min_5</th>\n",
              "      <th>min_6</th>\n",
              "      <th>min_7</th>\n",
              "      <th>min_8</th>\n",
              "      <th>min_9</th>\n",
              "      <th>min_10</th>\n",
              "      <th>min_11</th>\n",
              "      <th>min_12</th>\n",
              "      <th>min_13</th>\n",
              "      <th>min_14</th>\n",
              "      <th>min_15</th>\n",
              "      <th>min_16</th>\n",
              "      <th>min_17</th>\n",
              "      <th>min_18</th>\n",
              "      <th>min_19</th>\n",
              "      <th>min_20</th>\n",
              "    </tr>\n",
              "  </thead>\n",
              "  <tbody>\n",
              "    <tr>\n",
              "      <th>simulación_1</th>\n",
              "      <td>1.0</td>\n",
              "      <td>1.236908</td>\n",
              "      <td>1.088578</td>\n",
              "      <td>2.083925</td>\n",
              "      <td>3.115974</td>\n",
              "      <td>2.422705</td>\n",
              "      <td>1.514169</td>\n",
              "      <td>2.041015</td>\n",
              "      <td>1.922317</td>\n",
              "      <td>1.875166</td>\n",
              "      <td>1.938061</td>\n",
              "      <td>1.214685</td>\n",
              "      <td>0.858825</td>\n",
              "      <td>0.748637</td>\n",
              "      <td>1.381664</td>\n",
              "      <td>1.201512</td>\n",
              "      <td>1.199317</td>\n",
              "      <td>0.761846</td>\n",
              "      <td>0.986967</td>\n",
              "      <td>0.536873</td>\n",
              "      <td>0.014524</td>\n",
              "    </tr>\n",
              "    <tr>\n",
              "      <th>simulación_2</th>\n",
              "      <td>1.0</td>\n",
              "      <td>1.452989</td>\n",
              "      <td>1.049262</td>\n",
              "      <td>1.449426</td>\n",
              "      <td>0.814686</td>\n",
              "      <td>0.300893</td>\n",
              "      <td>0.202508</td>\n",
              "      <td>-0.023288</td>\n",
              "      <td>-0.503431</td>\n",
              "      <td>-1.249655</td>\n",
              "      <td>-1.135468</td>\n",
              "      <td>-1.309587</td>\n",
              "      <td>-0.796653</td>\n",
              "      <td>0.080688</td>\n",
              "      <td>-0.585752</td>\n",
              "      <td>-0.021754</td>\n",
              "      <td>-0.307721</td>\n",
              "      <td>0.112053</td>\n",
              "      <td>-0.391580</td>\n",
              "      <td>-0.193047</td>\n",
              "      <td>-0.502405</td>\n",
              "    </tr>\n",
              "    <tr>\n",
              "      <th>simulación_3</th>\n",
              "      <td>1.0</td>\n",
              "      <td>0.499970</td>\n",
              "      <td>-0.041206</td>\n",
              "      <td>-0.698751</td>\n",
              "      <td>-0.371926</td>\n",
              "      <td>0.117651</td>\n",
              "      <td>0.504170</td>\n",
              "      <td>0.916788</td>\n",
              "      <td>0.528773</td>\n",
              "      <td>0.215731</td>\n",
              "      <td>0.253398</td>\n",
              "      <td>-0.475753</td>\n",
              "      <td>-0.680689</td>\n",
              "      <td>-0.852135</td>\n",
              "      <td>-2.646664</td>\n",
              "      <td>-2.351527</td>\n",
              "      <td>-2.163530</td>\n",
              "      <td>-1.343995</td>\n",
              "      <td>-1.182562</td>\n",
              "      <td>-1.550626</td>\n",
              "      <td>-2.156743</td>\n",
              "    </tr>\n",
              "    <tr>\n",
              "      <th>simulación_4</th>\n",
              "      <td>1.0</td>\n",
              "      <td>1.306118</td>\n",
              "      <td>0.666806</td>\n",
              "      <td>0.771927</td>\n",
              "      <td>0.752031</td>\n",
              "      <td>0.393188</td>\n",
              "      <td>0.497928</td>\n",
              "      <td>0.374793</td>\n",
              "      <td>0.122553</td>\n",
              "      <td>0.566520</td>\n",
              "      <td>0.341432</td>\n",
              "      <td>1.095275</td>\n",
              "      <td>1.413898</td>\n",
              "      <td>0.429623</td>\n",
              "      <td>1.144908</td>\n",
              "      <td>1.039825</td>\n",
              "      <td>0.371011</td>\n",
              "      <td>0.131547</td>\n",
              "      <td>0.182770</td>\n",
              "      <td>0.088956</td>\n",
              "      <td>-0.703964</td>\n",
              "    </tr>\n",
              "    <tr>\n",
              "      <th>simulación_5</th>\n",
              "      <td>1.0</td>\n",
              "      <td>0.804286</td>\n",
              "      <td>0.850364</td>\n",
              "      <td>0.900650</td>\n",
              "      <td>1.075181</td>\n",
              "      <td>1.303024</td>\n",
              "      <td>1.455330</td>\n",
              "      <td>1.206770</td>\n",
              "      <td>0.595116</td>\n",
              "      <td>1.386013</td>\n",
              "      <td>1.002661</td>\n",
              "      <td>0.845372</td>\n",
              "      <td>0.540741</td>\n",
              "      <td>0.186573</td>\n",
              "      <td>0.611341</td>\n",
              "      <td>0.317931</td>\n",
              "      <td>0.606603</td>\n",
              "      <td>0.705892</td>\n",
              "      <td>0.644696</td>\n",
              "      <td>1.057214</td>\n",
              "      <td>0.978914</td>\n",
              "    </tr>\n",
              "    <tr>\n",
              "      <th>...</th>\n",
              "      <td>...</td>\n",
              "      <td>...</td>\n",
              "      <td>...</td>\n",
              "      <td>...</td>\n",
              "      <td>...</td>\n",
              "      <td>...</td>\n",
              "      <td>...</td>\n",
              "      <td>...</td>\n",
              "      <td>...</td>\n",
              "      <td>...</td>\n",
              "      <td>...</td>\n",
              "      <td>...</td>\n",
              "      <td>...</td>\n",
              "      <td>...</td>\n",
              "      <td>...</td>\n",
              "      <td>...</td>\n",
              "      <td>...</td>\n",
              "      <td>...</td>\n",
              "      <td>...</td>\n",
              "      <td>...</td>\n",
              "      <td>...</td>\n",
              "    </tr>\n",
              "    <tr>\n",
              "      <th>simulación_96</th>\n",
              "      <td>1.0</td>\n",
              "      <td>1.306601</td>\n",
              "      <td>0.950634</td>\n",
              "      <td>0.564274</td>\n",
              "      <td>0.186197</td>\n",
              "      <td>0.091409</td>\n",
              "      <td>0.028456</td>\n",
              "      <td>0.513013</td>\n",
              "      <td>0.208449</td>\n",
              "      <td>0.375025</td>\n",
              "      <td>0.429714</td>\n",
              "      <td>0.861118</td>\n",
              "      <td>0.764827</td>\n",
              "      <td>0.349997</td>\n",
              "      <td>0.923351</td>\n",
              "      <td>0.971526</td>\n",
              "      <td>1.056890</td>\n",
              "      <td>1.664142</td>\n",
              "      <td>1.408993</td>\n",
              "      <td>1.867052</td>\n",
              "      <td>2.188731</td>\n",
              "    </tr>\n",
              "    <tr>\n",
              "      <th>simulación_97</th>\n",
              "      <td>1.0</td>\n",
              "      <td>0.776469</td>\n",
              "      <td>0.977993</td>\n",
              "      <td>1.178279</td>\n",
              "      <td>1.151103</td>\n",
              "      <td>0.465780</td>\n",
              "      <td>1.435888</td>\n",
              "      <td>1.538958</td>\n",
              "      <td>1.414737</td>\n",
              "      <td>0.649297</td>\n",
              "      <td>0.621951</td>\n",
              "      <td>0.700126</td>\n",
              "      <td>0.020007</td>\n",
              "      <td>0.837833</td>\n",
              "      <td>0.445543</td>\n",
              "      <td>0.699515</td>\n",
              "      <td>0.270859</td>\n",
              "      <td>0.303911</td>\n",
              "      <td>1.296397</td>\n",
              "      <td>0.283573</td>\n",
              "      <td>1.491358</td>\n",
              "    </tr>\n",
              "    <tr>\n",
              "      <th>simulación_98</th>\n",
              "      <td>1.0</td>\n",
              "      <td>0.179350</td>\n",
              "      <td>0.848845</td>\n",
              "      <td>0.367317</td>\n",
              "      <td>1.209102</td>\n",
              "      <td>1.203106</td>\n",
              "      <td>-0.173433</td>\n",
              "      <td>-0.986693</td>\n",
              "      <td>-0.190846</td>\n",
              "      <td>0.047210</td>\n",
              "      <td>0.539899</td>\n",
              "      <td>0.461552</td>\n",
              "      <td>0.838306</td>\n",
              "      <td>0.117739</td>\n",
              "      <td>0.201244</td>\n",
              "      <td>0.719382</td>\n",
              "      <td>0.489984</td>\n",
              "      <td>0.017027</td>\n",
              "      <td>0.399048</td>\n",
              "      <td>0.853554</td>\n",
              "      <td>0.516537</td>\n",
              "    </tr>\n",
              "    <tr>\n",
              "      <th>simulación_99</th>\n",
              "      <td>1.0</td>\n",
              "      <td>0.149530</td>\n",
              "      <td>0.845670</td>\n",
              "      <td>0.709605</td>\n",
              "      <td>0.629019</td>\n",
              "      <td>-0.131834</td>\n",
              "      <td>-0.886447</td>\n",
              "      <td>-1.095005</td>\n",
              "      <td>-0.892376</td>\n",
              "      <td>-0.577788</td>\n",
              "      <td>-0.305167</td>\n",
              "      <td>-0.973166</td>\n",
              "      <td>-0.717548</td>\n",
              "      <td>-0.926330</td>\n",
              "      <td>0.333444</td>\n",
              "      <td>0.743690</td>\n",
              "      <td>0.362219</td>\n",
              "      <td>0.387341</td>\n",
              "      <td>0.787455</td>\n",
              "      <td>1.123576</td>\n",
              "      <td>0.208623</td>\n",
              "    </tr>\n",
              "    <tr>\n",
              "      <th>simulación_100</th>\n",
              "      <td>1.0</td>\n",
              "      <td>0.936484</td>\n",
              "      <td>1.075878</td>\n",
              "      <td>0.383467</td>\n",
              "      <td>0.545086</td>\n",
              "      <td>0.489114</td>\n",
              "      <td>-0.284930</td>\n",
              "      <td>-0.343301</td>\n",
              "      <td>0.080144</td>\n",
              "      <td>0.312944</td>\n",
              "      <td>0.326676</td>\n",
              "      <td>0.616232</td>\n",
              "      <td>0.036980</td>\n",
              "      <td>0.377481</td>\n",
              "      <td>-0.033857</td>\n",
              "      <td>-0.274091</td>\n",
              "      <td>-0.141641</td>\n",
              "      <td>0.133206</td>\n",
              "      <td>-0.394651</td>\n",
              "      <td>0.371014</td>\n",
              "      <td>0.165008</td>\n",
              "    </tr>\n",
              "  </tbody>\n",
              "</table>\n",
              "<p>100 rows × 21 columns</p>\n",
              "</div>"
            ],
            "text/plain": [
              "                min_0     min_1     min_2  ...    min_18    min_19    min_20\n",
              "simulación_1      1.0  1.236908  1.088578  ...  0.986967  0.536873  0.014524\n",
              "simulación_2      1.0  1.452989  1.049262  ... -0.391580 -0.193047 -0.502405\n",
              "simulación_3      1.0  0.499970 -0.041206  ... -1.182562 -1.550626 -2.156743\n",
              "simulación_4      1.0  1.306118  0.666806  ...  0.182770  0.088956 -0.703964\n",
              "simulación_5      1.0  0.804286  0.850364  ...  0.644696  1.057214  0.978914\n",
              "...               ...       ...       ...  ...       ...       ...       ...\n",
              "simulación_96     1.0  1.306601  0.950634  ...  1.408993  1.867052  2.188731\n",
              "simulación_97     1.0  0.776469  0.977993  ...  1.296397  0.283573  1.491358\n",
              "simulación_98     1.0  0.179350  0.848845  ...  0.399048  0.853554  0.516537\n",
              "simulación_99     1.0  0.149530  0.845670  ...  0.787455  1.123576  0.208623\n",
              "simulación_100    1.0  0.936484  1.075878  ... -0.394651  0.371014  0.165008\n",
              "\n",
              "[100 rows x 21 columns]"
            ]
          },
          "metadata": {},
          "execution_count": 14
        }
      ]
    },
    {
      "cell_type": "markdown",
      "metadata": {
        "id": "scBKZCNJRscT"
      },
      "source": [
        "### VISUALIZACION DE TRAYECTORIAS"
      ]
    },
    {
      "cell_type": "code",
      "metadata": {
        "colab": {
          "base_uri": "https://localhost:8080/",
          "height": 265
        },
        "id": "4JceyRmsz0Wc",
        "outputId": "1a266f0c-27d8-4807-97f6-4f4dd815a9d8"
      },
      "source": [
        "simulacion = 100\n",
        "plt.plot(X_c['A'].loc['simulación_'+str(simulacion)].T, X_a['A'].loc['simulación_'+str(simulacion)].T, 'o-', color='b')\n",
        "plt.plot(X_c['B'].loc['simulación_'+str(simulacion)].T, X_a['B'].loc['simulación_'+str(simulacion)].T, 'o-', color='r')\n",
        "plt.show()"
      ],
      "execution_count": 15,
      "outputs": [
        {
          "output_type": "display_data",
          "data": {
            "image/png": "[encoded data removed]",
            "text/plain": [
              "<Figure size 432x288 with 1 Axes>"
            ]
          },
          "metadata": {
            "needs_background": "light"
          }
        }
      ]
    },
    {
      "cell_type": "markdown",
      "metadata": {
        "id": "vi_ZzqMpSH4j"
      },
      "source": [
        "## 2) Estimación de la probabilidad de conflicto\n",
        "La estimación de probabilidad de conflicto se calcua para trayectorias de 20 min\n",
        "La trayectoria de cada vuelo se define en el tiempo mediante dos coordenadas $Xa$ y $Xc$\n"
      ]
    },
    {
      "cell_type": "code",
      "metadata": {
        "colab": {
          "base_uri": "https://localhost:8080/"
        },
        "id": "FF95g88VKoAB",
        "outputId": "b0e02eb5-83d5-4f84-9b6a-64078d19a437"
      },
      "source": [
        "a = 0.1\n",
        "Z = np.min((X_c['A']-X_c['B'])**2+(X_a['A']-X_a['B'])**2, axis=1)<a**2\n",
        "p = Z.mean()\n",
        "varianza = p*(1-p)\n",
        "error = 2*((p*(1-p)/n)**0.5)\n",
        "\n",
        "print('Probabilidad ={},\\nVarianza ={},\\nError ={}'.format(p, varianza, error))"
      ],
      "execution_count": 16,
      "outputs": [
        {
          "output_type": "stream",
          "name": "stdout",
          "text": [
            "Probabilidad =0.25,\n",
            "Varianza =0.1875,\n",
            "Error =0.08660254037844387\n"
          ]
        }
      ]
    },
    {
      "cell_type": "code",
      "metadata": {
        "id": "si3ESUDpxSZ9"
      },
      "source": [
        "def intervalo_confianza_bernoulli(tam_muestra, p_muestra , nivel_confianza):\n",
        "  '''p es la probabilidad obtenida en la muestra\n",
        "     nivel de confianza debe estar entre 0 y 1'''\n",
        "  izq = (1 - nivel_confianza)/2\n",
        "  z_score = - stats.norm.ppf(izq)\n",
        "  margen_error = z_score/(2*math.sqrt(tam_muestra))\n",
        "  v_inf = p_muestra - margen_error\n",
        "  v_sup = p_muestra + margen_error\n",
        "  print('Con probabilidad de 95% la probabilidad de colición está en el intervalo:',\n",
        "        v_inf, v_sup)\n",
        "  return margen_error"
      ],
      "execution_count": 17,
      "outputs": []
    },
    {
      "cell_type": "code",
      "metadata": {
        "colab": {
          "base_uri": "https://localhost:8080/"
        },
        "id": "EsckSrmSxkFl",
        "outputId": "130f2733-5aed-4e54-c5e4-715f4c4a0a0b"
      },
      "source": [
        "intervalo_confianza_bernoulli(n, p, 0.95)"
      ],
      "execution_count": 18,
      "outputs": [
        {
          "output_type": "stream",
          "name": "stdout",
          "text": [
            "Con probabilidad de 95% la probabilidad de colición está en el intervalo: 0.1520018007729973 0.3479981992270027\n"
          ]
        },
        {
          "output_type": "execute_result",
          "data": {
            "text/plain": [
              "0.0979981992270027"
            ]
          },
          "metadata": {},
          "execution_count": 18
        }
      ]
    },
    {
      "cell_type": "markdown",
      "metadata": {
        "id": "LdH0a7ZT8F_b"
      },
      "source": [
        "$\\epsilon \\leq \\cfrac{z_{score}}{2\\sqrt{n}}$\n",
        "\n",
        "$n = \\cfrac{{z_{score}}^2}{4\\epsilon^2}$\n",
        "\n",
        "$n = \\cfrac{{1.96}^2}{4\\epsilon^2}$"
      ]
    },
    {
      "cell_type": "code",
      "metadata": {
        "colab": {
          "base_uri": "https://localhost:8080/"
        },
        "id": "-6k6DJAA--sB",
        "outputId": "14e2ce22-1e82-4055-85cb-be1ed46d3a07"
      },
      "source": [
        "(1.96**2)/(4*(0.01**2))"
      ],
      "execution_count": 28,
      "outputs": [
        {
          "output_type": "execute_result",
          "data": {
            "text/plain": [
              "9603.999999999998"
            ]
          },
          "metadata": {},
          "execution_count": 28
        }
      ]
    },
    {
      "cell_type": "markdown",
      "metadata": {
        "id": "yMz3ODNCOP9V"
      },
      "source": [
        "## TODO JUNTO"
      ]
    },
    {
      "cell_type": "code",
      "metadata": {
        "colab": {
          "base_uri": "https://localhost:8080/"
        },
        "id": "U0K5-C_MOgIH",
        "outputId": "837cc8d2-5964-41c2-f06c-58c91dadbf08"
      },
      "source": [
        "n = 10000          # número de simulaciones\n",
        "p, varianza, error, Z = probabilidad_de_conflicto(velocidad = v, distancia=d,\n",
        "                                                  r_a=r_a, r_c=r_c, sigma_c=sigma_c,\n",
        "                                                  n_simulaciones = n)\n",
        "print('Probabilidad = {},\\nVarianza = {},\\nError = {}'.format(p, varianza, error))"
      ],
      "execution_count": 29,
      "outputs": [
        {
          "output_type": "stream",
          "name": "stdout",
          "text": [
            "Probabilidad = 0.2467,\n",
            "Varianza = 0.18547008004924,\n",
            "Error = 0.008613247472335623\n"
          ]
        }
      ]
    },
    {
      "cell_type": "code",
      "metadata": {
        "colab": {
          "base_uri": "https://localhost:8080/",
          "height": 404
        },
        "id": "XXdLekPdV6fs",
        "outputId": "6a43876f-9278-444b-800f-ca01c335cd7e"
      },
      "source": [
        "ns =range(0,10000,10)\n",
        "estimacion_p = []\n",
        "for n in ns:\n",
        "  estimacion_p.append(Z[:n].mean())\n",
        "\n",
        "#Gráfica estimación de p\n",
        "plt.figure(figsize=(16, 6))\n",
        "plt.plot(ns, estimacion_p, color='g', label = 'estimacion de la probabilidad de conflicto')\n",
        "plt.axhline(y=p, color='black', ls='--', label='estimacion con todas las simulaciones realizadas')\n",
        "plt.xlim(0, ns[-1])\n",
        "plt.ylim(.1, .4)\n",
        "plt.xlabel('Número de simulaciones')\n",
        "plt.ylabel('Estimación Probabilidad de Conflicto')\n",
        "plt.title('Estimación de Probabilidad de Conflicto entre dos aviones con {} nmi, según cantidad de simulaciones'.format(d))\n",
        "plt.legend()\n",
        "plt.show()"
      ],
      "execution_count": 31,
      "outputs": [
        {
          "output_type": "display_data",
          "data": {
            "image/png": "[encoded data removed]",
            "text/plain": [
              "<Figure size 1152x432 with 1 Axes>"
            ]
          },
          "metadata": {
            "needs_background": "light"
          }
        }
      ]
    },
    {
      "cell_type": "markdown",
      "metadata": {
        "id": "JrSPw2jFb6b9"
      },
      "source": [
        "# Probabilidad de conflicto en función de la distancia entre aviones"
      ]
    },
    {
      "cell_type": "code",
      "metadata": {
        "id": "XV3NC452bub8"
      },
      "source": [
        "n = 10000      # número de simulaciones\n",
        "distancias =  np.arange(0.2,5,0.2)          \n",
        "probabilidad =[]\n",
        "\n",
        "for dist in distancias:\n",
        "  resultados = probabilidad_de_conflicto(velocidad = v, distancia=dist,\n",
        "                                         r_a=r_a, r_c=r_c, sigma_c=sigma_c,\n",
        "                                         n_simulaciones = n)\n",
        "  probabilidad.append(resultados[0])"
      ],
      "execution_count": 32,
      "outputs": []
    },
    {
      "cell_type": "code",
      "metadata": {
        "colab": {
          "base_uri": "https://localhost:8080/",
          "height": 404
        },
        "id": "Lfd1L9HLgS4h",
        "outputId": "bbf576d8-e662-47a4-fb38-a60b0e6ef365"
      },
      "source": [
        "#Gráfica estimación de p\n",
        "plt.figure(figsize=(8, 6))\n",
        "plt.plot(distancias, probabilidad, 'o-', color='b', label ='Estimacion con {:,d} simulaciones'.format(n))\n",
        "plt.xlabel('Distancia entre aviones (nmi)')\n",
        "plt.ylabel('Probabilidad de conflicto')\n",
        "plt.title('Probabilidad de Conflicto según la distancia entre aviones')\n",
        "plt.legend()\n",
        "plt.show()"
      ],
      "execution_count": 33,
      "outputs": [
        {
          "output_type": "display_data",
          "data": {
            "image/png": "[encoded data removed]",
            "text/plain": [
              "<Figure size 576x432 with 1 Axes>"
            ]
          },
          "metadata": {
            "needs_background": "light"
          }
        }
      ]
    },
    {
      "cell_type": "markdown",
      "metadata": {
        "id": "fUnwVMKzyXYC"
      },
      "source": [
        "#MCMC"
      ]
    },
    {
      "cell_type": "code",
      "metadata": {
        "id": "VT9w2fD6yXYC"
      },
      "source": [
        "#MCMC\n",
        "\n",
        "\n",
        "sigma_c=1\n",
        "r_c=1/57\n",
        "v=8\n",
        "r_a = 0.25\n",
        "m=np.zeros(20)\n",
        "covA=np.zeros((20,20))\n",
        "covC=np.zeros((20,20))\n",
        "for s in range(20):\n",
        "    covC[s,s]=(sigma_c**2)*(1-np.exp(-2*r_c*v*(s+1)/sigma_c))\n",
        "    covA[s,s]=(r_a**2)*((s+1)**2)\n",
        "    for t in range(s):\n",
        "        covC[t,s]=covC[s,t]=(sigma_c**2)*(1-np.exp(-2*r_c*v*(t+1)/sigma_c))*np.exp(-r_c*v*(s-t)/sigma_c)\n",
        "        covA[t,s]=covA[s,t]=(r_a**2)*((t+1)**2)\n",
        "        \n",
        "        \n",
        "    "
      ],
      "execution_count": null,
      "outputs": []
    },
    {
      "cell_type": "code",
      "metadata": {
        "id": "nCjSEn6jyXYD"
      },
      "source": [
        " \n",
        "def NiveauxSplitting2(a, seuil, rho, rho_bar, n,d):\n",
        "\n",
        "   \n",
        "    mu1=np.zeros(20)+d/2\n",
        "    \n",
        "    XA = np.random.multivariate_normal(np.zeros(20), 2*covA,size=1)\n",
        "    XC = np.random.multivariate_normal(2*mu1, 2*covC,size=1)\n",
        "    X=np.concatenate((XA, XC), axis=1)\n",
        "\n",
        "    YA = np.random.multivariate_normal(np.zeros(20), 2*covA,size=n)\n",
        "    YC = np.random.multivariate_normal(2*mu1, 2*covC,size=n)\n",
        "    Y=np.concatenate((YA, YC), axis=1)\n",
        "   \n",
        "    for i in range(n):\n",
        "        XC = np.append(XC, rho*(XC[-1:,]-2*mu1) + rho_bar*(YC[i,:]-2*mu1)+2*mu1,axis=0)\n",
        "        XA = np.append(XA, rho*(XA[-1:,]) + rho_bar*(YA[i,:]),axis=0)\n",
        "        X=np.concatenate((XA, XC), axis=1)\n",
        "       \n",
        "    X=np.array(sorted(list(X),key=lambda x:min(x[:20]*x[:20]+x[20:]*x[20:])))\n",
        "    \n",
        "    quantiles = np.array([])    \n",
        "    \n",
        "    b=np.sqrt(np.min((X[int(np.ceil((1-seuil)*n)-1)][:20]*X[int(np.ceil((1-seuil)*n)-1)][:20]+X[int(np.ceil((1-seuil)*n)-1)][20:]*X[int(np.ceil((1-seuil)*n)-1)][20:])))\n",
        "    quantiles = np.append(quantiles,np.sqrt(np.min((X[int(np.ceil((1-seuil)*n)-1)][:20]*X[int(np.ceil((1-seuil)*n)-1)][:20]+X[int(np.ceil((1-seuil)*n)-1)][20:]*X[int(np.ceil((1-seuil)*n)-1)][20:]))  ))\n",
        "    #print(quantiles)\n",
        "    while (quantiles[-1] > a ):\n",
        "        \n",
        "        ## On recupere la premiere valeur de la chaine\n",
        "        ## precedente qui est inferieur au quantile:\n",
        "        ## pour initialiser la chaine courante \n",
        "        startingPoint = (X[np.sqrt(np.amin(X[:,:20]*X[:,:20]+X[:,20:]*X[:,20:],axis=1)) <= quantiles[-1]][0])\n",
        "\n",
        "        X = np.array([startingPoint])\n",
        "        XA=X[:,:20]\n",
        "        XC=X[:,20:]\n",
        "        ## Simulation du processus AR(1) conditionnel\n",
        "        YA = np.random.multivariate_normal(np.zeros(20), 2*covA,size=n)\n",
        "        YC = np.random.multivariate_normal(2*mu1, 2*covC,size=n)\n",
        "        Y=np.concatenate((YA, YC), axis=1)\n",
        "        for i in range(n):\n",
        "            \n",
        "           \n",
        "        \n",
        "            newXA=rho*(XA[-1:,]) + rho_bar*(YA[i,:])\n",
        "            newXC= rho*(XC[-1:,]-2*mu1) + rho_bar*(YC[i,:]-2*mu1)+2*mu1\n",
        "            alpha=np.sqrt(np.amin(newXA*newXA+newXC*newXC))\n",
        "            XC = np.append(XC, newXC*(alpha <=quantiles[-1] )+X[-1:,20:]*(alpha >quantiles[-1] ),axis=0)\n",
        "            XA = np.append(XA, newXA*(alpha <=quantiles[-1] )+X[-1:,:20]*(alpha >quantiles[-1] ),axis=0)\n",
        "            \n",
        "            X=np.concatenate((XA, XC), axis=1)\n",
        "\n",
        "\n",
        "        X=np.array(sorted(list(X),key=lambda x:min(x[:20]*x[:20]+x[20:]*x[20:])))\n",
        "\n",
        "        quantiles = np.append(quantiles, np.sqrt(np.min((X[int(np.ceil((1-seuil)*n)-1)][:20]*X[int(np.ceil((1-seuil)*n)-1)][:20]+X[int(np.ceil((1-seuil)*n)-1)][20:]*X[int(np.ceil((1-seuil)*n)-1)][20:])) ))\n",
        "          \n",
        "    \n",
        "         \n",
        "        \n",
        "        \n",
        "    ## On selectionne les niveaux a_1, a_2,... strictement en dessous de a\n",
        "    \n",
        "    quantiles = quantiles[:-1]\n",
        "    ## On rajoute a\n",
        "    \n",
        "    quantiles = np.append(quantiles, a)\n",
        "    \n",
        "    \n",
        "    quantiles=list(dict.fromkeys(quantiles))\n",
        "    \n",
        "    #print(quantiles)\n",
        "    return quantiles"
      ],
      "execution_count": null,
      "outputs": []
    },
    {
      "cell_type": "code",
      "metadata": {
        "id": "WePptSWSyXYD"
      },
      "source": [
        "\n",
        "    \n",
        "    \n",
        "def probaAR(a, seuil, rho, rho_bar, n,d):       \n",
        "    #n = 1000\n",
        "    mu1=np.zeros(20)+d/2.\n",
        "    niveaux = NiveauxSplitting2(a, seuil, rho, rho_bar, 500,d)\n",
        "\n",
        "    ## Une fois les niveaux a_1, ..., a_k trouves, on lance\n",
        "    ## la simulation des chaines pour estimer chaque probabilite\n",
        "    ## conditionnelle, avec une valeur de n plus importante\n",
        "   \n",
        "    XA = np.random.multivariate_normal(np.zeros(20), 2*covA,size=1)\n",
        "    XC = np.random.multivariate_normal(2*mu1, 2*covC,size=1)\n",
        "    X=np.concatenate((XA, XC), axis=1)\n",
        "\n",
        "    YA = np.random.multivariate_normal(np.zeros(20), 2*covA,size=n)\n",
        "    YC = np.random.multivariate_normal(2*mu1, 2*covC,size=n)\n",
        "    Y=np.concatenate((YA, YC), axis=1)\n",
        "    ## Niveau 0: pas de rejet\n",
        "    for i in range(n):\n",
        "        XC = np.append(XC, rho*(XC[-1:,]-2*mu1) + rho_bar*(YC[i,:]-2*mu1)+2*mu1,axis=0)\n",
        "        XA = np.append(XA, rho*(XA[-1:,]) + rho_bar*(YA[i,:]),axis=0)\n",
        "        X=np.concatenate((XA, XC), axis=1)\n",
        "    \n",
        "    \n",
        "    l=np.sqrt(np.amin(X[:,:20]*X[:,:20]+X[:,20:]*X[:,20:],axis=1))\n",
        "   \n",
        "    P = [ np.mean(l<=niveaux[0]) ]\n",
        "\n",
        "\n",
        "    \n",
        "    ## Niveau l\n",
        "    k = len(niveaux)\n",
        "    for l in range(1,k):\n",
        "        ## On recupere la premiere valeur de la chaine precedente \n",
        "        ## qui est inferieure le niveau l-1:\n",
        "        ## pour initialiser la chaine au niveau courant\n",
        "        m=np.sqrt(np.amin(X[:,:20]*X[:,:20]+X[:,20:]*X[:,20:],axis=1))\n",
        "        a_l_moins_1 = niveaux[(l-1)]\n",
        "        count_true=sum(m <= a_l_moins_1)\n",
        "        if(count_true>0):\n",
        "          startingPoint = (X[m <= a_l_moins_1][0])\n",
        "        else:\n",
        "          X=np.array(sorted(list(X),key=lambda x:min(x[:20]*x[:20]+x[20:]*x[20:])))\n",
        "          startingPoint = X[0]\n",
        "       \n",
        "        X=np.array([startingPoint]) \n",
        "        XA=X[:,:20]\n",
        "        XC=X[:,20:]    \n",
        "      \n",
        "        YA = np.random.multivariate_normal(np.zeros(20), 2*covA,size=n)\n",
        "        YC = np.random.multivariate_normal(2*mu1, 2*covC,size=n)\n",
        "        Y=np.concatenate((YA, YC), axis=1)\n",
        "        for i in range(n):\n",
        "         \n",
        "          newXA=rho*(XA[-1:,]) + rho_bar*(YA[i,:])\n",
        "          newXC= rho*(XC[-1:,]-2*mu1) + rho_bar*(YC[i,:]-2*mu1)+2*mu1\n",
        "          alpha=np.sqrt(np.amin(newXA*newXA+newXC*newXC))\n",
        "          XC = np.append(XC, newXC*(alpha <=a_l_moins_1 )+X[-1:,20:]*(alpha >a_l_moins_1 ),axis=0)\n",
        "          XA = np.append(XA, newXA*(alpha <=a_l_moins_1 )+X[-1:,:20]*(alpha >a_l_moins_1 ),axis=0)\n",
        "          X=np.concatenate((XA, XC), axis=1)\n",
        "        \n",
        "        P.append( np.mean(np.sqrt(np.amin(X[:,:20]*X[:,:20]+X[:,20:]*X[:,20:],axis=1))<=niveaux[l]) )\n",
        "    #Estimateur par methode de splitting\n",
        "    Proba_emp_split =np.prod(P)\n",
        "\n",
        "    return(Proba_emp_split)\n",
        "    \n",
        "   \n",
        "   \n"
      ],
      "execution_count": null,
      "outputs": []
    },
    {
      "cell_type": "code",
      "metadata": {
        "id": "uJHBo1oGyXYE",
        "colab": {
          "base_uri": "https://localhost:8080/"
        },
        "outputId": "284f3e9b-3c3a-4b91-962e-675cc9779923"
      },
      "source": [
        "## Parametres du probleme\n",
        "a = 0.1\n",
        "seuil = 0.9\n",
        "rho = 0.9\n",
        "\n",
        "rho_bar = np.sqrt(1-rho**2)\n",
        "d=8\n",
        "n=1000\n",
        "probaAR(a, seuil, rho, rho_bar, n,d)"
      ],
      "execution_count": null,
      "outputs": [
        {
          "output_type": "execute_result",
          "data": {
            "text/plain": [
              "1.0396198968564901e-11"
            ]
          },
          "metadata": {},
          "execution_count": 9
        }
      ]
    },
    {
      "cell_type": "code",
      "metadata": {
        "id": "-WC2gq2pyXYE",
        "colab": {
          "base_uri": "https://localhost:8080/"
        },
        "outputId": "f3613a53-1721-4145-f970-79bb1bb99e3a"
      },
      "source": [
        "#on calcule l'erreur de notre estimation\n",
        "a = 0.1\n",
        "seuil = 0.92\n",
        "rho = 0.9\n",
        "rho_bar = np.sqrt(1-rho**2)\n",
        "d=6\n",
        "n=1500\n",
        "l=[]\n",
        "for i in range(10):\n",
        "  l.append(probaAR(a, seuil, rho, rho_bar, n,d))\n",
        "\n",
        "h=[np.mean(l),np.var(l),2*((np.var(l)/n)**0.5)]\n",
        "print(h)"
      ],
      "execution_count": null,
      "outputs": [
        {
          "output_type": "stream",
          "name": "stdout",
          "text": [
            "[9.775456151296296e-07, 2.490644648978839e-13, 2.5771532868542317e-08]\n"
          ]
        }
      ]
    }
  ]
}