{
  "nbformat": 4,
  "nbformat_minor": 0,
  "metadata": {
    "kernelspec": {
      "display_name": "Python 3",
      "language": "python",
      "name": "python3"
    },
    "language_info": {
      "codemirror_mode": {
        "name": "ipython",
        "version": 3
      },
      "file_extension": ".py",
      "mimetype": "text/x-python",
      "name": "python",
      "nbconvert_exporter": "python",
      "pygments_lexer": "ipython3",
      "version": "3.7.3"
    },
    "colab": {
      "name": "Estimación probabilidad de conflicto en trayectorias de vuelo_MonteCarlo.ipynb",
      "provenance": [],
      "collapsed_sections": [],
      "toc_visible": true,
      "include_colab_link": true
    }
  },
  "cells": [
    {
      "cell_type": "markdown",
      "metadata": {
        "id": "view-in-github",
        "colab_type": "text"
      },
      "source": [
        "<a href=\"https://colab.research.google.com/github/AnIsAsPe/Estimacion-probabilidad-conflicto-en-trayectorias-de-vuelos-paralelos/blob/main/Notebooks/Estimaci%C3%B3n_probabilidad_de_conflicto_en_trayectorias_de_vuelo_MonteCarlo.ipynb\" target=\"_parent\"><img src=\"https://colab.research.google.com/assets/colab-badge.svg\" alt=\"Open In Colab\"/></a>"
      ]
    },
    {
      "cell_type": "markdown",
      "metadata": {
        "id": "apriGpjnyXX1"
      },
      "source": [
        "# Bibliotecas"
      ]
    },
    {
      "cell_type": "code",
      "metadata": {
        "id": "das9mGfMyXX5"
      },
      "source": [
        "import numpy as np\n",
        "import pandas as pd\n",
        "import matplotlib.pyplot as plt\n",
        "import math\n",
        "from scipy import stats\n",
        "import matplotlib.pyplot as plt\n",
        "import seaborn as sns"
      ],
      "execution_count": 1,
      "outputs": []
    },
    {
      "cell_type": "markdown",
      "metadata": {
        "id": "a7GbKyD_BcE5"
      },
      "source": [
        "# Funciones"
      ]
    },
    {
      "cell_type": "markdown",
      "metadata": {
        "id": "vMxYuMPdArRc"
      },
      "source": [
        "**covarianza_a()**\n",
        "\n",
        "$\\mathbb{Cov}(error_{a,t},~error_{a,s}) = r_a^2t^2$\n"
      ]
    },
    {
      "cell_type": "code",
      "metadata": {
        "id": "H29_amxzI7zM"
      },
      "source": [
        "# COVARIANZA ALONG TRACK\n",
        "def covarianza_a(r_a):  \n",
        "      cov_a = pd.DataFrame(np.zeros((21,21)), index=range(21), columns=range(21))\n",
        "      for s in range(21):\n",
        "          for t in range(1,s):\n",
        "                cov_a.loc[t,s]=cov_a.loc[s,t]=(r_a**2)*((t)**2)\n",
        "      return cov_a"
      ],
      "execution_count": 2,
      "outputs": []
    },
    {
      "cell_type": "markdown",
      "metadata": {
        "id": "sY8smi5yA-9x"
      },
      "source": [
        "**covarianza_c()**\n",
        "\n",
        "$\\mathbb{Cov}(error_{c,t},~error_{c,s}) = \\sigma_c^2(1-e^{-2\\frac{r_c}{\\sigma_c}vt})e^{-\\frac{r_c}{\\sigma_c}v(s-t)}$"
      ]
    },
    {
      "cell_type": "code",
      "metadata": {
        "id": "s2WGn8dBItrg"
      },
      "source": [
        "# COVARIANZA CROSS TRACK\n",
        "\n",
        "def covarianza_c(sigma_c, r_c, v ):\n",
        "      cov_c = pd.DataFrame(np.zeros((21,21)), index=range(21), columns=range(21)) \n",
        "      for s in range(21):\n",
        "          cov_c.loc[s,s] = (sigma_c**2) * (1-np.exp(-2 * r_c * v * (s) /sigma_c))\n",
        "          for t in range(1,s):\n",
        "              cov_c.loc[t,s] = cov_c.loc[s,t] = (sigma_c**2)*(1-np.exp(-2*r_c*v*(t)/sigma_c))*np.exp(-r_c*v*(s-t)/sigma_c)\n",
        "      return cov_c"
      ],
      "execution_count": 3,
      "outputs": []
    },
    {
      "cell_type": "markdown",
      "metadata": {
        "id": "7uS1-lZgBML5"
      },
      "source": [
        "**simulacion_error()**"
      ]
    },
    {
      "cell_type": "code",
      "metadata": {
        "id": "tWBgy4V7Vxu5"
      },
      "source": [
        "def simulacion_error(matriz_covarianza, n_simulaciones = 1):\n",
        "  error = pd.DataFrame(np.random.multivariate_normal(np.zeros(len(matriz_covarianza)), \n",
        "                                                       matriz_covarianza, \n",
        "                                                       size = n_simulaciones), \n",
        "                              index =['simulación_'+str(a) for a in range(1, n_simulaciones+1)], \n",
        "                              columns=['min_' + str(t) for t in range(21)]) \n",
        "  return error"
      ],
      "execution_count": 4,
      "outputs": []
    },
    {
      "cell_type": "markdown",
      "metadata": {
        "id": "97b_r5JZUlUE"
      },
      "source": [
        "**probabilidad_de_conflicto()**"
      ]
    },
    {
      "cell_type": "code",
      "metadata": {
        "id": "OkmxoON_OgIZ"
      },
      "source": [
        "def probabilidad_de_conflicto(velocidad, distancia, r_a, r_c, sigma_c, n_simulaciones):\n",
        "\n",
        "    # CÁLCULO DE COVARIANZAS\n",
        "    cov_c = covarianza_c(sigma_c, r_c, velocidad)\n",
        "    cov_a = covarianza_a(r_a)\n",
        "\n",
        "    X_a = {}    # diccionario para guardar las cordenadas Along-Track de cada aeronave\n",
        "    X_c = {}    # diccionario para guardar las coordenadas Cross-Track de cada aeronave\n",
        "\n",
        "    for aeronave, signo_posicion in zip(['A','B'], (1,-1)):\n",
        "\n",
        "        # SIMULACIÖN DE LOS ERRORES\n",
        "\n",
        "        error_c = simulacion_error(cov_c, n_simulaciones)\n",
        "        error_a = simulacion_error(cov_a, n_simulaciones)\n",
        "\n",
        "        # CÁLCULO DE LAS COORDENADAS Along-Track (X_a = v_por_t + error)\n",
        "\n",
        "        # Obtenemos v * t para cada t\n",
        "        v_por_t = pd.Series( velocidad * np.arange(21), \n",
        "                            index=['min_' + str(t) for t in range(21)])\n",
        "    \n",
        "        X_a[aeronave] = v_por_t + error_a\n",
        "\n",
        "        # CÁLCULO DE COORDENADAS Cross-Track(\n",
        "\n",
        "        X_c[aeronave] = error_c +( distancia/2 * signo_posicion)\n",
        "\n",
        "    # PROBABILIDAD DE CONFLICTO\n",
        "    a = 0.1\n",
        "    Z = np.min((X_c['A']-X_c['B'])**2+(X_a['A']-X_a['B'])**2, axis=1) < a**2\n",
        "    probabilidad = Z.mean()\n",
        "    varianza = p*(1-p)\n",
        "\n",
        "    return probabilidad, varianza, Z"
      ],
      "execution_count": 5,
      "outputs": []
    },
    {
      "cell_type": "markdown",
      "metadata": {
        "id": "HBy6kJMQkdzN"
      },
      "source": [
        "**intervalo_confianza_bernoulli()**"
      ]
    },
    {
      "cell_type": "code",
      "metadata": {
        "id": "si3ESUDpxSZ9"
      },
      "source": [
        "def intervalo_confianza_bernoulli(tam_muestra, p_muestra , nivel_confianza):\n",
        "  '''p es la probabilidad obtenida en la muestra\n",
        "     nivel de confianza debe estar entre 0 y 1'''\n",
        "  izq = (1 - nivel_confianza)/2\n",
        "  z_score = - stats.norm.ppf(izq)\n",
        "  margen_error = z_score/(2*math.sqrt(tam_muestra))\n",
        "  v_inf = p_muestra - margen_error\n",
        "  v_sup = p_muestra + margen_error\n",
        "  print('Con probabilidad de 95% la probabilidad de colición está en el intervalo:',\n",
        "        v_inf, v_sup)\n",
        "  return margen_error"
      ],
      "execution_count": 6,
      "outputs": []
    },
    {
      "cell_type": "markdown",
      "metadata": {
        "id": "dojrJ78aOdGQ"
      },
      "source": [
        "# [Covarianza ](https://en.wikipedia.org/wiki/Covariance) entre dos gausianas"
      ]
    },
    {
      "cell_type": "code",
      "metadata": {
        "colab": {
          "base_uri": "https://localhost:8080/",
          "height": 476
        },
        "id": "LvlOIiixKVh3",
        "outputId": "61b90c75-2c19-457c-e9e3-e4ef6497ecc2"
      },
      "source": [
        "x1 = np.random.normal(loc=0, scale=1, size = 1000)\n",
        "y1 = np.random.normal(loc=0, scale = 1, size=1000)\n",
        "sns.jointplot(x=x1, y= y1, kind = 'scatter', color = 'darkcyan', s = 2 )\n",
        "M_covarianza1 = np.cov(x1, y1)\n",
        "print(M_covarianza1.round(2))\n",
        "plt.show()"
      ],
      "execution_count": 7,
      "outputs": [
        {
          "output_type": "stream",
          "name": "stdout",
          "text": [
            "[[ 0.99 -0.05]\n",
            " [-0.05  1.02]]\n"
          ]
        },
        {
          "output_type": "display_data",
          "data": {
            "image/png": "[encoded data removed]",
            "text/plain": [
              "<Figure size 432x432 with 3 Axes>"
            ]
          },
          "metadata": {
            "needs_background": "light"
          }
        }
      ]
    },
    {
      "cell_type": "code",
      "metadata": {
        "colab": {
          "base_uri": "https://localhost:8080/",
          "height": 476
        },
        "id": "grk-P9wXMScs",
        "outputId": "2189853c-ad87-4ced-9ccc-0e6b0dddd34b"
      },
      "source": [
        "x2  = np.random.normal(loc=5, scale=1.2, size = 1000)\n",
        "y2 = 6 - 2*x2 + np.random.normal(size=1000)\n",
        "sns.jointplot(x=x2, y= y2, kind = 'scatter', color = 'darkcyan', s = 2 )\n",
        "M_covarianza2 = np.cov(x2, y2)\n",
        "print(M_covarianza2.round(2))\n",
        "plt.show()"
      ],
      "execution_count": 8,
      "outputs": [
        {
          "output_type": "stream",
          "name": "stdout",
          "text": [
            "[[ 1.34 -2.71]\n",
            " [-2.71  6.44]]\n"
          ]
        },
        {
          "output_type": "display_data",
          "data": {
            "image/png": "[encoded data removed]",
            "text/plain": [
              "<Figure size 432x432 with 3 Axes>"
            ]
          },
          "metadata": {
            "needs_background": "light"
          }
        }
      ]
    },
    {
      "cell_type": "markdown",
      "metadata": {
        "id": "vO70lSf6TzwZ"
      },
      "source": [
        "podríamos generar las coordenadas de puntos aleatoiros por medio de la distribución normal multivariada, ingresando las medias y la matriz de covarianza"
      ]
    },
    {
      "cell_type": "code",
      "metadata": {
        "colab": {
          "base_uri": "https://localhost:8080/"
        },
        "id": "z7Kctd-F_NMZ",
        "outputId": "f1a52493-fac2-48b2-9122-1c166d3e7087"
      },
      "source": [
        "medias = np.array((x2.mean(), y2.mean()))\n",
        "medias.shape, M_covarianza2.shape"
      ],
      "execution_count": 9,
      "outputs": [
        {
          "output_type": "execute_result",
          "data": {
            "text/plain": [
              "((2,), (2, 2))"
            ]
          },
          "metadata": {},
          "execution_count": 9
        }
      ]
    },
    {
      "cell_type": "code",
      "metadata": {
        "colab": {
          "base_uri": "https://localhost:8080/"
        },
        "id": "GEBP5KjiRMY2",
        "outputId": "48852e44-e312-4f4e-eb05-36c302f52e7b"
      },
      "source": [
        "coordenadas = np.random.multivariate_normal(mean = medias, cov = M_covarianza2, size = 1000)\n",
        "coordenadas.shape"
      ],
      "execution_count": 10,
      "outputs": [
        {
          "output_type": "execute_result",
          "data": {
            "text/plain": [
              "(1000, 2)"
            ]
          },
          "metadata": {},
          "execution_count": 10
        }
      ]
    },
    {
      "cell_type": "code",
      "metadata": {
        "colab": {
          "base_uri": "https://localhost:8080/",
          "height": 441
        },
        "id": "olFjfjWeS4kH",
        "outputId": "53915b13-ac3e-491a-dfc6-050ceded27f2"
      },
      "source": [
        "sns.jointplot(x=coordenadas[:,0], y=coordenadas[:,1], kind = 'scatter', color = 'darkcyan', s = 2 )\n",
        "plt.show()"
      ],
      "execution_count": 11,
      "outputs": [
        {
          "output_type": "display_data",
          "data": {
            "image/png": "[encoded data removed]",
            "text/plain": [
              "<Figure size 432x432 with 3 Axes>"
            ]
          },
          "metadata": {
            "needs_background": "light"
          }
        }
      ]
    },
    {
      "cell_type": "markdown",
      "metadata": {
        "id": "Dpc99SR8Q2xV"
      },
      "source": [
        "# Estimacion de la probabilidad de conflicto entre dos aviones\n",
        "Dos aviones se consideran en conflicto cuando la distancia entre ellos es menor al umbral de 0.1 nmi en algun punto de sus trayectorias."
      ]
    },
    {
      "cell_type": "markdown",
      "metadata": {
        "id": "BAO91yLeyXX6"
      },
      "source": [
        "## 1) Simulación de trayectorias de vuelo\n",
        "La estimación de probabilidad de conflicto se calcua para trayectorias de 20 min\n",
        "La trayectoria de cada vuelo se define en el tiempo mediante dos coordenadas $Xa$ y $Xc$\n"
      ]
    },
    {
      "cell_type": "markdown",
      "metadata": {
        "id": "VAWnHL8vhIXh"
      },
      "source": [
        "![image.png](https://drive.google.com/uc?id=1KetZH3OEStTkAYjZEtjLJeEY__dMPoEH)\n",
        "\n",
        "$x_t = (x_{a,t}, x_{c,t})$\n",
        "\n",
        "$x_{a,t} = vt + error_{a,t}~~~~$  (Along-track component)\n",
        "\n",
        "$x_{c,t} = error_{c,t}~~~~~~~~~~~~~$       (Cross-track component)\n",
        "\n",
        "\n",
        "Se simularán coordenadas de cada avion en intervalos regulares de un minuto"
      ]
    },
    {
      "cell_type": "markdown",
      "metadata": {
        "id": "VtEiqUxojQ1e"
      },
      "source": [
        "### 1.1) Partimos de la Matriz de Covarianza de los errores en el tiempo\n",
        "**Tanto para el componente along-track, como para el cors-track.**\n",
        "\n",
        "\n",
        "\n"
      ]
    },
    {
      "cell_type": "markdown",
      "metadata": {
        "id": "pmHP_vt2CvsQ"
      },
      "source": [
        "$\\mathbb{Cov}(error_{a,t},~error_{a,s}) = r_a^2t^2$\n",
        "\n",
        "$\\mathbb{Cov}(error_{c,t},~error_{c,s}) = \\sigma_c^2(1-e^{-2\\frac{r_c}{\\sigma_c}vt})e^{-\\frac{r_c}{\\sigma_c}v(s-t)}$\n",
        "\n",
        "\n",
        "---\n",
        "R. A. Paielli y H. Erzberger, «Conflict Probability Estimation for Free Flight», Journal of Guidance, Control, and Dynamics, may 2012, doi: 10.2514/2.4081.\n"
      ]
    },
    {
      "cell_type": "code",
      "metadata": {
        "id": "10DHLCg094SX"
      },
      "source": [
        "v = 8           # velocidad (nmi/min)(nmi -> millas naúticas)\n",
        "\n",
        "# Para aviones con turvina civil se tiene\n",
        "r_c = 1/57      #  nmi/min \n",
        "sigma_c = 1     #  nmi\n",
        "\n",
        "r_a = 0         # se omiten los errores along-track\n",
        "\n",
        "# CÁLCULO DE COVARIANZAS\n",
        "cov_c = covarianza_c(sigma_c, r_c, v)\n",
        "cov_a = covarianza_a(r_a)"
      ],
      "execution_count": 12,
      "outputs": []
    },
    {
      "cell_type": "code",
      "metadata": {
        "colab": {
          "base_uri": "https://localhost:8080/",
          "height": 712
        },
        "id": "SvJOk4J6za8R",
        "outputId": "296950a4-1196-4d2f-826e-17f4e53adb8d"
      },
      "source": [
        "cov_c"
      ],
      "execution_count": 13,
      "outputs": [
        {
          "output_type": "execute_result",
          "data": {
            "text/html": [
              "<div>\n",
              "<style scoped>\n",
              "    .dataframe tbody tr th:only-of-type {\n",
              "        vertical-align: middle;\n",
              "    }\n",
              "\n",
              "    .dataframe tbody tr th {\n",
              "        vertical-align: top;\n",
              "    }\n",
              "\n",
              "    .dataframe thead th {\n",
              "        text-align: right;\n",
              "    }\n",
              "</style>\n",
              "<table border=\"1\" class=\"dataframe\">\n",
              "  <thead>\n",
              "    <tr style=\"text-align: right;\">\n",
              "      <th></th>\n",
              "      <th>0</th>\n",
              "      <th>1</th>\n",
              "      <th>2</th>\n",
              "      <th>3</th>\n",
              "      <th>4</th>\n",
              "      <th>5</th>\n",
              "      <th>6</th>\n",
              "      <th>7</th>\n",
              "      <th>8</th>\n",
              "      <th>9</th>\n",
              "      <th>10</th>\n",
              "      <th>11</th>\n",
              "      <th>12</th>\n",
              "      <th>13</th>\n",
              "      <th>14</th>\n",
              "      <th>15</th>\n",
              "      <th>16</th>\n",
              "      <th>17</th>\n",
              "      <th>18</th>\n",
              "      <th>19</th>\n",
              "      <th>20</th>\n",
              "    </tr>\n",
              "  </thead>\n",
              "  <tbody>\n",
              "    <tr>\n",
              "      <th>0</th>\n",
              "      <td>0.0</td>\n",
              "      <td>0.000000</td>\n",
              "      <td>0.000000</td>\n",
              "      <td>0.000000</td>\n",
              "      <td>0.000000</td>\n",
              "      <td>0.000000</td>\n",
              "      <td>0.000000</td>\n",
              "      <td>0.000000</td>\n",
              "      <td>0.000000</td>\n",
              "      <td>0.000000</td>\n",
              "      <td>0.000000</td>\n",
              "      <td>0.000000</td>\n",
              "      <td>0.000000</td>\n",
              "      <td>0.000000</td>\n",
              "      <td>0.000000</td>\n",
              "      <td>0.000000</td>\n",
              "      <td>0.000000</td>\n",
              "      <td>0.000000</td>\n",
              "      <td>0.000000</td>\n",
              "      <td>0.000000</td>\n",
              "      <td>0.000000</td>\n",
              "    </tr>\n",
              "    <tr>\n",
              "      <th>1</th>\n",
              "      <td>0.0</td>\n",
              "      <td>0.244746</td>\n",
              "      <td>0.212698</td>\n",
              "      <td>0.184846</td>\n",
              "      <td>0.160641</td>\n",
              "      <td>0.139605</td>\n",
              "      <td>0.121324</td>\n",
              "      <td>0.105437</td>\n",
              "      <td>0.091631</td>\n",
              "      <td>0.079632</td>\n",
              "      <td>0.069204</td>\n",
              "      <td>0.060142</td>\n",
              "      <td>0.052267</td>\n",
              "      <td>0.045423</td>\n",
              "      <td>0.039475</td>\n",
              "      <td>0.034306</td>\n",
              "      <td>0.029813</td>\n",
              "      <td>0.025909</td>\n",
              "      <td>0.022517</td>\n",
              "      <td>0.019568</td>\n",
              "      <td>0.017006</td>\n",
              "    </tr>\n",
              "    <tr>\n",
              "      <th>2</th>\n",
              "      <td>0.0</td>\n",
              "      <td>0.212698</td>\n",
              "      <td>0.429592</td>\n",
              "      <td>0.373338</td>\n",
              "      <td>0.324451</td>\n",
              "      <td>0.281965</td>\n",
              "      <td>0.245043</td>\n",
              "      <td>0.212955</td>\n",
              "      <td>0.185069</td>\n",
              "      <td>0.160835</td>\n",
              "      <td>0.139774</td>\n",
              "      <td>0.121471</td>\n",
              "      <td>0.105565</td>\n",
              "      <td>0.091742</td>\n",
              "      <td>0.079728</td>\n",
              "      <td>0.069288</td>\n",
              "      <td>0.060215</td>\n",
              "      <td>0.052330</td>\n",
              "      <td>0.045478</td>\n",
              "      <td>0.039523</td>\n",
              "      <td>0.034347</td>\n",
              "    </tr>\n",
              "    <tr>\n",
              "      <th>3</th>\n",
              "      <td>0.0</td>\n",
              "      <td>0.184846</td>\n",
              "      <td>0.373338</td>\n",
              "      <td>0.569197</td>\n",
              "      <td>0.494663</td>\n",
              "      <td>0.429888</td>\n",
              "      <td>0.373596</td>\n",
              "      <td>0.324675</td>\n",
              "      <td>0.282160</td>\n",
              "      <td>0.245212</td>\n",
              "      <td>0.213102</td>\n",
              "      <td>0.185197</td>\n",
              "      <td>0.160946</td>\n",
              "      <td>0.139871</td>\n",
              "      <td>0.121555</td>\n",
              "      <td>0.105638</td>\n",
              "      <td>0.091805</td>\n",
              "      <td>0.079783</td>\n",
              "      <td>0.069336</td>\n",
              "      <td>0.060257</td>\n",
              "      <td>0.052366</td>\n",
              "    </tr>\n",
              "    <tr>\n",
              "      <th>4</th>\n",
              "      <td>0.0</td>\n",
              "      <td>0.160641</td>\n",
              "      <td>0.324451</td>\n",
              "      <td>0.494663</td>\n",
              "      <td>0.674635</td>\n",
              "      <td>0.586294</td>\n",
              "      <td>0.509520</td>\n",
              "      <td>0.442800</td>\n",
              "      <td>0.384817</td>\n",
              "      <td>0.334426</td>\n",
              "      <td>0.290634</td>\n",
              "      <td>0.252577</td>\n",
              "      <td>0.219503</td>\n",
              "      <td>0.190760</td>\n",
              "      <td>0.165780</td>\n",
              "      <td>0.144072</td>\n",
              "      <td>0.125206</td>\n",
              "      <td>0.108811</td>\n",
              "      <td>0.094562</td>\n",
              "      <td>0.082180</td>\n",
              "      <td>0.071419</td>\n",
              "    </tr>\n",
              "    <tr>\n",
              "      <th>5</th>\n",
              "      <td>0.0</td>\n",
              "      <td>0.139605</td>\n",
              "      <td>0.281965</td>\n",
              "      <td>0.429888</td>\n",
              "      <td>0.586294</td>\n",
              "      <td>0.754267</td>\n",
              "      <td>0.655498</td>\n",
              "      <td>0.569663</td>\n",
              "      <td>0.495067</td>\n",
              "      <td>0.430240</td>\n",
              "      <td>0.373901</td>\n",
              "      <td>0.324940</td>\n",
              "      <td>0.282390</td>\n",
              "      <td>0.245412</td>\n",
              "      <td>0.213276</td>\n",
              "      <td>0.185348</td>\n",
              "      <td>0.161078</td>\n",
              "      <td>0.139985</td>\n",
              "      <td>0.121654</td>\n",
              "      <td>0.105724</td>\n",
              "      <td>0.091880</td>\n",
              "    </tr>\n",
              "    <tr>\n",
              "      <th>6</th>\n",
              "      <td>0.0</td>\n",
              "      <td>0.121324</td>\n",
              "      <td>0.245043</td>\n",
              "      <td>0.373596</td>\n",
              "      <td>0.509520</td>\n",
              "      <td>0.655498</td>\n",
              "      <td>0.814409</td>\n",
              "      <td>0.707765</td>\n",
              "      <td>0.615085</td>\n",
              "      <td>0.534542</td>\n",
              "      <td>0.464545</td>\n",
              "      <td>0.403715</td>\n",
              "      <td>0.350850</td>\n",
              "      <td>0.304907</td>\n",
              "      <td>0.264980</td>\n",
              "      <td>0.230282</td>\n",
              "      <td>0.200127</td>\n",
              "      <td>0.173921</td>\n",
              "      <td>0.151147</td>\n",
              "      <td>0.131355</td>\n",
              "      <td>0.114154</td>\n",
              "    </tr>\n",
              "    <tr>\n",
              "      <th>7</th>\n",
              "      <td>0.0</td>\n",
              "      <td>0.105437</td>\n",
              "      <td>0.212955</td>\n",
              "      <td>0.324675</td>\n",
              "      <td>0.442800</td>\n",
              "      <td>0.569663</td>\n",
              "      <td>0.707765</td>\n",
              "      <td>0.859832</td>\n",
              "      <td>0.747240</td>\n",
              "      <td>0.649391</td>\n",
              "      <td>0.564355</td>\n",
              "      <td>0.490455</td>\n",
              "      <td>0.426231</td>\n",
              "      <td>0.370418</td>\n",
              "      <td>0.321913</td>\n",
              "      <td>0.279759</td>\n",
              "      <td>0.243126</td>\n",
              "      <td>0.211289</td>\n",
              "      <td>0.183622</td>\n",
              "      <td>0.159577</td>\n",
              "      <td>0.138681</td>\n",
              "    </tr>\n",
              "    <tr>\n",
              "      <th>8</th>\n",
              "      <td>0.0</td>\n",
              "      <td>0.091631</td>\n",
              "      <td>0.185069</td>\n",
              "      <td>0.282160</td>\n",
              "      <td>0.384817</td>\n",
              "      <td>0.495067</td>\n",
              "      <td>0.615085</td>\n",
              "      <td>0.747240</td>\n",
              "      <td>0.894137</td>\n",
              "      <td>0.777053</td>\n",
              "      <td>0.675301</td>\n",
              "      <td>0.586872</td>\n",
              "      <td>0.510023</td>\n",
              "      <td>0.443237</td>\n",
              "      <td>0.385197</td>\n",
              "      <td>0.334757</td>\n",
              "      <td>0.290921</td>\n",
              "      <td>0.252826</td>\n",
              "      <td>0.219719</td>\n",
              "      <td>0.190948</td>\n",
              "      <td>0.165944</td>\n",
              "    </tr>\n",
              "    <tr>\n",
              "      <th>9</th>\n",
              "      <td>0.0</td>\n",
              "      <td>0.079632</td>\n",
              "      <td>0.160835</td>\n",
              "      <td>0.245212</td>\n",
              "      <td>0.334426</td>\n",
              "      <td>0.430240</td>\n",
              "      <td>0.534542</td>\n",
              "      <td>0.649391</td>\n",
              "      <td>0.777053</td>\n",
              "      <td>0.920047</td>\n",
              "      <td>0.799570</td>\n",
              "      <td>0.694869</td>\n",
              "      <td>0.603878</td>\n",
              "      <td>0.524802</td>\n",
              "      <td>0.456081</td>\n",
              "      <td>0.396359</td>\n",
              "      <td>0.344457</td>\n",
              "      <td>0.299351</td>\n",
              "      <td>0.260152</td>\n",
              "      <td>0.226086</td>\n",
              "      <td>0.196481</td>\n",
              "    </tr>\n",
              "    <tr>\n",
              "      <th>10</th>\n",
              "      <td>0.0</td>\n",
              "      <td>0.069204</td>\n",
              "      <td>0.139774</td>\n",
              "      <td>0.213102</td>\n",
              "      <td>0.290634</td>\n",
              "      <td>0.373901</td>\n",
              "      <td>0.464545</td>\n",
              "      <td>0.564355</td>\n",
              "      <td>0.675301</td>\n",
              "      <td>0.799570</td>\n",
              "      <td>0.939615</td>\n",
              "      <td>0.816576</td>\n",
              "      <td>0.709648</td>\n",
              "      <td>0.616722</td>\n",
              "      <td>0.535964</td>\n",
              "      <td>0.465781</td>\n",
              "      <td>0.404789</td>\n",
              "      <td>0.351783</td>\n",
              "      <td>0.305718</td>\n",
              "      <td>0.265685</td>\n",
              "      <td>0.230895</td>\n",
              "    </tr>\n",
              "    <tr>\n",
              "      <th>11</th>\n",
              "      <td>0.0</td>\n",
              "      <td>0.060142</td>\n",
              "      <td>0.121471</td>\n",
              "      <td>0.185197</td>\n",
              "      <td>0.252577</td>\n",
              "      <td>0.324940</td>\n",
              "      <td>0.403715</td>\n",
              "      <td>0.490455</td>\n",
              "      <td>0.586872</td>\n",
              "      <td>0.694869</td>\n",
              "      <td>0.816576</td>\n",
              "      <td>0.954394</td>\n",
              "      <td>0.829419</td>\n",
              "      <td>0.720810</td>\n",
              "      <td>0.626422</td>\n",
              "      <td>0.544394</td>\n",
              "      <td>0.473107</td>\n",
              "      <td>0.411155</td>\n",
              "      <td>0.357316</td>\n",
              "      <td>0.310527</td>\n",
              "      <td>0.269864</td>\n",
              "    </tr>\n",
              "    <tr>\n",
              "      <th>12</th>\n",
              "      <td>0.0</td>\n",
              "      <td>0.052267</td>\n",
              "      <td>0.105565</td>\n",
              "      <td>0.160946</td>\n",
              "      <td>0.219503</td>\n",
              "      <td>0.282390</td>\n",
              "      <td>0.350850</td>\n",
              "      <td>0.426231</td>\n",
              "      <td>0.510023</td>\n",
              "      <td>0.603878</td>\n",
              "      <td>0.709648</td>\n",
              "      <td>0.829419</td>\n",
              "      <td>0.965556</td>\n",
              "      <td>0.839120</td>\n",
              "      <td>0.729240</td>\n",
              "      <td>0.633748</td>\n",
              "      <td>0.550761</td>\n",
              "      <td>0.478640</td>\n",
              "      <td>0.415964</td>\n",
              "      <td>0.361495</td>\n",
              "      <td>0.314158</td>\n",
              "    </tr>\n",
              "    <tr>\n",
              "      <th>13</th>\n",
              "      <td>0.0</td>\n",
              "      <td>0.045423</td>\n",
              "      <td>0.091742</td>\n",
              "      <td>0.139871</td>\n",
              "      <td>0.190760</td>\n",
              "      <td>0.245412</td>\n",
              "      <td>0.304907</td>\n",
              "      <td>0.370418</td>\n",
              "      <td>0.443237</td>\n",
              "      <td>0.524802</td>\n",
              "      <td>0.616722</td>\n",
              "      <td>0.720810</td>\n",
              "      <td>0.839120</td>\n",
              "      <td>0.973986</td>\n",
              "      <td>0.846446</td>\n",
              "      <td>0.735606</td>\n",
              "      <td>0.639281</td>\n",
              "      <td>0.555569</td>\n",
              "      <td>0.482819</td>\n",
              "      <td>0.419596</td>\n",
              "      <td>0.364651</td>\n",
              "    </tr>\n",
              "    <tr>\n",
              "      <th>14</th>\n",
              "      <td>0.0</td>\n",
              "      <td>0.039475</td>\n",
              "      <td>0.079728</td>\n",
              "      <td>0.121555</td>\n",
              "      <td>0.165780</td>\n",
              "      <td>0.213276</td>\n",
              "      <td>0.264980</td>\n",
              "      <td>0.321913</td>\n",
              "      <td>0.385197</td>\n",
              "      <td>0.456081</td>\n",
              "      <td>0.535964</td>\n",
              "      <td>0.626422</td>\n",
              "      <td>0.729240</td>\n",
              "      <td>0.846446</td>\n",
              "      <td>0.980353</td>\n",
              "      <td>0.851979</td>\n",
              "      <td>0.740415</td>\n",
              "      <td>0.643460</td>\n",
              "      <td>0.559201</td>\n",
              "      <td>0.485975</td>\n",
              "      <td>0.422339</td>\n",
              "    </tr>\n",
              "    <tr>\n",
              "      <th>15</th>\n",
              "      <td>0.0</td>\n",
              "      <td>0.034306</td>\n",
              "      <td>0.069288</td>\n",
              "      <td>0.105638</td>\n",
              "      <td>0.144072</td>\n",
              "      <td>0.185348</td>\n",
              "      <td>0.230282</td>\n",
              "      <td>0.279759</td>\n",
              "      <td>0.334757</td>\n",
              "      <td>0.396359</td>\n",
              "      <td>0.465781</td>\n",
              "      <td>0.544394</td>\n",
              "      <td>0.633748</td>\n",
              "      <td>0.735606</td>\n",
              "      <td>0.851979</td>\n",
              "      <td>0.985161</td>\n",
              "      <td>0.856158</td>\n",
              "      <td>0.744047</td>\n",
              "      <td>0.646616</td>\n",
              "      <td>0.561944</td>\n",
              "      <td>0.488359</td>\n",
              "    </tr>\n",
              "    <tr>\n",
              "      <th>16</th>\n",
              "      <td>0.0</td>\n",
              "      <td>0.029813</td>\n",
              "      <td>0.060215</td>\n",
              "      <td>0.091805</td>\n",
              "      <td>0.125206</td>\n",
              "      <td>0.161078</td>\n",
              "      <td>0.200127</td>\n",
              "      <td>0.243126</td>\n",
              "      <td>0.290921</td>\n",
              "      <td>0.344457</td>\n",
              "      <td>0.404789</td>\n",
              "      <td>0.473107</td>\n",
              "      <td>0.550761</td>\n",
              "      <td>0.639281</td>\n",
              "      <td>0.740415</td>\n",
              "      <td>0.856158</td>\n",
              "      <td>0.988793</td>\n",
              "      <td>0.859314</td>\n",
              "      <td>0.746790</td>\n",
              "      <td>0.649000</td>\n",
              "      <td>0.564015</td>\n",
              "    </tr>\n",
              "    <tr>\n",
              "      <th>17</th>\n",
              "      <td>0.0</td>\n",
              "      <td>0.025909</td>\n",
              "      <td>0.052330</td>\n",
              "      <td>0.079783</td>\n",
              "      <td>0.108811</td>\n",
              "      <td>0.139985</td>\n",
              "      <td>0.173921</td>\n",
              "      <td>0.211289</td>\n",
              "      <td>0.252826</td>\n",
              "      <td>0.299351</td>\n",
              "      <td>0.351783</td>\n",
              "      <td>0.411155</td>\n",
              "      <td>0.478640</td>\n",
              "      <td>0.555569</td>\n",
              "      <td>0.643460</td>\n",
              "      <td>0.744047</td>\n",
              "      <td>0.859314</td>\n",
              "      <td>0.991536</td>\n",
              "      <td>0.861698</td>\n",
              "      <td>0.748861</td>\n",
              "      <td>0.650800</td>\n",
              "    </tr>\n",
              "    <tr>\n",
              "      <th>18</th>\n",
              "      <td>0.0</td>\n",
              "      <td>0.022517</td>\n",
              "      <td>0.045478</td>\n",
              "      <td>0.069336</td>\n",
              "      <td>0.094562</td>\n",
              "      <td>0.121654</td>\n",
              "      <td>0.151147</td>\n",
              "      <td>0.183622</td>\n",
              "      <td>0.219719</td>\n",
              "      <td>0.260152</td>\n",
              "      <td>0.305718</td>\n",
              "      <td>0.357316</td>\n",
              "      <td>0.415964</td>\n",
              "      <td>0.482819</td>\n",
              "      <td>0.559201</td>\n",
              "      <td>0.646616</td>\n",
              "      <td>0.746790</td>\n",
              "      <td>0.861698</td>\n",
              "      <td>0.993608</td>\n",
              "      <td>0.863498</td>\n",
              "      <td>0.750426</td>\n",
              "    </tr>\n",
              "    <tr>\n",
              "      <th>19</th>\n",
              "      <td>0.0</td>\n",
              "      <td>0.019568</td>\n",
              "      <td>0.039523</td>\n",
              "      <td>0.060257</td>\n",
              "      <td>0.082180</td>\n",
              "      <td>0.105724</td>\n",
              "      <td>0.131355</td>\n",
              "      <td>0.159577</td>\n",
              "      <td>0.190948</td>\n",
              "      <td>0.226086</td>\n",
              "      <td>0.265685</td>\n",
              "      <td>0.310527</td>\n",
              "      <td>0.361495</td>\n",
              "      <td>0.419596</td>\n",
              "      <td>0.485975</td>\n",
              "      <td>0.561944</td>\n",
              "      <td>0.649000</td>\n",
              "      <td>0.748861</td>\n",
              "      <td>0.863498</td>\n",
              "      <td>0.995172</td>\n",
              "      <td>0.864858</td>\n",
              "    </tr>\n",
              "    <tr>\n",
              "      <th>20</th>\n",
              "      <td>0.0</td>\n",
              "      <td>0.017006</td>\n",
              "      <td>0.034347</td>\n",
              "      <td>0.052366</td>\n",
              "      <td>0.071419</td>\n",
              "      <td>0.091880</td>\n",
              "      <td>0.114154</td>\n",
              "      <td>0.138681</td>\n",
              "      <td>0.165944</td>\n",
              "      <td>0.196481</td>\n",
              "      <td>0.230895</td>\n",
              "      <td>0.269864</td>\n",
              "      <td>0.314158</td>\n",
              "      <td>0.364651</td>\n",
              "      <td>0.422339</td>\n",
              "      <td>0.488359</td>\n",
              "      <td>0.564015</td>\n",
              "      <td>0.650800</td>\n",
              "      <td>0.750426</td>\n",
              "      <td>0.864858</td>\n",
              "      <td>0.996354</td>\n",
              "    </tr>\n",
              "  </tbody>\n",
              "</table>\n",
              "</div>"
            ],
            "text/plain": [
              "     0         1         2         3   ...        17        18        19        20\n",
              "0   0.0  0.000000  0.000000  0.000000  ...  0.000000  0.000000  0.000000  0.000000\n",
              "1   0.0  0.244746  0.212698  0.184846  ...  0.025909  0.022517  0.019568  0.017006\n",
              "2   0.0  0.212698  0.429592  0.373338  ...  0.052330  0.045478  0.039523  0.034347\n",
              "3   0.0  0.184846  0.373338  0.569197  ...  0.079783  0.069336  0.060257  0.052366\n",
              "4   0.0  0.160641  0.324451  0.494663  ...  0.108811  0.094562  0.082180  0.071419\n",
              "5   0.0  0.139605  0.281965  0.429888  ...  0.139985  0.121654  0.105724  0.091880\n",
              "6   0.0  0.121324  0.245043  0.373596  ...  0.173921  0.151147  0.131355  0.114154\n",
              "7   0.0  0.105437  0.212955  0.324675  ...  0.211289  0.183622  0.159577  0.138681\n",
              "8   0.0  0.091631  0.185069  0.282160  ...  0.252826  0.219719  0.190948  0.165944\n",
              "9   0.0  0.079632  0.160835  0.245212  ...  0.299351  0.260152  0.226086  0.196481\n",
              "10  0.0  0.069204  0.139774  0.213102  ...  0.351783  0.305718  0.265685  0.230895\n",
              "11  0.0  0.060142  0.121471  0.185197  ...  0.411155  0.357316  0.310527  0.269864\n",
              "12  0.0  0.052267  0.105565  0.160946  ...  0.478640  0.415964  0.361495  0.314158\n",
              "13  0.0  0.045423  0.091742  0.139871  ...  0.555569  0.482819  0.419596  0.364651\n",
              "14  0.0  0.039475  0.079728  0.121555  ...  0.643460  0.559201  0.485975  0.422339\n",
              "15  0.0  0.034306  0.069288  0.105638  ...  0.744047  0.646616  0.561944  0.488359\n",
              "16  0.0  0.029813  0.060215  0.091805  ...  0.859314  0.746790  0.649000  0.564015\n",
              "17  0.0  0.025909  0.052330  0.079783  ...  0.991536  0.861698  0.748861  0.650800\n",
              "18  0.0  0.022517  0.045478  0.069336  ...  0.861698  0.993608  0.863498  0.750426\n",
              "19  0.0  0.019568  0.039523  0.060257  ...  0.748861  0.863498  0.995172  0.864858\n",
              "20  0.0  0.017006  0.034347  0.052366  ...  0.650800  0.750426  0.864858  0.996354\n",
              "\n",
              "[21 rows x 21 columns]"
            ]
          },
          "metadata": {},
          "execution_count": 13
        }
      ]
    },
    {
      "cell_type": "markdown",
      "metadata": {
        "id": "YoMW3UH3ReSH"
      },
      "source": [
        "### 1.2) Simulación de errores y calculo de coordenadas Along-Track y Cross-Track"
      ]
    },
    {
      "cell_type": "code",
      "metadata": {
        "id": "d4C-MU-TaJRo"
      },
      "source": [
        "d = 2            # distancia entre trayectorias\n",
        "n = 100          # número de simulaciones\n",
        "\n",
        "X_a = {}    # diccionario para guardar las cordenadas Along-Track de cada aeronave\n",
        "X_c = {}    # diccionario para guardar las coordenadas Cross-Track de cada aeronave\n",
        "\n",
        "for aeronave, signo_posicion in zip(['A','B'], (1,-1)):\n",
        "\n",
        "    # SIMULACIÖN DE LOS ERRORES\n",
        "\n",
        "    error_c = simulacion_error(cov_c, n_simulaciones = n)\n",
        "    error_a = simulacion_error(cov_a, n_simulaciones = n)\n",
        "\n",
        "    # CÁLCULO DE LAS COORDENADAS Along-Track (X_a = v_por_t + error)\n",
        "\n",
        "    # Obtenemos v * t para cada t\n",
        "    v_por_t = pd.Series( v * np.arange(21), \n",
        "                        index=['min_' + str(t) for t in range(21)])\n",
        "    \n",
        "    X_a[aeronave] = v_por_t + error_a\n",
        "\n",
        "    # CÁLCULO DE COORDENADAS Cross-Track(\n",
        "\n",
        "    X_c[aeronave] = error_c +( d/2 * signo_posicion)  "
      ],
      "execution_count": 14,
      "outputs": []
    },
    {
      "cell_type": "code",
      "metadata": {
        "colab": {
          "base_uri": "https://localhost:8080/",
          "height": 434
        },
        "id": "FcwtXL6k5kCW",
        "outputId": "99660967-6309-4c63-c1b6-8fef9559cebf"
      },
      "source": [
        "X_c['A']"
      ],
      "execution_count": 15,
      "outputs": [
        {
          "output_type": "execute_result",
          "data": {
            "text/html": [
              "<div>\n",
              "<style scoped>\n",
              "    .dataframe tbody tr th:only-of-type {\n",
              "        vertical-align: middle;\n",
              "    }\n",
              "\n",
              "    .dataframe tbody tr th {\n",
              "        vertical-align: top;\n",
              "    }\n",
              "\n",
              "    .dataframe thead th {\n",
              "        text-align: right;\n",
              "    }\n",
              "</style>\n",
              "<table border=\"1\" class=\"dataframe\">\n",
              "  <thead>\n",
              "    <tr style=\"text-align: right;\">\n",
              "      <th></th>\n",
              "      <th>min_0</th>\n",
              "      <th>min_1</th>\n",
              "      <th>min_2</th>\n",
              "      <th>min_3</th>\n",
              "      <th>min_4</th>\n",
              "      <th>min_5</th>\n",
              "      <th>min_6</th>\n",
              "      <th>min_7</th>\n",
              "      <th>min_8</th>\n",
              "      <th>min_9</th>\n",
              "      <th>min_10</th>\n",
              "      <th>min_11</th>\n",
              "      <th>min_12</th>\n",
              "      <th>min_13</th>\n",
              "      <th>min_14</th>\n",
              "      <th>min_15</th>\n",
              "      <th>min_16</th>\n",
              "      <th>min_17</th>\n",
              "      <th>min_18</th>\n",
              "      <th>min_19</th>\n",
              "      <th>min_20</th>\n",
              "    </tr>\n",
              "  </thead>\n",
              "  <tbody>\n",
              "    <tr>\n",
              "      <th>simulación_1</th>\n",
              "      <td>1.0</td>\n",
              "      <td>1.309667</td>\n",
              "      <td>0.474978</td>\n",
              "      <td>0.639636</td>\n",
              "      <td>0.829947</td>\n",
              "      <td>1.456653</td>\n",
              "      <td>0.706720</td>\n",
              "      <td>-0.191609</td>\n",
              "      <td>-0.382232</td>\n",
              "      <td>-0.384203</td>\n",
              "      <td>-0.585259</td>\n",
              "      <td>0.605284</td>\n",
              "      <td>1.146587</td>\n",
              "      <td>1.335245</td>\n",
              "      <td>1.752872</td>\n",
              "      <td>2.022442</td>\n",
              "      <td>1.427533</td>\n",
              "      <td>0.904529</td>\n",
              "      <td>1.756175</td>\n",
              "      <td>1.047564</td>\n",
              "      <td>1.201643</td>\n",
              "    </tr>\n",
              "    <tr>\n",
              "      <th>simulación_2</th>\n",
              "      <td>1.0</td>\n",
              "      <td>0.565358</td>\n",
              "      <td>-0.389609</td>\n",
              "      <td>0.447213</td>\n",
              "      <td>0.214252</td>\n",
              "      <td>0.134395</td>\n",
              "      <td>0.335901</td>\n",
              "      <td>0.331710</td>\n",
              "      <td>0.285195</td>\n",
              "      <td>0.547392</td>\n",
              "      <td>0.044185</td>\n",
              "      <td>0.807565</td>\n",
              "      <td>1.016362</td>\n",
              "      <td>0.925898</td>\n",
              "      <td>0.761477</td>\n",
              "      <td>0.041536</td>\n",
              "      <td>-0.055581</td>\n",
              "      <td>-0.368905</td>\n",
              "      <td>0.355926</td>\n",
              "      <td>1.341447</td>\n",
              "      <td>1.152070</td>\n",
              "    </tr>\n",
              "    <tr>\n",
              "      <th>simulación_3</th>\n",
              "      <td>1.0</td>\n",
              "      <td>1.195406</td>\n",
              "      <td>0.572671</td>\n",
              "      <td>1.086486</td>\n",
              "      <td>0.462363</td>\n",
              "      <td>0.481012</td>\n",
              "      <td>0.302520</td>\n",
              "      <td>0.476352</td>\n",
              "      <td>0.550018</td>\n",
              "      <td>0.829396</td>\n",
              "      <td>1.879306</td>\n",
              "      <td>1.300755</td>\n",
              "      <td>1.210246</td>\n",
              "      <td>1.722569</td>\n",
              "      <td>1.609040</td>\n",
              "      <td>1.146559</td>\n",
              "      <td>0.659068</td>\n",
              "      <td>1.627712</td>\n",
              "      <td>1.676050</td>\n",
              "      <td>2.024301</td>\n",
              "      <td>2.260737</td>\n",
              "    </tr>\n",
              "    <tr>\n",
              "      <th>simulación_4</th>\n",
              "      <td>1.0</td>\n",
              "      <td>1.069692</td>\n",
              "      <td>0.483520</td>\n",
              "      <td>0.451731</td>\n",
              "      <td>1.064800</td>\n",
              "      <td>0.774542</td>\n",
              "      <td>-0.004851</td>\n",
              "      <td>-0.636540</td>\n",
              "      <td>-0.480569</td>\n",
              "      <td>-1.469684</td>\n",
              "      <td>-1.181251</td>\n",
              "      <td>-0.995106</td>\n",
              "      <td>-0.827870</td>\n",
              "      <td>-0.098433</td>\n",
              "      <td>-0.205618</td>\n",
              "      <td>0.116804</td>\n",
              "      <td>0.501368</td>\n",
              "      <td>0.532180</td>\n",
              "      <td>0.205500</td>\n",
              "      <td>0.751637</td>\n",
              "      <td>1.159677</td>\n",
              "    </tr>\n",
              "    <tr>\n",
              "      <th>simulación_5</th>\n",
              "      <td>1.0</td>\n",
              "      <td>1.124003</td>\n",
              "      <td>0.268441</td>\n",
              "      <td>-0.297975</td>\n",
              "      <td>-0.596885</td>\n",
              "      <td>-0.371723</td>\n",
              "      <td>0.353552</td>\n",
              "      <td>0.162067</td>\n",
              "      <td>-0.087478</td>\n",
              "      <td>0.192036</td>\n",
              "      <td>-0.306938</td>\n",
              "      <td>0.007629</td>\n",
              "      <td>-0.257034</td>\n",
              "      <td>-0.218434</td>\n",
              "      <td>-0.042811</td>\n",
              "      <td>0.120109</td>\n",
              "      <td>0.337855</td>\n",
              "      <td>-0.055695</td>\n",
              "      <td>0.319638</td>\n",
              "      <td>0.573659</td>\n",
              "      <td>0.742040</td>\n",
              "    </tr>\n",
              "    <tr>\n",
              "      <th>...</th>\n",
              "      <td>...</td>\n",
              "      <td>...</td>\n",
              "      <td>...</td>\n",
              "      <td>...</td>\n",
              "      <td>...</td>\n",
              "      <td>...</td>\n",
              "      <td>...</td>\n",
              "      <td>...</td>\n",
              "      <td>...</td>\n",
              "      <td>...</td>\n",
              "      <td>...</td>\n",
              "      <td>...</td>\n",
              "      <td>...</td>\n",
              "      <td>...</td>\n",
              "      <td>...</td>\n",
              "      <td>...</td>\n",
              "      <td>...</td>\n",
              "      <td>...</td>\n",
              "      <td>...</td>\n",
              "      <td>...</td>\n",
              "      <td>...</td>\n",
              "    </tr>\n",
              "    <tr>\n",
              "      <th>simulación_96</th>\n",
              "      <td>1.0</td>\n",
              "      <td>0.113945</td>\n",
              "      <td>0.087075</td>\n",
              "      <td>1.708670</td>\n",
              "      <td>1.559584</td>\n",
              "      <td>1.427980</td>\n",
              "      <td>1.218171</td>\n",
              "      <td>1.650844</td>\n",
              "      <td>0.881561</td>\n",
              "      <td>0.928110</td>\n",
              "      <td>1.182964</td>\n",
              "      <td>0.435673</td>\n",
              "      <td>-0.418265</td>\n",
              "      <td>-0.946162</td>\n",
              "      <td>-0.515044</td>\n",
              "      <td>-0.490789</td>\n",
              "      <td>-0.191184</td>\n",
              "      <td>0.796406</td>\n",
              "      <td>1.798728</td>\n",
              "      <td>2.328851</td>\n",
              "      <td>2.355541</td>\n",
              "    </tr>\n",
              "    <tr>\n",
              "      <th>simulación_97</th>\n",
              "      <td>1.0</td>\n",
              "      <td>1.382394</td>\n",
              "      <td>1.388089</td>\n",
              "      <td>2.181236</td>\n",
              "      <td>1.407565</td>\n",
              "      <td>0.367812</td>\n",
              "      <td>-0.253691</td>\n",
              "      <td>0.152715</td>\n",
              "      <td>0.075691</td>\n",
              "      <td>-0.019123</td>\n",
              "      <td>0.230813</td>\n",
              "      <td>0.706684</td>\n",
              "      <td>0.547278</td>\n",
              "      <td>0.705122</td>\n",
              "      <td>0.430962</td>\n",
              "      <td>0.960601</td>\n",
              "      <td>1.254877</td>\n",
              "      <td>1.639692</td>\n",
              "      <td>1.115174</td>\n",
              "      <td>1.698097</td>\n",
              "      <td>1.128006</td>\n",
              "    </tr>\n",
              "    <tr>\n",
              "      <th>simulación_98</th>\n",
              "      <td>1.0</td>\n",
              "      <td>1.252066</td>\n",
              "      <td>1.152176</td>\n",
              "      <td>0.873160</td>\n",
              "      <td>0.545299</td>\n",
              "      <td>1.202893</td>\n",
              "      <td>0.833909</td>\n",
              "      <td>0.637013</td>\n",
              "      <td>0.477786</td>\n",
              "      <td>0.482371</td>\n",
              "      <td>0.647883</td>\n",
              "      <td>0.543491</td>\n",
              "      <td>-0.040505</td>\n",
              "      <td>0.335474</td>\n",
              "      <td>-0.163317</td>\n",
              "      <td>-0.254017</td>\n",
              "      <td>-0.147419</td>\n",
              "      <td>-0.740970</td>\n",
              "      <td>0.077055</td>\n",
              "      <td>1.175764</td>\n",
              "      <td>1.235135</td>\n",
              "    </tr>\n",
              "    <tr>\n",
              "      <th>simulación_99</th>\n",
              "      <td>1.0</td>\n",
              "      <td>1.200811</td>\n",
              "      <td>1.246686</td>\n",
              "      <td>0.893973</td>\n",
              "      <td>1.066557</td>\n",
              "      <td>2.108613</td>\n",
              "      <td>2.001046</td>\n",
              "      <td>1.731613</td>\n",
              "      <td>1.266182</td>\n",
              "      <td>0.561998</td>\n",
              "      <td>0.140641</td>\n",
              "      <td>0.425946</td>\n",
              "      <td>0.219244</td>\n",
              "      <td>0.088260</td>\n",
              "      <td>0.311813</td>\n",
              "      <td>0.011300</td>\n",
              "      <td>-0.349454</td>\n",
              "      <td>0.386949</td>\n",
              "      <td>0.690068</td>\n",
              "      <td>0.841728</td>\n",
              "      <td>1.794766</td>\n",
              "    </tr>\n",
              "    <tr>\n",
              "      <th>simulación_100</th>\n",
              "      <td>1.0</td>\n",
              "      <td>0.920346</td>\n",
              "      <td>1.869292</td>\n",
              "      <td>2.462187</td>\n",
              "      <td>2.123491</td>\n",
              "      <td>2.104961</td>\n",
              "      <td>2.203867</td>\n",
              "      <td>0.921510</td>\n",
              "      <td>0.262072</td>\n",
              "      <td>0.167003</td>\n",
              "      <td>0.799495</td>\n",
              "      <td>0.671009</td>\n",
              "      <td>-0.186618</td>\n",
              "      <td>0.190641</td>\n",
              "      <td>-0.316580</td>\n",
              "      <td>-0.394020</td>\n",
              "      <td>-0.625043</td>\n",
              "      <td>-0.420761</td>\n",
              "      <td>0.334178</td>\n",
              "      <td>0.326950</td>\n",
              "      <td>-0.025898</td>\n",
              "    </tr>\n",
              "  </tbody>\n",
              "</table>\n",
              "<p>100 rows × 21 columns</p>\n",
              "</div>"
            ],
            "text/plain": [
              "                min_0     min_1     min_2  ...    min_18    min_19    min_20\n",
              "simulación_1      1.0  1.309667  0.474978  ...  1.756175  1.047564  1.201643\n",
              "simulación_2      1.0  0.565358 -0.389609  ...  0.355926  1.341447  1.152070\n",
              "simulación_3      1.0  1.195406  0.572671  ...  1.676050  2.024301  2.260737\n",
              "simulación_4      1.0  1.069692  0.483520  ...  0.205500  0.751637  1.159677\n",
              "simulación_5      1.0  1.124003  0.268441  ...  0.319638  0.573659  0.742040\n",
              "...               ...       ...       ...  ...       ...       ...       ...\n",
              "simulación_96     1.0  0.113945  0.087075  ...  1.798728  2.328851  2.355541\n",
              "simulación_97     1.0  1.382394  1.388089  ...  1.115174  1.698097  1.128006\n",
              "simulación_98     1.0  1.252066  1.152176  ...  0.077055  1.175764  1.235135\n",
              "simulación_99     1.0  1.200811  1.246686  ...  0.690068  0.841728  1.794766\n",
              "simulación_100    1.0  0.920346  1.869292  ...  0.334178  0.326950 -0.025898\n",
              "\n",
              "[100 rows x 21 columns]"
            ]
          },
          "metadata": {},
          "execution_count": 15
        }
      ]
    },
    {
      "cell_type": "markdown",
      "metadata": {
        "id": "scBKZCNJRscT"
      },
      "source": [
        "### VISUALIZACION DE TRAYECTORIAS"
      ]
    },
    {
      "cell_type": "code",
      "metadata": {
        "colab": {
          "base_uri": "https://localhost:8080/",
          "height": 264
        },
        "id": "4JceyRmsz0Wc",
        "outputId": "64dbbcbc-779f-446c-b6c0-a0d36265c308"
      },
      "source": [
        "simulacion = 100\n",
        "plt.plot(X_c['A'].loc['simulación_'+str(simulacion)].T, X_a['A'].loc['simulación_'+str(simulacion)].T, 'o-', color='b')\n",
        "plt.plot(X_c['B'].loc['simulación_'+str(simulacion)].T, X_a['B'].loc['simulación_'+str(simulacion)].T, 'o-', color='r')\n",
        "plt.show()"
      ],
      "execution_count": 16,
      "outputs": [
        {
          "output_type": "display_data",
          "data": {
            "image/png": "[encoded data removed]",
            "text/plain": [
              "<Figure size 432x288 with 1 Axes>"
            ]
          },
          "metadata": {
            "needs_background": "light"
          }
        }
      ]
    },
    {
      "cell_type": "markdown",
      "metadata": {
        "id": "vi_ZzqMpSH4j"
      },
      "source": [
        "## 2) Estimación de la probabilidad de conflicto\n",
        "La estimación de probabilidad de conflicto se calcua para trayectorias de 20 min\n",
        "La trayectoria de cada vuelo se define en el tiempo mediante dos coordenadas $Xa$ y $Xc$\n"
      ]
    },
    {
      "cell_type": "code",
      "metadata": {
        "colab": {
          "base_uri": "https://localhost:8080/"
        },
        "id": "FF95g88VKoAB",
        "outputId": "9679d454-1fa2-469e-9b18-23300d5ec1ca"
      },
      "source": [
        "a = 0.1\n",
        "Z = np.min((X_c['A']-X_c['B'])**2+(X_a['A']-X_a['B'])**2, axis=1)<a**2\n",
        "p = Z.mean()\n",
        "varianza = p*(1-p)\n",
        "\n",
        "print('Probabilidad ={},\\nVarianza ={}'.format(p, varianza))"
      ],
      "execution_count": 18,
      "outputs": [
        {
          "output_type": "stream",
          "name": "stdout",
          "text": [
            "Probabilidad =0.25,\n",
            "Varianza =0.1875\n"
          ]
        }
      ]
    },
    {
      "cell_type": "code",
      "metadata": {
        "colab": {
          "base_uri": "https://localhost:8080/"
        },
        "id": "EsckSrmSxkFl",
        "outputId": "f489e463-0326-400c-857d-c5e8ca6867c3"
      },
      "source": [
        "intervalo_confianza_bernoulli(n, p, 0.95)"
      ],
      "execution_count": 19,
      "outputs": [
        {
          "output_type": "stream",
          "name": "stdout",
          "text": [
            "Con probabilidad de 95% la probabilidad de colición está en el intervalo: 0.1520018007729973 0.3479981992270027\n"
          ]
        },
        {
          "output_type": "execute_result",
          "data": {
            "text/plain": [
              "0.0979981992270027"
            ]
          },
          "metadata": {},
          "execution_count": 19
        }
      ]
    },
    {
      "cell_type": "markdown",
      "metadata": {
        "id": "LdH0a7ZT8F_b"
      },
      "source": [
        "$\\epsilon \\leq \\cfrac{z_{score}}{2\\sqrt{n}}$\n",
        "\n",
        "$n = \\cfrac{{z_{score}}^2}{4\\epsilon^2}$\n",
        "\n",
        "$n = \\cfrac{{1.96}^2}{4\\epsilon^2}$"
      ]
    },
    {
      "cell_type": "code",
      "metadata": {
        "colab": {
          "base_uri": "https://localhost:8080/"
        },
        "id": "KflIJg9EmVux",
        "outputId": "9a26e7c2-3a1e-4fba-f0be-b8485e5af8ff"
      },
      "source": [
        "nivel_confianza = 0.95\n",
        "izq = (1 - nivel_confianza)/2\n",
        "z_score = - stats.norm.ppf( izq)\n",
        "z_score"
      ],
      "execution_count": 28,
      "outputs": [
        {
          "output_type": "execute_result",
          "data": {
            "text/plain": [
              "1.959963984540054"
            ]
          },
          "metadata": {},
          "execution_count": 28
        }
      ]
    },
    {
      "cell_type": "code",
      "metadata": {
        "colab": {
          "base_uri": "https://localhost:8080/"
        },
        "id": "-6k6DJAA--sB",
        "outputId": "c87e8e0b-71d0-4c80-df8a-9cd27eafe465"
      },
      "source": [
        "error = 0.01\n",
        "z_score = 1.96            #  95% de nivel de confianza\n",
        "N = int((z_score**2)/(4*(error**2)))\n",
        "N"
      ],
      "execution_count": 31,
      "outputs": [
        {
          "output_type": "execute_result",
          "data": {
            "text/plain": [
              "9603"
            ]
          },
          "metadata": {},
          "execution_count": 31
        }
      ]
    },
    {
      "cell_type": "markdown",
      "metadata": {
        "id": "yMz3ODNCOP9V"
      },
      "source": [
        "## TODO JUNTO"
      ]
    },
    {
      "cell_type": "code",
      "metadata": {
        "colab": {
          "base_uri": "https://localhost:8080/"
        },
        "id": "U0K5-C_MOgIH",
        "outputId": "29793a12-187b-4f00-c9c9-9d8227174608"
      },
      "source": [
        "p, varianza, Z = probabilidad_de_conflicto(velocidad = v, distancia=d,\n",
        "                                                  r_a=r_a, r_c=r_c, sigma_c=sigma_c,\n",
        "                                                  n_simulaciones = N)\n",
        "print('Probabilidad = {},\\nVarianza = {}'.format(p, varianza))"
      ],
      "execution_count": 32,
      "outputs": [
        {
          "output_type": "stream",
          "name": "stdout",
          "text": [
            "Probabilidad = 0.24950536290742475,\n",
            "Varianza = 0.1858886842316634\n"
          ]
        }
      ]
    },
    {
      "cell_type": "code",
      "metadata": {
        "colab": {
          "base_uri": "https://localhost:8080/",
          "height": 404
        },
        "id": "XXdLekPdV6fs",
        "outputId": "f8c1d290-a27c-4dda-fa6b-efd54a41f933"
      },
      "source": [
        "ns = range(0, N, 10)\n",
        "estimacion_p = []\n",
        "for n in ns:\n",
        "  estimacion_p.append(Z[:n].mean())\n",
        "\n",
        "#Gráfica estimación de p\n",
        "plt.figure(figsize=(16, 6))\n",
        "plt.plot(ns, estimacion_p, color='g', label = 'estimacion de la probabilidad de conflicto')\n",
        "plt.axhline(y=p, color='black', ls='--', label='estimacion con todas las simulaciones realizadas')\n",
        "plt.xlim(0, ns[-1])\n",
        "plt.ylim(.1, .4)\n",
        "plt.xlabel('Número de simulaciones')\n",
        "plt.ylabel('Estimación Probabilidad de Conflicto')\n",
        "plt.title('Estimación de Probabilidad de Conflicto entre dos aviones con {} nmi, según cantidad de simulaciones'.format(d))\n",
        "plt.legend()\n",
        "plt.show()"
      ],
      "execution_count": 33,
      "outputs": [
        {
          "output_type": "display_data",
          "data": {
            "image/png": "[encoded data removed]",
            "text/plain": [
              "<Figure size 1152x432 with 1 Axes>"
            ]
          },
          "metadata": {
            "needs_background": "light"
          }
        }
      ]
    },
    {
      "cell_type": "markdown",
      "metadata": {
        "id": "JrSPw2jFb6b9"
      },
      "source": [
        "# Probabilidad de conflicto en función de la distancia entre aviones"
      ]
    },
    {
      "cell_type": "code",
      "metadata": {
        "id": "XV3NC452bub8"
      },
      "source": [
        "n = N      # número de simulaciones\n",
        "distancias =  np.arange(0.2,5,0.2)          \n",
        "probabilidad =[]\n",
        "\n",
        "for dist in distancias:\n",
        "  resultados = probabilidad_de_conflicto(velocidad = v, distancia=dist,\n",
        "                                         r_a=r_a, r_c=r_c, sigma_c=sigma_c,\n",
        "                                         n_simulaciones = n)\n",
        "  probabilidad.append(resultados[0])"
      ],
      "execution_count": 34,
      "outputs": []
    },
    {
      "cell_type": "code",
      "metadata": {
        "colab": {
          "base_uri": "https://localhost:8080/",
          "height": 404
        },
        "id": "Lfd1L9HLgS4h",
        "outputId": "40184fb5-98b4-4b0c-ce8a-bb5687825b20"
      },
      "source": [
        "#Gráfica estimación de p\n",
        "plt.figure(figsize=(8, 6))\n",
        "plt.plot(distancias, probabilidad, 'o-', color='b', label ='Estimacion con {:,d} simulaciones'.format(n))\n",
        "plt.xlabel('Distancia entre aviones (nmi)')\n",
        "plt.ylabel('Probabilidad de conflicto')\n",
        "plt.title('Probabilidad de Conflicto según la distancia entre aviones')\n",
        "plt.legend()\n",
        "plt.show()"
      ],
      "execution_count": 35,
      "outputs": [
        {
          "output_type": "display_data",
          "data": {
            "image/png": "[encoded data removed]",
            "text/plain": [
              "<Figure size 576x432 with 1 Axes>"
            ]
          },
          "metadata": {
            "needs_background": "light"
          }
        }
      ]
    }
  ]
}