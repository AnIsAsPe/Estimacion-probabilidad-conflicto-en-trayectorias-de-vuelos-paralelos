{
  "nbformat": 4,
  "nbformat_minor": 0,
  "metadata": {
    "kernelspec": {
      "display_name": "Python 3",
      "language": "python",
      "name": "python3"
    },
    "language_info": {
      "codemirror_mode": {
        "name": "ipython",
        "version": 3
      },
      "file_extension": ".py",
      "mimetype": "text/x-python",
      "name": "python",
      "nbconvert_exporter": "python",
      "pygments_lexer": "ipython3",
      "version": "3.7.3"
    },
    "colab": {
      "name": "Estimación probabilidad de conflicto en trayectorias de vuelo_MonteCarlo.ipynb",
      "provenance": [],
      "collapsed_sections": [],
      "toc_visible": true,
      "machine_shape": "hm",
      "include_colab_link": true
    }
  },
  "cells": [
    {
      "cell_type": "markdown",
      "metadata": {
        "id": "view-in-github",
        "colab_type": "text"
      },
      "source": [
        "<a href=\"https://colab.research.google.com/github/AnIsAsPe/Estimacion-probabilidad-conflicto-en-trayectorias-de-vuelos-paralelos/blob/main/Notebooks/Estimaci%C3%B3n_probabilidad_de_conflicto_en_trayectorias_de_vuelo_MonteCarlo.ipynb\" target=\"_parent\"><img src=\"https://colab.research.google.com/assets/colab-badge.svg\" alt=\"Open In Colab\"/></a>"
      ]
    },
    {
      "cell_type": "markdown",
      "metadata": {
        "id": "apriGpjnyXX1"
      },
      "source": [
        "# Bibliotecas"
      ]
    },
    {
      "cell_type": "code",
      "metadata": {
        "id": "das9mGfMyXX5"
      },
      "source": [
        "import numpy as np\n",
        "import pandas as pd\n",
        "import matplotlib.pyplot as plt\n",
        "import math\n",
        "from scipy import stats\n",
        "import matplotlib.pyplot as plt\n",
        "import seaborn as sns"
      ],
      "execution_count": 1,
      "outputs": []
    },
    {
      "cell_type": "markdown",
      "metadata": {
        "id": "a7GbKyD_BcE5"
      },
      "source": [
        "# Funciones"
      ]
    },
    {
      "cell_type": "markdown",
      "metadata": {
        "id": "vMxYuMPdArRc"
      },
      "source": [
        "**covarianza_a()**\n",
        "\n",
        "$\\mathbb{Cov}(error_{a,t},~error_{a,s}) = r_a^2t^2$\n"
      ]
    },
    {
      "cell_type": "code",
      "metadata": {
        "id": "H29_amxzI7zM"
      },
      "source": [
        "# COVARIANZA ALONG TRACK\n",
        "def covarianza_a(r_a):  \n",
        "      cov_a = pd.DataFrame(np.zeros((21,21)), index=range(21), columns=range(21))\n",
        "      for s in range(21):\n",
        "          for t in range(s+1):\n",
        "                cov_a.loc[t,s]=cov_a.loc[s,t]=(r_a**2)*((t)**2)\n",
        "      return cov_a"
      ],
      "execution_count": 2,
      "outputs": []
    },
    {
      "cell_type": "markdown",
      "metadata": {
        "id": "sY8smi5yA-9x"
      },
      "source": [
        "**covarianza_c()**\n",
        "\n",
        "$\\mathbb{Cov}(error_{c,t},~error_{c,s}) = \\sigma_c^2(1-e^{-2\\frac{r_c}{\\sigma_c}vt})e^{-\\frac{r_c}{\\sigma_c}v(s-t)}$"
      ]
    },
    {
      "cell_type": "code",
      "metadata": {
        "id": "s2WGn8dBItrg"
      },
      "source": [
        "# COVARIANZA CROSS TRACK\n",
        "\n",
        "def covarianza_c(sigma_c, r_c, v ):\n",
        "      cov_c = pd.DataFrame(np.zeros((21,21)), index=range(21), columns=range(21)) \n",
        "      for s in range(21):\n",
        "          cov_c.loc[s,s] = (sigma_c**2) * (1-np.exp(-2 * r_c * v * (s) /sigma_c))\n",
        "          for t in range(1,s):\n",
        "              cov_c.loc[t,s] = cov_c.loc[s,t] = (sigma_c**2)*(1-np.exp(-2*r_c*v*(t)/sigma_c))*np.exp(-r_c*v*(s-t)/sigma_c)\n",
        "      return cov_c"
      ],
      "execution_count": 3,
      "outputs": []
    },
    {
      "cell_type": "markdown",
      "metadata": {
        "id": "7uS1-lZgBML5"
      },
      "source": [
        "**simulacion_error()**"
      ]
    },
    {
      "cell_type": "code",
      "metadata": {
        "id": "tWBgy4V7Vxu5"
      },
      "source": [
        "def simulacion_error(matriz_covarianza, n_simulaciones = 1):\n",
        "  error = pd.DataFrame(np.random.multivariate_normal(np.zeros(len(matriz_covarianza)), \n",
        "                                                       matriz_covarianza, \n",
        "                                                       size = n_simulaciones), \n",
        "                              index =['simulación_'+str(a) for a in range(1, n_simulaciones+1)], \n",
        "                              columns=['min_' + str(t) for t in range(21)]) \n",
        "  return error"
      ],
      "execution_count": 4,
      "outputs": []
    },
    {
      "cell_type": "markdown",
      "metadata": {
        "id": "97b_r5JZUlUE"
      },
      "source": [
        "**probabilidad_de_conflicto()**"
      ]
    },
    {
      "cell_type": "code",
      "metadata": {
        "id": "OkmxoON_OgIZ"
      },
      "source": [
        "def probabilidad_de_conflicto(velocidad, distancia, r_a, r_c, sigma_c, n_simulaciones):\n",
        "\n",
        "    # CÁLCULO DE COVARIANZAS\n",
        "    cov_c = covarianza_c(sigma_c, r_c, velocidad)\n",
        "    cov_a = covarianza_a(r_a)\n",
        "\n",
        "    X_a = {}    # diccionario para guardar las cordenadas Along-Track de cada aeronave\n",
        "    X_c = {}    # diccionario para guardar las coordenadas Cross-Track de cada aeronave\n",
        "\n",
        "    for aeronave, signo_posicion in zip(['A','B'], (1,-1)):\n",
        "\n",
        "        # SIMULACIÖN DE LOS ERRORES\n",
        "\n",
        "        error_c = simulacion_error(cov_c, n_simulaciones)\n",
        "        error_a = simulacion_error(cov_a, n_simulaciones)\n",
        "\n",
        "        # CÁLCULO DE LAS COORDENADAS Along-Track (X_a = v_por_t + error)\n",
        "\n",
        "        # Obtenemos v * t para cada t\n",
        "        v_por_t = pd.Series( velocidad * np.arange(21), \n",
        "                            index=['min_' + str(t) for t in range(21)])\n",
        "    \n",
        "        X_a[aeronave] = v_por_t + error_a\n",
        "\n",
        "        # CÁLCULO DE COORDENADAS Cross-Track(\n",
        "\n",
        "        X_c[aeronave] = error_c +( distancia/2 * signo_posicion)\n",
        "\n",
        "    # PROBABILIDAD DE CONFLICTO\n",
        "    a = 0.1\n",
        "    Z = np.min((X_c['A']-X_c['B'])**2+(X_a['A']-X_a['B'])**2, axis=1) < a**2\n",
        "    probabilidad = Z.mean()\n",
        "    varianza = p*(1-p)\n",
        "\n",
        "    return probabilidad, varianza, Z"
      ],
      "execution_count": 5,
      "outputs": []
    },
    {
      "cell_type": "markdown",
      "metadata": {
        "id": "HBy6kJMQkdzN"
      },
      "source": [
        "**intervalo_confianza_bernoulli()**"
      ]
    },
    {
      "cell_type": "code",
      "metadata": {
        "id": "si3ESUDpxSZ9"
      },
      "source": [
        "def intervalo_confianza_bernoulli(tam_muestra, p_muestra , nivel_confianza):\n",
        "  '''p es la probabilidad obtenida en la muestra\n",
        "     nivel de confianza debe estar entre 0 y 1'''\n",
        "  izq = (1 - nivel_confianza)/2\n",
        "  z_score = - stats.norm.ppf(izq)\n",
        "  margen_error = z_score/(2*math.sqrt(tam_muestra))\n",
        "  v_inf = p_muestra - margen_error\n",
        "  v_sup = p_muestra + margen_error\n",
        "  print('Con probabilidad de 95% la probabilidad de colisión está en el intervalo:',\n",
        "        v_inf, v_sup)\n",
        "  return margen_error"
      ],
      "execution_count": 6,
      "outputs": []
    },
    {
      "cell_type": "markdown",
      "metadata": {
        "id": "dojrJ78aOdGQ"
      },
      "source": [
        "# [Covarianza ](https://en.wikipedia.org/wiki/Covariance) entre dos gausianas"
      ]
    },
    {
      "cell_type": "code",
      "metadata": {
        "colab": {
          "base_uri": "https://localhost:8080/",
          "height": 0
        },
        "id": "LvlOIiixKVh3",
        "outputId": "13e4b7e8-4b48-4210-8d5b-875d2b5a6c96"
      },
      "source": [
        "x1 = np.random.normal(loc=0, scale=1, size = 1000)\n",
        "y1 = np.random.normal(loc=0, scale = 1, size=1000)\n",
        "sns.jointplot(x=x1, y= y1, kind = 'scatter', color = 'darkcyan', s = 2 )\n",
        "M_covarianza1 = np.cov(x1, y1)\n",
        "print(M_covarianza1.round(2))\n",
        "plt.show()"
      ],
      "execution_count": 7,
      "outputs": [
        {
          "output_type": "stream",
          "name": "stdout",
          "text": [
            "[[ 0.99 -0.09]\n",
            " [-0.09  0.97]]\n"
          ]
        },
        {
          "output_type": "display_data",
          "data": {
            "image/png": "[encoded data removed]",
            "text/plain": [
              "<Figure size 432x432 with 3 Axes>"
            ]
          },
          "metadata": {
            "needs_background": "light"
          }
        }
      ]
    },
    {
      "cell_type": "code",
      "metadata": {
        "colab": {
          "base_uri": "https://localhost:8080/",
          "height": 0
        },
        "id": "grk-P9wXMScs",
        "outputId": "a074ea2d-d49c-4030-bf90-8965395854ca"
      },
      "source": [
        "x2  = np.random.normal(loc=5, scale=1.2, size = 1000)\n",
        "y2 = 6 - 2*x2 + np.random.normal(size=1000)\n",
        "sns.jointplot(x=x2, y= y2, kind = 'scatter', color = 'darkcyan', s = 2 )\n",
        "M_covarianza2 = np.cov(x2, y2)\n",
        "print(M_covarianza2.round(2))\n",
        "plt.show()"
      ],
      "execution_count": 8,
      "outputs": [
        {
          "output_type": "stream",
          "name": "stdout",
          "text": [
            "[[ 1.4  -2.81]\n",
            " [-2.81  6.55]]\n"
          ]
        },
        {
          "output_type": "display_data",
          "data": {
            "image/png": "[encoded data removed]",
            "text/plain": [
              "<Figure size 432x432 with 3 Axes>"
            ]
          },
          "metadata": {
            "needs_background": "light"
          }
        }
      ]
    },
    {
      "cell_type": "markdown",
      "metadata": {
        "id": "vO70lSf6TzwZ"
      },
      "source": [
        "podríamos generar las coordenadas de puntos aleatoiros por medio de la distribución normal multivariada, ingresando las medias y la matriz de covarianza"
      ]
    },
    {
      "cell_type": "code",
      "metadata": {
        "colab": {
          "base_uri": "https://localhost:8080/"
        },
        "id": "z7Kctd-F_NMZ",
        "outputId": "6239ae48-27e2-497d-9d20-939ce3e1330e"
      },
      "source": [
        "medias = np.array((x2.mean(), y2.mean()))\n",
        "medias.shape, M_covarianza2.shape"
      ],
      "execution_count": 9,
      "outputs": [
        {
          "output_type": "execute_result",
          "data": {
            "text/plain": [
              "((2,), (2, 2))"
            ]
          },
          "metadata": {},
          "execution_count": 9
        }
      ]
    },
    {
      "cell_type": "code",
      "metadata": {
        "colab": {
          "base_uri": "https://localhost:8080/"
        },
        "id": "GEBP5KjiRMY2",
        "outputId": "60dc66b5-ce61-4e2d-8921-1f0f2acd0016"
      },
      "source": [
        "coordenadas = np.random.multivariate_normal(mean = medias, cov = M_covarianza2, size = 1000)\n",
        "coordenadas.shape"
      ],
      "execution_count": 10,
      "outputs": [
        {
          "output_type": "execute_result",
          "data": {
            "text/plain": [
              "(1000, 2)"
            ]
          },
          "metadata": {},
          "execution_count": 10
        }
      ]
    },
    {
      "cell_type": "code",
      "metadata": {
        "colab": {
          "base_uri": "https://localhost:8080/",
          "height": 0
        },
        "id": "olFjfjWeS4kH",
        "outputId": "ec2be833-b56b-45df-c259-fad8a0b6fb7f"
      },
      "source": [
        "sns.jointplot(x=coordenadas[:,0], y=coordenadas[:,1], kind = 'scatter', color = 'darkcyan', s = 2 )\n",
        "plt.show()"
      ],
      "execution_count": 11,
      "outputs": [
        {
          "output_type": "display_data",
          "data": {
            "image/png": "[encoded data removed]",
            "text/plain": [
              "<Figure size 432x432 with 3 Axes>"
            ]
          },
          "metadata": {
            "needs_background": "light"
          }
        }
      ]
    },
    {
      "cell_type": "markdown",
      "metadata": {
        "id": "Dpc99SR8Q2xV"
      },
      "source": [
        "# Estimacion de la probabilidad de conflicto entre dos aviones\n",
        "Dos aviones se consideran en conflicto cuando la distancia entre ellos es menor al umbral de 0.1 nmi en algun punto de sus trayectorias."
      ]
    },
    {
      "cell_type": "markdown",
      "metadata": {
        "id": "BAO91yLeyXX6"
      },
      "source": [
        "## 1) Simulación de trayectorias de vuelo\n",
        "La estimación de probabilidad de conflicto se calcua para trayectorias de 20 min\n",
        "La trayectoria de cada vuelo se define en el tiempo mediante dos coordenadas $Xa$ y $Xc$\n"
      ]
    },
    {
      "cell_type": "markdown",
      "metadata": {
        "id": "VAWnHL8vhIXh"
      },
      "source": [
        "![image.png](https://drive.google.com/uc?id=1KetZH3OEStTkAYjZEtjLJeEY__dMPoEH)\n",
        "\n",
        "$x_t = (x_{a,t}, x_{c,t})$\n",
        "\n",
        "$x_{a,t} = vt + error_{a,t}~~~~$  (Along-track component)\n",
        "\n",
        "$x_{c,t} = error_{c,t}~~~~~~~~~~~~~$       (Cross-track component)\n",
        "\n",
        "\n",
        "Se simularán coordenadas de cada avion en intervalos regulares de un minuto"
      ]
    },
    {
      "cell_type": "markdown",
      "metadata": {
        "id": "VtEiqUxojQ1e"
      },
      "source": [
        "### 1.1) Partimos de la Matriz de Covarianza de los errores en el tiempo\n",
        "**Tanto para el componente along-track, como para el cors-track.**\n",
        "\n",
        "\n",
        "\n"
      ]
    },
    {
      "cell_type": "markdown",
      "metadata": {
        "id": "pmHP_vt2CvsQ"
      },
      "source": [
        "$\\mathbb{Cov}(error_{a,t},~error_{a,s}) = r_a^2t^2$\n",
        "\n",
        "$\\mathbb{Cov}(error_{c,t},~error_{c,s}) = \\sigma_c^2(1-e^{-2\\frac{r_c}{\\sigma_c}vt})e^{-\\frac{r_c}{\\sigma_c}v(s-t)}$\n",
        "\n",
        "\n",
        "---\n",
        "R. A. Paielli y H. Erzberger, «Conflict Probability Estimation for Free Flight», Journal of Guidance, Control, and Dynamics, may 2012, doi: 10.2514/2.4081.\n"
      ]
    },
    {
      "cell_type": "code",
      "metadata": {
        "id": "10DHLCg094SX"
      },
      "source": [
        "v = 3           # velocidad (nmi/min)(nmi -> millas naúticas)\n",
        "\n",
        "# Para aviones con turvina civil se tiene\n",
        "r_c = 1/57      #  nmi/min \n",
        "sigma_c = 1     #  nmi\n",
        "\n",
        "r_a = 0.0       # se omiten los errores along-track\n",
        "\n",
        "# CÁLCULO DE COVARIANZAS\n",
        "cov_c = covarianza_c(sigma_c, r_c, v)\n",
        "cov_a = covarianza_a(r_a)"
      ],
      "execution_count": 12,
      "outputs": []
    },
    {
      "cell_type": "code",
      "metadata": {
        "colab": {
          "base_uri": "https://localhost:8080/",
          "height": 287
        },
        "id": "SvJOk4J6za8R",
        "outputId": "1d3755d2-20c3-42ff-f0f1-6a7c94acd679"
      },
      "source": [
        "sns.heatmap(cov_a)"
      ],
      "execution_count": 13,
      "outputs": [
        {
          "output_type": "execute_result",
          "data": {
            "text/plain": [
              "<matplotlib.axes._subplots.AxesSubplot at 0x7f48b9e9e550>"
            ]
          },
          "metadata": {},
          "execution_count": 13
        },
        {
          "output_type": "display_data",
          "data": {
            "image/png": "[encoded data removed]",
            "text/plain": [
              "<Figure size 432x288 with 2 Axes>"
            ]
          },
          "metadata": {
            "needs_background": "light"
          }
        }
      ]
    },
    {
      "cell_type": "markdown",
      "metadata": {
        "id": "YoMW3UH3ReSH"
      },
      "source": [
        "### 1.2) Simulación de errores y calculo de coordenadas Along-Track y Cross-Track"
      ]
    },
    {
      "cell_type": "code",
      "metadata": {
        "id": "d4C-MU-TaJRo"
      },
      "source": [
        "d = 2           # distancia entre trayectorias\n",
        "n = 100          # número de simulaciones\n",
        "\n",
        "X_a = {}    # diccionario para guardar las cordenadas Along-Track de cada aeronave\n",
        "X_c = {}    # diccionario para guardar las coordenadas Cross-Track de cada aeronave\n",
        "\n",
        "for aeronave, signo_posicion in zip(['A','B'], (1,-1)):\n",
        "\n",
        "    # SIMULACIÖN DE LOS ERRORES\n",
        "\n",
        "    error_c = simulacion_error(cov_c, n_simulaciones = n)\n",
        "    error_a = simulacion_error(cov_a, n_simulaciones = n)\n",
        "\n",
        "    # CÁLCULO DE LAS COORDENADAS Along-Track (X_a = v_por_t + error)\n",
        "\n",
        "    # Obtenemos v * t para cada t\n",
        "    v_por_t = pd.Series( v * np.arange(21), \n",
        "                        index=['min_' + str(t) for t in range(21)])\n",
        "    \n",
        "    X_a[aeronave] = v_por_t + error_a\n",
        "\n",
        "    # CÁLCULO DE COORDENADAS Cross-Track(\n",
        "\n",
        "    X_c[aeronave] = error_c +( d/2 * signo_posicion)  "
      ],
      "execution_count": 14,
      "outputs": []
    },
    {
      "cell_type": "code",
      "metadata": {
        "colab": {
          "base_uri": "https://localhost:8080/",
          "height": 442
        },
        "id": "FcwtXL6k5kCW",
        "outputId": "435023cf-c4ee-4073-9bb6-e799cbc916c6"
      },
      "source": [
        "X_c['A']"
      ],
      "execution_count": 15,
      "outputs": [
        {
          "output_type": "execute_result",
          "data": {
            "text/html": [
              "<div>\n",
              "<style scoped>\n",
              "    .dataframe tbody tr th:only-of-type {\n",
              "        vertical-align: middle;\n",
              "    }\n",
              "\n",
              "    .dataframe tbody tr th {\n",
              "        vertical-align: top;\n",
              "    }\n",
              "\n",
              "    .dataframe thead th {\n",
              "        text-align: right;\n",
              "    }\n",
              "</style>\n",
              "<table border=\"1\" class=\"dataframe\">\n",
              "  <thead>\n",
              "    <tr style=\"text-align: right;\">\n",
              "      <th></th>\n",
              "      <th>min_0</th>\n",
              "      <th>min_1</th>\n",
              "      <th>min_2</th>\n",
              "      <th>min_3</th>\n",
              "      <th>min_4</th>\n",
              "      <th>min_5</th>\n",
              "      <th>min_6</th>\n",
              "      <th>min_7</th>\n",
              "      <th>min_8</th>\n",
              "      <th>min_9</th>\n",
              "      <th>min_10</th>\n",
              "      <th>min_11</th>\n",
              "      <th>min_12</th>\n",
              "      <th>min_13</th>\n",
              "      <th>min_14</th>\n",
              "      <th>min_15</th>\n",
              "      <th>min_16</th>\n",
              "      <th>min_17</th>\n",
              "      <th>min_18</th>\n",
              "      <th>min_19</th>\n",
              "      <th>min_20</th>\n",
              "    </tr>\n",
              "  </thead>\n",
              "  <tbody>\n",
              "    <tr>\n",
              "      <th>simulación_1</th>\n",
              "      <td>1.0</td>\n",
              "      <td>1.234003</td>\n",
              "      <td>0.972454</td>\n",
              "      <td>1.301683</td>\n",
              "      <td>1.098434</td>\n",
              "      <td>0.985097</td>\n",
              "      <td>1.344059</td>\n",
              "      <td>1.707131</td>\n",
              "      <td>2.339944</td>\n",
              "      <td>2.844752</td>\n",
              "      <td>2.818764</td>\n",
              "      <td>2.539251</td>\n",
              "      <td>2.555786</td>\n",
              "      <td>2.643691</td>\n",
              "      <td>2.656739</td>\n",
              "      <td>2.513166</td>\n",
              "      <td>2.362848</td>\n",
              "      <td>2.438471</td>\n",
              "      <td>2.528835</td>\n",
              "      <td>2.134406</td>\n",
              "      <td>2.040926</td>\n",
              "    </tr>\n",
              "    <tr>\n",
              "      <th>simulación_2</th>\n",
              "      <td>1.0</td>\n",
              "      <td>1.221124</td>\n",
              "      <td>0.908960</td>\n",
              "      <td>1.258968</td>\n",
              "      <td>1.044048</td>\n",
              "      <td>1.444020</td>\n",
              "      <td>1.568699</td>\n",
              "      <td>1.530871</td>\n",
              "      <td>2.039873</td>\n",
              "      <td>1.873343</td>\n",
              "      <td>1.850234</td>\n",
              "      <td>1.990247</td>\n",
              "      <td>1.915483</td>\n",
              "      <td>1.334711</td>\n",
              "      <td>0.986762</td>\n",
              "      <td>0.631566</td>\n",
              "      <td>0.493016</td>\n",
              "      <td>0.801165</td>\n",
              "      <td>0.793457</td>\n",
              "      <td>1.786019</td>\n",
              "      <td>2.041511</td>\n",
              "    </tr>\n",
              "    <tr>\n",
              "      <th>simulación_3</th>\n",
              "      <td>1.0</td>\n",
              "      <td>1.014005</td>\n",
              "      <td>0.900657</td>\n",
              "      <td>0.957282</td>\n",
              "      <td>1.524614</td>\n",
              "      <td>1.745159</td>\n",
              "      <td>1.432496</td>\n",
              "      <td>1.481473</td>\n",
              "      <td>1.049720</td>\n",
              "      <td>0.993480</td>\n",
              "      <td>0.854747</td>\n",
              "      <td>0.627633</td>\n",
              "      <td>0.810913</td>\n",
              "      <td>0.636864</td>\n",
              "      <td>0.495019</td>\n",
              "      <td>0.049785</td>\n",
              "      <td>-0.040341</td>\n",
              "      <td>-0.338355</td>\n",
              "      <td>-0.331947</td>\n",
              "      <td>0.130422</td>\n",
              "      <td>-0.166586</td>\n",
              "    </tr>\n",
              "    <tr>\n",
              "      <th>simulación_4</th>\n",
              "      <td>1.0</td>\n",
              "      <td>1.074944</td>\n",
              "      <td>0.887682</td>\n",
              "      <td>1.134546</td>\n",
              "      <td>1.101425</td>\n",
              "      <td>1.750727</td>\n",
              "      <td>1.767422</td>\n",
              "      <td>1.447286</td>\n",
              "      <td>1.448362</td>\n",
              "      <td>0.732597</td>\n",
              "      <td>0.357874</td>\n",
              "      <td>0.460983</td>\n",
              "      <td>0.213629</td>\n",
              "      <td>-0.203939</td>\n",
              "      <td>-0.227636</td>\n",
              "      <td>0.048635</td>\n",
              "      <td>-0.414214</td>\n",
              "      <td>-0.324798</td>\n",
              "      <td>-0.013217</td>\n",
              "      <td>0.441026</td>\n",
              "      <td>0.953038</td>\n",
              "    </tr>\n",
              "    <tr>\n",
              "      <th>simulación_5</th>\n",
              "      <td>1.0</td>\n",
              "      <td>0.768022</td>\n",
              "      <td>0.348471</td>\n",
              "      <td>0.521577</td>\n",
              "      <td>0.517978</td>\n",
              "      <td>0.198134</td>\n",
              "      <td>-0.077510</td>\n",
              "      <td>0.289719</td>\n",
              "      <td>0.912509</td>\n",
              "      <td>0.739269</td>\n",
              "      <td>1.129563</td>\n",
              "      <td>1.616134</td>\n",
              "      <td>1.230274</td>\n",
              "      <td>1.577591</td>\n",
              "      <td>1.619575</td>\n",
              "      <td>1.412474</td>\n",
              "      <td>1.662568</td>\n",
              "      <td>1.102806</td>\n",
              "      <td>0.912365</td>\n",
              "      <td>0.724412</td>\n",
              "      <td>0.633042</td>\n",
              "    </tr>\n",
              "    <tr>\n",
              "      <th>...</th>\n",
              "      <td>...</td>\n",
              "      <td>...</td>\n",
              "      <td>...</td>\n",
              "      <td>...</td>\n",
              "      <td>...</td>\n",
              "      <td>...</td>\n",
              "      <td>...</td>\n",
              "      <td>...</td>\n",
              "      <td>...</td>\n",
              "      <td>...</td>\n",
              "      <td>...</td>\n",
              "      <td>...</td>\n",
              "      <td>...</td>\n",
              "      <td>...</td>\n",
              "      <td>...</td>\n",
              "      <td>...</td>\n",
              "      <td>...</td>\n",
              "      <td>...</td>\n",
              "      <td>...</td>\n",
              "      <td>...</td>\n",
              "      <td>...</td>\n",
              "    </tr>\n",
              "    <tr>\n",
              "      <th>simulación_96</th>\n",
              "      <td>1.0</td>\n",
              "      <td>1.010778</td>\n",
              "      <td>1.018906</td>\n",
              "      <td>1.771751</td>\n",
              "      <td>2.061839</td>\n",
              "      <td>2.440435</td>\n",
              "      <td>2.193941</td>\n",
              "      <td>1.161861</td>\n",
              "      <td>0.744496</td>\n",
              "      <td>0.921439</td>\n",
              "      <td>1.348925</td>\n",
              "      <td>1.331079</td>\n",
              "      <td>1.439334</td>\n",
              "      <td>1.333897</td>\n",
              "      <td>1.081949</td>\n",
              "      <td>1.020962</td>\n",
              "      <td>1.556820</td>\n",
              "      <td>2.053978</td>\n",
              "      <td>2.383823</td>\n",
              "      <td>2.510775</td>\n",
              "      <td>2.642839</td>\n",
              "    </tr>\n",
              "    <tr>\n",
              "      <th>simulación_97</th>\n",
              "      <td>1.0</td>\n",
              "      <td>0.890976</td>\n",
              "      <td>0.727347</td>\n",
              "      <td>0.790680</td>\n",
              "      <td>0.715448</td>\n",
              "      <td>0.663233</td>\n",
              "      <td>1.437740</td>\n",
              "      <td>1.335011</td>\n",
              "      <td>1.553497</td>\n",
              "      <td>1.464478</td>\n",
              "      <td>1.501247</td>\n",
              "      <td>1.319914</td>\n",
              "      <td>1.104757</td>\n",
              "      <td>1.161892</td>\n",
              "      <td>1.174292</td>\n",
              "      <td>1.383755</td>\n",
              "      <td>1.522320</td>\n",
              "      <td>1.614047</td>\n",
              "      <td>1.695724</td>\n",
              "      <td>1.673288</td>\n",
              "      <td>1.626651</td>\n",
              "    </tr>\n",
              "    <tr>\n",
              "      <th>simulación_98</th>\n",
              "      <td>1.0</td>\n",
              "      <td>0.868629</td>\n",
              "      <td>1.063597</td>\n",
              "      <td>1.375302</td>\n",
              "      <td>1.617282</td>\n",
              "      <td>2.074709</td>\n",
              "      <td>2.408182</td>\n",
              "      <td>2.837359</td>\n",
              "      <td>2.341972</td>\n",
              "      <td>3.031573</td>\n",
              "      <td>2.747346</td>\n",
              "      <td>2.447087</td>\n",
              "      <td>2.713427</td>\n",
              "      <td>2.401599</td>\n",
              "      <td>2.289189</td>\n",
              "      <td>1.910599</td>\n",
              "      <td>1.902439</td>\n",
              "      <td>1.931628</td>\n",
              "      <td>1.437789</td>\n",
              "      <td>0.508286</td>\n",
              "      <td>0.250333</td>\n",
              "    </tr>\n",
              "    <tr>\n",
              "      <th>simulación_99</th>\n",
              "      <td>1.0</td>\n",
              "      <td>1.122611</td>\n",
              "      <td>1.191110</td>\n",
              "      <td>0.711897</td>\n",
              "      <td>0.764051</td>\n",
              "      <td>0.670483</td>\n",
              "      <td>0.435813</td>\n",
              "      <td>1.003403</td>\n",
              "      <td>1.263461</td>\n",
              "      <td>1.330030</td>\n",
              "      <td>0.721801</td>\n",
              "      <td>0.713481</td>\n",
              "      <td>1.319682</td>\n",
              "      <td>1.363828</td>\n",
              "      <td>1.672032</td>\n",
              "      <td>1.573293</td>\n",
              "      <td>1.062087</td>\n",
              "      <td>1.113632</td>\n",
              "      <td>1.258977</td>\n",
              "      <td>1.710095</td>\n",
              "      <td>1.656770</td>\n",
              "    </tr>\n",
              "    <tr>\n",
              "      <th>simulación_100</th>\n",
              "      <td>1.0</td>\n",
              "      <td>1.717843</td>\n",
              "      <td>1.910541</td>\n",
              "      <td>2.345511</td>\n",
              "      <td>2.212179</td>\n",
              "      <td>1.817178</td>\n",
              "      <td>1.589746</td>\n",
              "      <td>1.796203</td>\n",
              "      <td>1.522455</td>\n",
              "      <td>0.699459</td>\n",
              "      <td>0.752948</td>\n",
              "      <td>0.777353</td>\n",
              "      <td>0.296834</td>\n",
              "      <td>0.179894</td>\n",
              "      <td>-0.121993</td>\n",
              "      <td>0.354508</td>\n",
              "      <td>0.141194</td>\n",
              "      <td>0.311675</td>\n",
              "      <td>0.390853</td>\n",
              "      <td>-0.213217</td>\n",
              "      <td>-0.089484</td>\n",
              "    </tr>\n",
              "  </tbody>\n",
              "</table>\n",
              "<p>100 rows × 21 columns</p>\n",
              "</div>"
            ],
            "text/plain": [
              "                min_0     min_1     min_2  ...    min_18    min_19    min_20\n",
              "simulación_1      1.0  1.234003  0.972454  ...  2.528835  2.134406  2.040926\n",
              "simulación_2      1.0  1.221124  0.908960  ...  0.793457  1.786019  2.041511\n",
              "simulación_3      1.0  1.014005  0.900657  ... -0.331947  0.130422 -0.166586\n",
              "simulación_4      1.0  1.074944  0.887682  ... -0.013217  0.441026  0.953038\n",
              "simulación_5      1.0  0.768022  0.348471  ...  0.912365  0.724412  0.633042\n",
              "...               ...       ...       ...  ...       ...       ...       ...\n",
              "simulación_96     1.0  1.010778  1.018906  ...  2.383823  2.510775  2.642839\n",
              "simulación_97     1.0  0.890976  0.727347  ...  1.695724  1.673288  1.626651\n",
              "simulación_98     1.0  0.868629  1.063597  ...  1.437789  0.508286  0.250333\n",
              "simulación_99     1.0  1.122611  1.191110  ...  1.258977  1.710095  1.656770\n",
              "simulación_100    1.0  1.717843  1.910541  ...  0.390853 -0.213217 -0.089484\n",
              "\n",
              "[100 rows x 21 columns]"
            ]
          },
          "metadata": {},
          "execution_count": 15
        }
      ]
    },
    {
      "cell_type": "markdown",
      "metadata": {
        "id": "scBKZCNJRscT"
      },
      "source": [
        "### VISUALIZACION DE TRAYECTORIAS"
      ]
    },
    {
      "cell_type": "code",
      "metadata": {
        "colab": {
          "base_uri": "https://localhost:8080/",
          "height": 265
        },
        "id": "4JceyRmsz0Wc",
        "outputId": "88c0d4ea-638e-4024-d09b-2701d165fa6e"
      },
      "source": [
        "simulacion = 9\n",
        "plt.plot(X_c['A'].loc['simulación_'+str(simulacion)].T, X_a['A'].loc['simulación_'+str(simulacion)].T, 'o-', color='b')\n",
        "plt.plot(X_c['B'].loc['simulación_'+str(simulacion)].T, X_a['B'].loc['simulación_'+str(simulacion)].T, 'o-', color='r')\n",
        "plt.show()"
      ],
      "execution_count": 16,
      "outputs": [
        {
          "output_type": "display_data",
          "data": {
            "image/png": "[encoded data removed]",
            "text/plain": [
              "<Figure size 432x288 with 1 Axes>"
            ]
          },
          "metadata": {
            "needs_background": "light"
          }
        }
      ]
    },
    {
      "cell_type": "markdown",
      "metadata": {
        "id": "vi_ZzqMpSH4j"
      },
      "source": [
        "## 2) Estimación de la probabilidad de conflicto\n",
        "La estimación de probabilidad de conflicto se calcua para trayectorias de 20 min\n",
        "La trayectoria de cada vuelo se define en el tiempo mediante dos coordenadas $Xa$ y $Xc$\n"
      ]
    },
    {
      "cell_type": "code",
      "metadata": {
        "colab": {
          "base_uri": "https://localhost:8080/"
        },
        "id": "FF95g88VKoAB",
        "outputId": "7d618fc5-1a0c-41c3-ac3d-1719639c9568"
      },
      "source": [
        "a = 0.1\n",
        "Z = np.min((X_c['A']-X_c['B'])**2+(X_a['A']-X_a['B'])**2, axis=1)<a**2\n",
        "p = Z.mean()\n",
        "varianza = p*(1-p)\n",
        "\n",
        "print('Probabilidad ={},\\nVarianza ={}'.format(p, varianza))"
      ],
      "execution_count": 17,
      "outputs": [
        {
          "output_type": "stream",
          "name": "stdout",
          "text": [
            "Probabilidad =0.15,\n",
            "Varianza =0.1275\n"
          ]
        }
      ]
    },
    {
      "cell_type": "code",
      "metadata": {
        "colab": {
          "base_uri": "https://localhost:8080/"
        },
        "id": "EsckSrmSxkFl",
        "outputId": "112f1b9f-29be-4242-c119-7c92f85ab444"
      },
      "source": [
        "intervalo_confianza_bernoulli(n, p, 0.95)"
      ],
      "execution_count": 18,
      "outputs": [
        {
          "output_type": "stream",
          "name": "stdout",
          "text": [
            "Con probabilidad de 95% la probabilidad de colisión está en el intervalo: 0.05200180077299729 0.2479981992270027\n"
          ]
        },
        {
          "output_type": "execute_result",
          "data": {
            "text/plain": [
              "0.0979981992270027"
            ]
          },
          "metadata": {},
          "execution_count": 18
        }
      ]
    },
    {
      "cell_type": "markdown",
      "metadata": {
        "id": "LdH0a7ZT8F_b"
      },
      "source": [
        "$\\epsilon \\leq \\cfrac{z_{score}}{2\\sqrt{n}}$\n",
        "\n",
        "$n = \\cfrac{{z_{score}}^2}{4\\epsilon^2}$\n",
        "\n",
        "$n = \\cfrac{{1.96}^2}{4\\epsilon^2}$"
      ]
    },
    {
      "cell_type": "code",
      "metadata": {
        "colab": {
          "base_uri": "https://localhost:8080/"
        },
        "id": "KflIJg9EmVux",
        "outputId": "9e436b12-9716-4eea-a6ef-78c5b0904447"
      },
      "source": [
        "nivel_confianza = 0.95\n",
        "izq = (1 - nivel_confianza)/2\n",
        "z_score = - stats.norm.ppf( izq)\n",
        "z_score"
      ],
      "execution_count": 19,
      "outputs": [
        {
          "output_type": "execute_result",
          "data": {
            "text/plain": [
              "1.959963984540054"
            ]
          },
          "metadata": {},
          "execution_count": 19
        }
      ]
    },
    {
      "cell_type": "code",
      "metadata": {
        "colab": {
          "base_uri": "https://localhost:8080/"
        },
        "id": "-6k6DJAA--sB",
        "outputId": "34b09465-3f7b-4634-8c97-d8eb96392806"
      },
      "source": [
        "error = 0.001\n",
        "z_score = 1.96            #  95% de nivel de confianza\n",
        "N = int((z_score**2)/(4*(error**2)))\n",
        "N"
      ],
      "execution_count": 20,
      "outputs": [
        {
          "output_type": "execute_result",
          "data": {
            "text/plain": [
              "960400"
            ]
          },
          "metadata": {},
          "execution_count": 20
        }
      ]
    },
    {
      "cell_type": "markdown",
      "metadata": {
        "id": "yMz3ODNCOP9V"
      },
      "source": [
        "## TODO JUNTO"
      ]
    },
    {
      "cell_type": "code",
      "metadata": {
        "colab": {
          "base_uri": "https://localhost:8080/"
        },
        "id": "U0K5-C_MOgIH",
        "outputId": "a2d9208a-6a3c-4b86-d106-883374cb696d"
      },
      "source": [
        "p, varianza, Z = probabilidad_de_conflicto(velocidad = v, distancia=d,\n",
        "                                                  r_a=r_a, r_c=r_c, sigma_c=sigma_c,\n",
        "                                                  n_simulaciones = N)\n",
        "print('Probabilidad = {},\\nVarianza = {}'.format(p, varianza))"
      ],
      "execution_count": 21,
      "outputs": [
        {
          "output_type": "stream",
          "name": "stdout",
          "text": [
            "Probabilidad = 0.15376822157434403,\n",
            "Varianza = 0.1275\n"
          ]
        }
      ]
    },
    {
      "cell_type": "code",
      "metadata": {
        "colab": {
          "base_uri": "https://localhost:8080/",
          "height": 350
        },
        "id": "XXdLekPdV6fs",
        "outputId": "d4f25856-5d07-4729-a6b1-690fe3cfbd18"
      },
      "source": [
        "ns = range(0, 10000, 10)\n",
        "estimacion_p = []\n",
        "for n in ns:\n",
        "  estimacion_p.append(Z[:n].mean())\n",
        "\n",
        "#Gráfica estimación de p\n",
        "plt.figure(figsize=(16, 6))\n",
        "plt.plot(ns, estimacion_p, color='g', label = 'estimacion de la probabilidad de conflicto')\n",
        "plt.axhline(y=p, color='black', ls='--', label='estimacion con todas las simulaciones realizadas')\n",
        "plt.xlim(0, ns[-1])\n",
        "plt.ylim(-.1, .4)\n",
        "plt.xlabel('Número de simulaciones')\n",
        "plt.ylabel('Estimación Probabilidad de Conflicto')\n",
        "plt.title('Estimación de Probabilidad de Conflicto entre dos aviones con {} nmi, según cantidad de simulaciones'.format(d))\n",
        "plt.legend()\n",
        "plt.show()"
      ],
      "execution_count": 22,
      "outputs": [
        {
          "output_type": "display_data",
          "data": {
            "image/png": "[encoded data removed]",
            "text/plain": [
              "<Figure size 1152x432 with 1 Axes>"
            ]
          },
          "metadata": {
            "needs_background": "light"
          }
        }
      ]
    },
    {
      "cell_type": "markdown",
      "metadata": {
        "id": "JrSPw2jFb6b9"
      },
      "source": [
        "# Probabilidad de conflicto en función de la distancia entre aviones"
      ]
    },
    {
      "cell_type": "code",
      "metadata": {
        "id": "XV3NC452bub8"
      },
      "source": [
        "n = N      # número de simulaciones\n",
        "distancias =  np.arange(0.2,5,0.2)          \n",
        "probabilidad =[]\n",
        "\n",
        "for dist in distancias:\n",
        "  resultados = probabilidad_de_conflicto(velocidad = v, distancia=dist,\n",
        "                                         r_a=r_a, r_c=r_c, sigma_c=sigma_c,\n",
        "                                         n_simulaciones = n)\n",
        "  probabilidad.append(resultados[0])"
      ],
      "execution_count": 23,
      "outputs": []
    },
    {
      "cell_type": "code",
      "metadata": {
        "colab": {
          "base_uri": "https://localhost:8080/",
          "height": 404
        },
        "id": "Lfd1L9HLgS4h",
        "outputId": "be93ee07-0925-433d-ea90-fd3d3fcd7582"
      },
      "source": [
        "#Gráfica estimación de p\n",
        "plt.figure(figsize=(8, 6))\n",
        "plt.plot(distancias, probabilidad, 'o-', color='b', label ='Estimacion con {:,d} simulaciones'.format(n))\n",
        "plt.xlabel('Distancia entre aviones (nmi)')\n",
        "plt.ylabel('Probabilidad de conflicto')\n",
        "plt.title('Probabilidad de Conflicto según la distancia entre aviones')\n",
        "plt.legend()\n",
        "plt.show()"
      ],
      "execution_count": 24,
      "outputs": [
        {
          "output_type": "display_data",
          "data": {
            "image/png": "[encoded data removed]",
            "text/plain": [
              "<Figure size 576x432 with 1 Axes>"
            ]
          },
          "metadata": {
            "needs_background": "light"
          }
        }
      ]
    },
    {
      "cell_type": "markdown",
      "metadata": {
        "id": "uo_BI1l-XdCb"
      },
      "source": [
        "# Ejercicios:\n",
        "1. Comprobar que para una distancia fija y r_a = 0, se observa un incremento en la probabilida de conflicto cuando la velocidad aumenta.\n",
        "2. ¿Que efecto tiene en la probabilidad de conflito el incremento de r_a, para una distancia fija?"
      ]
    }
  ]
}