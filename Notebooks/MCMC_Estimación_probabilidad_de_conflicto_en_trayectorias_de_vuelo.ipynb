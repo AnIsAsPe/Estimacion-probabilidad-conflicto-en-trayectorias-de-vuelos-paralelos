{
  "nbformat": 4,
  "nbformat_minor": 0,
  "metadata": {
    "kernelspec": {
      "display_name": "Python 3",
      "language": "python",
      "name": "python3"
    },
    "language_info": {
      "codemirror_mode": {
        "name": "ipython",
        "version": 3
      },
      "file_extension": ".py",
      "mimetype": "text/x-python",
      "name": "python",
      "nbconvert_exporter": "python",
      "pygments_lexer": "ipython3",
      "version": "3.7.3"
    },
    "colab": {
      "provenance": [],
      "include_colab_link": true
    }
  },
  "cells": [
    {
      "cell_type": "markdown",
      "metadata": {
        "id": "view-in-github",
        "colab_type": "text"
      },
      "source": [
        "<a href=\"https://colab.research.google.com/github/AnIsAsPe/Estimacion-probabilidad-conflicto-en-trayectorias-de-vuelos-paralelos/blob/main/Notebooks/MCMC_Estimaci%C3%B3n_probabilidad_de_conflicto_en_trayectorias_de_vuelo.ipynb\" target=\"_parent\"><img src=\"https://colab.research.google.com/assets/colab-badge.svg\" alt=\"Open In Colab\"/></a>"
      ]
    },
    {
      "cell_type": "markdown",
      "source": [
        "# Bibliotecas y funciones"
      ],
      "metadata": {
        "id": "Ro2cXR7s1hz9"
      }
    },
    {
      "cell_type": "code",
      "metadata": {
        "id": "-Y8onNp3S8jK"
      },
      "source": [
        "import numpy as np\n",
        "import pandas as pd\n",
        "\n",
        "import matplotlib.pyplot as plt\n",
        "import seaborn as sns"
      ],
      "execution_count": 20,
      "outputs": []
    },
    {
      "cell_type": "code",
      "metadata": {
        "id": "qv1nKIs7MhlM"
      },
      "source": [
        "def covarianzas(v, r_a=0.25, sigma_c=1, r_c=1/57):\n",
        "  covA=np.zeros((20,20))\n",
        "  covC=np.zeros((20,20))\n",
        "  for s in range(20):\n",
        "    covC[s,s] = (sigma_c**2)*(1-np.exp(-2*r_c*v*(s+1)/sigma_c))\n",
        "    covA[s,s] = (r_a**2)*((s+1)**2)\n",
        "    for t in range(s):\n",
        "        covC[t,s] = covC[s,t]=(sigma_c**2)*(1-np.exp(-2*r_c*v*(t+1)/sigma_c))*np.exp(-r_c*v*(s-t)/sigma_c)\n",
        "        covA[t,s] = covA[s,t]=(r_a**2)*((t+1)**2)\n",
        "  return covA, covC\n"
      ],
      "execution_count": 2,
      "outputs": []
    },
    {
      "cell_type": "code",
      "source": [
        "def simula_coord_de_separcion(d, n):\n",
        "    \"\"\"Simula las coordenadas along y cross de separación entre pares de\n",
        "       aviones con trayectorias paralelas, que parten de d millas náuticas, donde:\n",
        "       d: es la distancia inicial entre dos aviones,\n",
        "       n: es la cantidad de simulaciones de vuelos paralelos\"\"\"\n",
        "    𝜇 = np.zeros(20) + d/2\n",
        "    coord_a = np.random.multivariate_normal(mean=np.zeros(20), cov=2*covA, size=n)\n",
        "    coord_c = np.random.multivariate_normal(mean=2*𝜇, cov=2*covC, size=n)\n",
        "\n",
        "    return coord_a, coord_c"
      ],
      "metadata": {
        "id": "MUSg3oMrVeVF"
      },
      "execution_count": 3,
      "outputs": []
    },
    {
      "cell_type": "markdown",
      "source": [
        "# Simulaciones con modelo AR (Construcción de la cadena de markov)\n",
        "\n",
        "A partir de una primera simulación de las distancias entre dos aviones por un periodo de 20 min, la siguiente simulación se calculará mediante el siguiente modelo autorregresivo, añadiendo una componente de inovación.\n",
        "\n",
        "$$Z_{i} = \\phi(Z_{i-1}-2\\mu) + \\sqrt{1-\\phi^{2}}(I_{i}-2\\mu) +2\\mu$$\n",
        "\n",
        "donde:\n",
        "\n",
        "- $\\phi(Z_{i-1}-2\\mu)$  es la parte de la trayectoria previa que conservamos, y\n",
        "- $ \\sqrt{1-\\phi^{2}}(I_{i}-2\\mu) $ es la parte de innovación que se añade.\n",
        "\n",
        "Si la distancia minima de la nueva simulación es menor a cierta distancia establecida, enonces esa nueva simulación pasará a formar parte de la cadena, si no, la nueva simulación será identica que la anterior:\n",
        "\n",
        "\n",
        "\n",
        "$$Z_{i} = Z_{i-1} $$"
      ],
      "metadata": {
        "id": "xi9yjqH6Z2K-"
      }
    },
    {
      "cell_type": "code",
      "metadata": {
        "id": "NghADShV_ug-",
        "colab": {
          "base_uri": "https://localhost:8080/"
        },
        "outputId": "3e1cc76a-15cb-4c46-e707-71b2f30482d9"
      },
      "source": [
        "v = 8      # (nmi/min)(nmi -> millas naúticas)\n",
        "d = 8              # separación entre par de aviones (nmi)\n",
        "d_conflicto = 0.1  # separación a partir de la cual dos aviones entran en conflicto (nmi)\n",
        "n = 15000          # numero de simulaciones en la cadena de markov\n",
        "\n",
        "covA, covC = covarianzas(v=v)\n",
        "\n",
        "# Simulamos nuestra primer vector de distancias entre dos aviones con\n",
        "# trayectorias paralelas \"startingpoint\" (1 observación de la Cadena de Markov)\n",
        "\n",
        "Z_a, Z_c  = simula_coord_de_separcion(d=d, n=1)\n",
        "startingPoint = np.concatenate((Z_a, Z_c), axis=1)\n",
        "startingPoint.shape"
      ],
      "execution_count": 4,
      "outputs": [
        {
          "output_type": "execute_result",
          "data": {
            "text/plain": [
              "(1, 40)"
            ]
          },
          "metadata": {},
          "execution_count": 4
        }
      ]
    },
    {
      "cell_type": "markdown",
      "source": [
        "$$Z_{i} = \\phi(Z_{i-1}-2\\mu) + \\sqrt{1-\\phi^{2}}(I_{i}-2\\mu) +2\\mu$$"
      ],
      "metadata": {
        "id": "up_7id_c1wcJ"
      }
    },
    {
      "cell_type": "code",
      "source": [
        "def simula_cadenaMarkov(n, d, startingPoint, dist_parcial = float(\"inf\")):\n",
        "\n",
        "        Z_a = startingPoint[:,:20]\n",
        "        Z_c = startingPoint[:,20:]\n",
        "\n",
        "        # Simulamos n vectores de distancia entre dos aviones iid, que aportará la\n",
        "        # innovación para la construcción de la cadena de Markov\n",
        "        I_a, I_c = simula_coord_de_separcion(d=d, n=n)\n",
        "\n",
        "        𝜇 = np.zeros(20) + d/2\n",
        "        𝜙 = 0.9\n",
        "        𝜙_bar = np.sqrt(1 - 𝜙**2)\n",
        "        for i in range(n-1):\n",
        "            newZ_a = 𝜙*(Z_a[-1:,]) + 𝜙_bar*(I_a[i,:])\n",
        "            newZ_c = 𝜙*(Z_c[-1:,] - 2*𝜇) + 𝜙_bar*(I_c[i,:] - 2*𝜇) + 2*𝜇\n",
        "\n",
        "            # Se calcula la distancia minima de la nueva simulación(d_newZ).\n",
        "            d_newZ = np.sqrt(np.min(newZ_a**2 + newZ_c**2))\n",
        "\n",
        "            # Se considerará la nueva simulación cuando d_newZ sea menor o igual\n",
        "            # a la distancia de referencia, en caso contrario nos quedaremos con\n",
        "            # la trayectoria anterior.\n",
        "            Z_a = np.append(\n",
        "                Z_a,\n",
        "                newZ_a*(d_newZ <= dist_parcial) + Z_a[-1]*(d_newZ > dist_parcial),\n",
        "                axis=0\n",
        "            )\n",
        "            Z_c = np.append(\n",
        "                Z_c,\n",
        "                newZ_c*(d_newZ <= dist_parcial) + Z_c[-1]*(d_newZ > dist_parcial),\n",
        "                axis=0\n",
        "            )\n",
        "        Z = np.concatenate((Z_a, Z_c), axis=1)\n",
        "        return Z"
      ],
      "metadata": {
        "id": "U3CMqNaczOZl"
      },
      "execution_count": 5,
      "outputs": []
    },
    {
      "cell_type": "code",
      "source": [
        "# Simulamos n distancias entre pares de aviones\n",
        "\n",
        "Z = simula_cadenaMarkov(n, d, startingPoint)\n"
      ],
      "metadata": {
        "id": "4xPX0Wgeyy95"
      },
      "execution_count": 6,
      "outputs": []
    },
    {
      "cell_type": "code",
      "source": [
        "Z.shape"
      ],
      "metadata": {
        "id": "vbW9XFPPzhtD",
        "outputId": "28d0fd42-f720-4818-f11f-341ee80af9b8",
        "colab": {
          "base_uri": "https://localhost:8080/"
        }
      },
      "execution_count": 7,
      "outputs": [
        {
          "output_type": "execute_result",
          "data": {
            "text/plain": [
              "(15000, 40)"
            ]
          },
          "metadata": {},
          "execution_count": 7
        }
      ]
    },
    {
      "cell_type": "markdown",
      "source": [
        "# Encontrar distancias parciales convenientes"
      ],
      "metadata": {
        "id": "NBYvPtK57_OF"
      }
    },
    {
      "cell_type": "code",
      "source": [
        "# Calculamos el valor mínimo por simulacion\n",
        "distancia_minima = np.sqrt(np.min(Z[:, :20]**2 + Z[:, 20:]**2, axis=1))\n",
        "\n",
        "# Ordenamos el vector distancias de manera ascendente\n",
        "distancia_minima = np.sort(distancia_minima)     # una por cada simulación\n",
        "\n",
        "# Elegimos el cuantil 2 de las distancias menores\n",
        "cuantil =0.02\n",
        "inx = int(n * cuantil)\n",
        "# Obtenemos la primera distancia parcial\n",
        "distancia_parcial = distancia_minima[inx]\n",
        "\n",
        "print(f\"Nuestra primera distancia parcial será la distancia del renglon {inx}: {distancia_parcial}\")"
      ],
      "metadata": {
        "id": "h8gjPQEMtpDq",
        "outputId": "3caa29aa-22c1-44a1-9a5d-73fe690c9ecd",
        "colab": {
          "base_uri": "https://localhost:8080/"
        }
      },
      "execution_count": 13,
      "outputs": [
        {
          "output_type": "stream",
          "name": "stdout",
          "text": [
            "Nuestra primera distancia parcial será la distancia del renglon 300: 4.664518109824526\n"
          ]
        }
      ]
    },
    {
      "cell_type": "code",
      "source": [
        "# Histograma\n",
        "plt.figure(figsize=(6, 4))\n",
        "plt.hist(distancia_minima, bins=30, edgecolor='black')\n",
        "plt.axvline(x=distancia_parcial, color='red', linestyle='--',\n",
        "            label=f'D1 = {distancia_parcial:.2f}')\n",
        "plt.xlabel('Distancias')\n",
        "plt.ylabel('Frecuencia')\n",
        "plt.title('Histograma de Distancias Mínimas')\n",
        "plt.legend()\n",
        "_ = plt.show()\n"
      ],
      "metadata": {
        "id": "_0NRRrEpwkji",
        "outputId": "2bf81f85-6d46-44ee-aad5-c71c1aa2e695",
        "colab": {
          "base_uri": "https://localhost:8080/",
          "height": 411
        }
      },
      "execution_count": 14,
      "outputs": [
        {
          "output_type": "display_data",
          "data": {
            "text/plain": [
              "<Figure size 600x400 with 1 Axes>"
            ],
            "image/png": "[encoded data removed]"
          },
          "metadata": {}
        }
      ]
    },
    {
      "cell_type": "code",
      "metadata": {
        "id": "Eh4rSgN0S8jT"
      },
      "source": [
        "def identificar_distancias_parciales(n, d):\n",
        "    cuantil =0.02\n",
        "\n",
        "    # 1. Simula la primera cadena de Markov.\n",
        "    Z_a, Z_c  = simula_coord_de_separcion(d=d, n=1)\n",
        "    startingPoint = np.concatenate((Z_a, Z_c), axis=1)\n",
        "    Z = simula_cadenaMarkov(n, d, startingPoint)\n",
        "\n",
        "    # 2. Ordena las simulaciones de manera ascendente considerando la distancia\n",
        "    # minima en cada simulación.\n",
        "    Z = np.array(sorted(list(Z), key=lambda x:min(x[:20]**2 + x[20:]**2)))\n",
        "\n",
        "    # 3. Identificamos la trayectoria en el cuantil 0.2\n",
        "    inx = int(n * cuantil)\n",
        "\n",
        "    # 4. Guardamos la distancia mínima del renglón  identificado.\n",
        "    distancias_parciales = np.array([])\n",
        "    distancia_minima = np.sqrt(np.min((Z[inx,:20]**2 + Z[inx, 20:]**2)))\n",
        "    distancias_parciales = np.append(distancias_parciales, distancia_minima)\n",
        "\n",
        "    # Repetimos el proceso mientras la distancia encontrada sea mayor\n",
        "    # que la distancia de conflicto.\n",
        "    while (distancias_parciales[-1] > a):\n",
        "        # 1. Comenzamos una nueva cadena de Markov considerando el startingpoint\n",
        "        #    la Z con la menor distancia ocurrida en la simulación anterior y la\n",
        "        #    distancia de referencia identificada en la iteración anterior.\n",
        "        startingPoint = (Z[0]).reshape(1,-1)\n",
        "        Z = simula_cadenaMarkov(n, d, startingPoint, distancias_parciales[-1])\n",
        "\n",
        "        # 2. Ordena las simulaciones en base a la distancia minima en cada simulación.\n",
        "        Z = np.array(sorted(list(Z), key=lambda x: min(x[:20]**2+x[20:]**2)))\n",
        "\n",
        "        # 3. Nos quedamos con el (1-cuantil)% de simulaciones en que se acercaron más los aviones.\n",
        "        #    Identificamos la trayectoria que separa con el criterio descrito.\n",
        "        inx = int(n * cuantil)\n",
        "\n",
        "        # 4. Guardamos la minima distancia minima del renglón vector identificado.\n",
        "        distancia_minima = np.sqrt(np.min((Z[inx,:20]**2 + Z[inx, 20:]**2)))\n",
        "        distancias_parciales = np.append(distancias_parciales, distancia_minima)\n",
        "\n",
        "    # 5. Nos aseguramos de que el primer nivel sea a.\n",
        "    distancias_parciales = distancias_parciales[:-1]\n",
        "    distancias_parciales = np.append(distancias_parciales, a)\n",
        "\n",
        "    distancias_parciales=list(dict.fromkeys(distancias_parciales))\n",
        "\n",
        "    return distancias_parciales"
      ],
      "execution_count": 15,
      "outputs": []
    },
    {
      "cell_type": "code",
      "metadata": {
        "colab": {
          "base_uri": "https://localhost:8080/"
        },
        "outputId": "62823cfc-d7e2-4009-bd3e-92cba552e7d5",
        "id": "Dx22ASTfst9X"
      },
      "source": [
        "a = 0.1\n",
        "𝜙 = 0.9\n",
        "𝜙_bar = np.sqrt(1-𝜙**2)\n",
        "d = 10\n",
        "n = 15000\n",
        "\n",
        "distancias_parciales = identificar_distancias_parciales(n, d)\n",
        "\n",
        "for dist in distancias_parciales:\n",
        "  print(dist)"
      ],
      "execution_count": 18,
      "outputs": [
        {
          "output_type": "stream",
          "name": "stdout",
          "text": [
            "6.567132811395195\n",
            "4.960244584801359\n",
            "3.7297823605325484\n",
            "2.722818464721334\n",
            "1.8292545223814776\n",
            "0.9951538815347598\n",
            "0.3389706159526912\n",
            "0.1\n"
          ]
        }
      ]
    },
    {
      "cell_type": "markdown",
      "source": [
        "# Encontrar la probabilidad de conflicto usando las distancias parciales"
      ],
      "metadata": {
        "id": "cP393re88FRe"
      }
    },
    {
      "cell_type": "code",
      "metadata": {
        "id": "_fDWuv4QS8jU"
      },
      "source": [
        "def probaAR(n, d):\n",
        "\n",
        "    # 0. DIVIDIMOS LA DISTANCIA d en DISTANCIAS PARCIALES\n",
        "    distancias_parciales = identificar_distancias_parciales(n, d)\n",
        "\n",
        "    # 1.CREAMOS EL PUNTO DE INICIO DE LA PRIMERA CADENA DE MARKOV\n",
        "    Z_a, Z_c  = simula_coord_de_separcion(d=d, n=1)\n",
        "    startingPoint = np.concatenate((Z_a, Z_c), axis=1)\n",
        "\n",
        "\n",
        "    # 2. CONSTRUIMOS LA PRIMERA CADENA DE MARKOV\n",
        "    Z = simula_cadenaMarkov(n, d, startingPoint)\n",
        "\n",
        "    # 3. CALCULAMOS LA DISTANCIA MINIMA DE CADA SIMULACIÓN\n",
        "    l = np.sqrt(np.amin(Z[:,:20]**2 + Z[:,20:]**2,axis=1))\n",
        "\n",
        "    # 4. ESTIMAMOS LA PROBABILIDAD DE QUE SE LLEGUE A LA PRIMERA DISTANCIA PARCIAL\n",
        "    P_vec = np.array(np.mean(l <= distancias_parciales[0]))  # se guarda en el vector P_vec\n",
        "\n",
        "    for dist in range(1, len(distancias_parciales)):\n",
        "\n",
        "        # 1. ELECCION DEL PUNTO DE PARTIDA DE LA NUEVA CADENA DE MARKOV\n",
        "        d_parcial_ant = distancias_parciales[(dist-1)]\n",
        "        if sum(l <= d_parcial_ant) > 0:\n",
        "            # Si existe, se elige una trayectoria que haya llegado a la distancia de referencia anterior\n",
        "            startingPoint = (Z[l <= d_parcial_ant][0]).reshape(1,-1)\n",
        "        else:\n",
        "            # Si no hay ninguna, se empieza con la que tenga la distancia más pequeña\n",
        "            Z = np.array(sorted(list(Z),\n",
        "                                key=lambda x:min(x[:20]**2 + x[20:]**2)))\n",
        "            startingPoint = (Z[0]).reshape(1,-1)\n",
        "\n",
        "        # 2. SIMULACION DE LA NUEVA CADENA DE MARKOV\n",
        "        Z = simula_cadenaMarkov(n, d, startingPoint, d_parcial_ant)\n",
        "\n",
        "        # 3. CALCULAMOS LA DISTANCIA MINIMA DE CADA SIMULACIÓN\n",
        "        l = np.sqrt(np.amin(Z[:,:20]**2 + Z[:,20:]**2, axis=1))\n",
        "\n",
        "        # 4. CALCULAMOS LA PROBABILIDAD DE ALCANZAR LA DISTANCIA PARCIAL\n",
        "        P_vec = np.append(P_vec, np.mean(l <= distancias_parciales[dist]))\n",
        "\n",
        "    # 5. CALCULAMOS LA PROBABILIDAD DE CONFLICTO COMO EL PRODUCTO DE LAS PROBABILIDADES CONDICIONALES.\n",
        "    P = np.prod(P_vec)\n",
        "    proba_parciales_df = pd.DataFrame({'Distancias Parciales': distancias_parciales,\n",
        "                                    'Probabilidades Parciales':P_vec})\n",
        "    resultados= {'Distancias Parciales': np.array(distancias_parciales),\n",
        "                 'Probabilidades Parciales':P_vec,\n",
        "                 'Probabilidad de Conflicto':P}\n",
        "    print(f\"La probabilidad de que dos aviones, que salesn a {d:.2f} nmi de \\\n",
        "distancia, entren en conflicto es de {P}\")\n",
        "\n",
        "    return resultados"
      ],
      "execution_count": 16,
      "outputs": []
    },
    {
      "cell_type": "code",
      "metadata": {
        "colab": {
          "base_uri": "https://localhost:8080/"
        },
        "outputId": "6c8be165-63c4-4d2a-cec3-dee62c3348cf",
        "id": "JrhvHP8rb_8-"
      },
      "source": [
        "n = 15000\n",
        "d = 8\n",
        "resultados_8 = probaAR(n,d)"
      ],
      "execution_count": 21,
      "outputs": [
        {
          "output_type": "stream",
          "name": "stdout",
          "text": [
            "La probabilidad de que dos aviones, que salesn a 8.00 nmi de distancia, entren en conflicto es de 6.924376792313552e-10\n"
          ]
        }
      ]
    },
    {
      "cell_type": "code",
      "source": [
        "\n",
        "pd.DataFrame({'DistanciasParciales': resultados_8['Distancias Parciales'],\n",
        "              'ProbabilidadesParciales': resultados_8['Probabilidades Parciales']})"
      ],
      "metadata": {
        "colab": {
          "base_uri": "https://localhost:8080/",
          "height": 237
        },
        "id": "zltoCY2_a3b4",
        "outputId": "350b5e3b-79a0-483f-e125-76f6ad46524b"
      },
      "execution_count": 24,
      "outputs": [
        {
          "output_type": "execute_result",
          "data": {
            "text/plain": [
              "   DistanciasParciales  ProbabilidadesParciales\n",
              "0             4.506621                 0.014867\n",
              "1             2.935995                 0.018400\n",
              "2             1.771884                 0.016600\n",
              "3             0.832567                 0.022600\n",
              "4             0.198700                 0.029067\n",
              "5             0.100000                 0.232133"
            ],
            "text/html": [
              "\n",
              "  <div id=\"df-5f658669-758b-4048-a266-23780e93a23a\" class=\"colab-df-container\">\n",
              "    <div>\n",
              "<style scoped>\n",
              "    .dataframe tbody tr th:only-of-type {\n",
              "        vertical-align: middle;\n",
              "    }\n",
              "\n",
              "    .dataframe tbody tr th {\n",
              "        vertical-align: top;\n",
              "    }\n",
              "\n",
              "    .dataframe thead th {\n",
              "        text-align: right;\n",
              "    }\n",
              "</style>\n",
              "<table border=\"1\" class=\"dataframe\">\n",
              "  <thead>\n",
              "    <tr style=\"text-align: right;\">\n",
              "      <th></th>\n",
              "      <th>DistanciasParciales</th>\n",
              "      <th>ProbabilidadesParciales</th>\n",
              "    </tr>\n",
              "  </thead>\n",
              "  <tbody>\n",
              "    <tr>\n",
              "      <th>0</th>\n",
              "      <td>4.506621</td>\n",
              "      <td>0.014867</td>\n",
              "    </tr>\n",
              "    <tr>\n",
              "      <th>1</th>\n",
              "      <td>2.935995</td>\n",
              "      <td>0.018400</td>\n",
              "    </tr>\n",
              "    <tr>\n",
              "      <th>2</th>\n",
              "      <td>1.771884</td>\n",
              "      <td>0.016600</td>\n",
              "    </tr>\n",
              "    <tr>\n",
              "      <th>3</th>\n",
              "      <td>0.832567</td>\n",
              "      <td>0.022600</td>\n",
              "    </tr>\n",
              "    <tr>\n",
              "      <th>4</th>\n",
              "      <td>0.198700</td>\n",
              "      <td>0.029067</td>\n",
              "    </tr>\n",
              "    <tr>\n",
              "      <th>5</th>\n",
              "      <td>0.100000</td>\n",
              "      <td>0.232133</td>\n",
              "    </tr>\n",
              "  </tbody>\n",
              "</table>\n",
              "</div>\n",
              "    <div class=\"colab-df-buttons\">\n",
              "\n",
              "  <div class=\"colab-df-container\">\n",
              "    <button class=\"colab-df-convert\" onclick=\"convertToInteractive('df-5f658669-758b-4048-a266-23780e93a23a')\"\n",
              "            title=\"Convert this dataframe to an interactive table.\"\n",
              "            style=\"display:none;\">\n",
              "\n",
              "  <svg xmlns=\"http://www.w3.org/2000/svg\" height=\"24px\" viewBox=\"0 -960 960 960\">\n",
              "    <path d=\"M120-120v-720h720v720H120Zm60-500h600v-160H180v160Zm220 220h160v-160H400v160Zm0 220h160v-160H400v160ZM180-400h160v-160H180v160Zm440 0h160v-160H620v160ZM180-180h160v-160H180v160Zm440 0h160v-160H620v160Z\"/>\n",
              "  </svg>\n",
              "    </button>\n",
              "\n",
              "  <style>\n",
              "    .colab-df-container {\n",
              "      display:flex;\n",
              "      gap: 12px;\n",
              "    }\n",
              "\n",
              "    .colab-df-convert {\n",
              "      background-color: #E8F0FE;\n",
              "      border: none;\n",
              "      border-radius: 50%;\n",
              "      cursor: pointer;\n",
              "      display: none;\n",
              "      fill: #1967D2;\n",
              "      height: 32px;\n",
              "      padding: 0 0 0 0;\n",
              "      width: 32px;\n",
              "    }\n",
              "\n",
              "    .colab-df-convert:hover {\n",
              "      background-color: #E2EBFA;\n",
              "      box-shadow: 0px 1px 2px rgba(60, 64, 67, 0.3), 0px 1px 3px 1px rgba(60, 64, 67, 0.15);\n",
              "      fill: #174EA6;\n",
              "    }\n",
              "\n",
              "    .colab-df-buttons div {\n",
              "      margin-bottom: 4px;\n",
              "    }\n",
              "\n",
              "    [theme=dark] .colab-df-convert {\n",
              "      background-color: #3B4455;\n",
              "      fill: #D2E3FC;\n",
              "    }\n",
              "\n",
              "    [theme=dark] .colab-df-convert:hover {\n",
              "      background-color: #434B5C;\n",
              "      box-shadow: 0px 1px 3px 1px rgba(0, 0, 0, 0.15);\n",
              "      filter: drop-shadow(0px 1px 2px rgba(0, 0, 0, 0.3));\n",
              "      fill: #FFFFFF;\n",
              "    }\n",
              "  </style>\n",
              "\n",
              "    <script>\n",
              "      const buttonEl =\n",
              "        document.querySelector('#df-5f658669-758b-4048-a266-23780e93a23a button.colab-df-convert');\n",
              "      buttonEl.style.display =\n",
              "        google.colab.kernel.accessAllowed ? 'block' : 'none';\n",
              "\n",
              "      async function convertToInteractive(key) {\n",
              "        const element = document.querySelector('#df-5f658669-758b-4048-a266-23780e93a23a');\n",
              "        const dataTable =\n",
              "          await google.colab.kernel.invokeFunction('convertToInteractive',\n",
              "                                                    [key], {});\n",
              "        if (!dataTable) return;\n",
              "\n",
              "        const docLinkHtml = 'Like what you see? Visit the ' +\n",
              "          '<a target=\"_blank\" href=https://colab.research.google.com/notebooks/data_table.ipynb>data table notebook</a>'\n",
              "          + ' to learn more about interactive tables.';\n",
              "        element.innerHTML = '';\n",
              "        dataTable['output_type'] = 'display_data';\n",
              "        await google.colab.output.renderOutput(dataTable, element);\n",
              "        const docLink = document.createElement('div');\n",
              "        docLink.innerHTML = docLinkHtml;\n",
              "        element.appendChild(docLink);\n",
              "      }\n",
              "    </script>\n",
              "  </div>\n",
              "\n",
              "\n",
              "    <div id=\"df-6d6177e7-28d3-4180-8523-ed800a63bf1b\">\n",
              "      <button class=\"colab-df-quickchart\" onclick=\"quickchart('df-6d6177e7-28d3-4180-8523-ed800a63bf1b')\"\n",
              "                title=\"Suggest charts\"\n",
              "                style=\"display:none;\">\n",
              "\n",
              "<svg xmlns=\"http://www.w3.org/2000/svg\" height=\"24px\"viewBox=\"0 0 24 24\"\n",
              "     width=\"24px\">\n",
              "    <g>\n",
              "        <path d=\"M19 3H5c-1.1 0-2 .9-2 2v14c0 1.1.9 2 2 2h14c1.1 0 2-.9 2-2V5c0-1.1-.9-2-2-2zM9 17H7v-7h2v7zm4 0h-2V7h2v10zm4 0h-2v-4h2v4z\"/>\n",
              "    </g>\n",
              "</svg>\n",
              "      </button>\n",
              "\n",
              "<style>\n",
              "  .colab-df-quickchart {\n",
              "      --bg-color: #E8F0FE;\n",
              "      --fill-color: #1967D2;\n",
              "      --hover-bg-color: #E2EBFA;\n",
              "      --hover-fill-color: #174EA6;\n",
              "      --disabled-fill-color: #AAA;\n",
              "      --disabled-bg-color: #DDD;\n",
              "  }\n",
              "\n",
              "  [theme=dark] .colab-df-quickchart {\n",
              "      --bg-color: #3B4455;\n",
              "      --fill-color: #D2E3FC;\n",
              "      --hover-bg-color: #434B5C;\n",
              "      --hover-fill-color: #FFFFFF;\n",
              "      --disabled-bg-color: #3B4455;\n",
              "      --disabled-fill-color: #666;\n",
              "  }\n",
              "\n",
              "  .colab-df-quickchart {\n",
              "    background-color: var(--bg-color);\n",
              "    border: none;\n",
              "    border-radius: 50%;\n",
              "    cursor: pointer;\n",
              "    display: none;\n",
              "    fill: var(--fill-color);\n",
              "    height: 32px;\n",
              "    padding: 0;\n",
              "    width: 32px;\n",
              "  }\n",
              "\n",
              "  .colab-df-quickchart:hover {\n",
              "    background-color: var(--hover-bg-color);\n",
              "    box-shadow: 0 1px 2px rgba(60, 64, 67, 0.3), 0 1px 3px 1px rgba(60, 64, 67, 0.15);\n",
              "    fill: var(--button-hover-fill-color);\n",
              "  }\n",
              "\n",
              "  .colab-df-quickchart-complete:disabled,\n",
              "  .colab-df-quickchart-complete:disabled:hover {\n",
              "    background-color: var(--disabled-bg-color);\n",
              "    fill: var(--disabled-fill-color);\n",
              "    box-shadow: none;\n",
              "  }\n",
              "\n",
              "  .colab-df-spinner {\n",
              "    border: 2px solid var(--fill-color);\n",
              "    border-color: transparent;\n",
              "    border-bottom-color: var(--fill-color);\n",
              "    animation:\n",
              "      spin 1s steps(1) infinite;\n",
              "  }\n",
              "\n",
              "  @keyframes spin {\n",
              "    0% {\n",
              "      border-color: transparent;\n",
              "      border-bottom-color: var(--fill-color);\n",
              "      border-left-color: var(--fill-color);\n",
              "    }\n",
              "    20% {\n",
              "      border-color: transparent;\n",
              "      border-left-color: var(--fill-color);\n",
              "      border-top-color: var(--fill-color);\n",
              "    }\n",
              "    30% {\n",
              "      border-color: transparent;\n",
              "      border-left-color: var(--fill-color);\n",
              "      border-top-color: var(--fill-color);\n",
              "      border-right-color: var(--fill-color);\n",
              "    }\n",
              "    40% {\n",
              "      border-color: transparent;\n",
              "      border-right-color: var(--fill-color);\n",
              "      border-top-color: var(--fill-color);\n",
              "    }\n",
              "    60% {\n",
              "      border-color: transparent;\n",
              "      border-right-color: var(--fill-color);\n",
              "    }\n",
              "    80% {\n",
              "      border-color: transparent;\n",
              "      border-right-color: var(--fill-color);\n",
              "      border-bottom-color: var(--fill-color);\n",
              "    }\n",
              "    90% {\n",
              "      border-color: transparent;\n",
              "      border-bottom-color: var(--fill-color);\n",
              "    }\n",
              "  }\n",
              "</style>\n",
              "\n",
              "      <script>\n",
              "        async function quickchart(key) {\n",
              "          const quickchartButtonEl =\n",
              "            document.querySelector('#' + key + ' button');\n",
              "          quickchartButtonEl.disabled = true;  // To prevent multiple clicks.\n",
              "          quickchartButtonEl.classList.add('colab-df-spinner');\n",
              "          try {\n",
              "            const charts = await google.colab.kernel.invokeFunction(\n",
              "                'suggestCharts', [key], {});\n",
              "          } catch (error) {\n",
              "            console.error('Error during call to suggestCharts:', error);\n",
              "          }\n",
              "          quickchartButtonEl.classList.remove('colab-df-spinner');\n",
              "          quickchartButtonEl.classList.add('colab-df-quickchart-complete');\n",
              "        }\n",
              "        (() => {\n",
              "          let quickchartButtonEl =\n",
              "            document.querySelector('#df-6d6177e7-28d3-4180-8523-ed800a63bf1b button');\n",
              "          quickchartButtonEl.style.display =\n",
              "            google.colab.kernel.accessAllowed ? 'block' : 'none';\n",
              "        })();\n",
              "      </script>\n",
              "    </div>\n",
              "\n",
              "    </div>\n",
              "  </div>\n"
            ],
            "application/vnd.google.colaboratory.intrinsic+json": {
              "type": "dataframe",
              "summary": "{\n  \"name\": \"              'ProbabilidadesParciales': resultados_8['Probabilidades Parciales']})\",\n  \"rows\": 6,\n  \"fields\": [\n    {\n      \"column\": \"DistanciasParciales\",\n      \"properties\": {\n        \"dtype\": \"number\",\n        \"std\": 1.7304781193091312,\n        \"min\": 0.1,\n        \"max\": 4.5066211648607615,\n        \"num_unique_values\": 6,\n        \"samples\": [\n          4.5066211648607615,\n          2.9359950347594115,\n          0.1\n        ],\n        \"semantic_type\": \"\",\n        \"description\": \"\"\n      }\n    },\n    {\n      \"column\": \"ProbabilidadesParciales\",\n      \"properties\": {\n        \"dtype\": \"number\",\n        \"std\": 0.08662687719092645,\n        \"min\": 0.014866666666666667,\n        \"max\": 0.23213333333333333,\n        \"num_unique_values\": 6,\n        \"samples\": [\n          0.014866666666666667,\n          0.0184,\n          0.23213333333333333\n        ],\n        \"semantic_type\": \"\",\n        \"description\": \"\"\n      }\n    }\n  ]\n}"
            }
          },
          "metadata": {},
          "execution_count": 24
        }
      ]
    },
    {
      "cell_type": "code",
      "metadata": {
        "colab": {
          "base_uri": "https://localhost:8080/"
        },
        "outputId": "25bfb8ee-f481-498a-abe3-d583d4684796",
        "id": "AVz_Xu9Pb3Ju"
      },
      "source": [
        "d = 7\n",
        "probaAR(n, d)"
      ],
      "execution_count": null,
      "outputs": [
        {
          "output_type": "stream",
          "name": "stdout",
          "text": [
            "La probabilidad de que dos aviones, que salesn a 7.00 nmi de distancia, entren en conflicto es de 3.601505361237334e-08\n"
          ]
        },
        {
          "output_type": "execute_result",
          "data": {
            "text/plain": [
              "{'Distancias Parciales': array([3.61274584, 2.02959993, 0.90352922, 0.18886665, 0.1       ]),\n",
              " 'Probabilidades Parciales': array([0.0218    , 0.0174    , 0.0232    , 0.01386667, 0.29513333]),\n",
              " 'Probabilidad de Conflicto': np.float64(3.601505361237334e-08)}"
            ]
          },
          "metadata": {},
          "execution_count": 65
        }
      ]
    },
    {
      "cell_type": "code",
      "metadata": {
        "colab": {
          "base_uri": "https://localhost:8080/"
        },
        "outputId": "20cc86b5-5a37-4d95-b9ec-8c3dd34b5b38",
        "id": "WFOj42f-d71l"
      },
      "source": [
        "d = 6\n",
        "probaAR(n, d)"
      ],
      "execution_count": null,
      "outputs": [
        {
          "output_type": "stream",
          "name": "stdout",
          "text": [
            "La probabilidad de que dos aviones, que salesn a 6.00 nmi de distancia, entren en conflicto es de 1.1867124456296296e-06\n"
          ]
        },
        {
          "output_type": "execute_result",
          "data": {
            "text/plain": [
              "{'Distancias Parciales': array([2.68270567, 1.23343338, 0.291483  , 0.1       ]),\n",
              " 'Probabilidades Parciales': array([0.02373333, 0.026     , 0.02313333, 0.08313333]),\n",
              " 'Probabilidad de Conflicto': np.float64(1.1867124456296296e-06)}"
            ]
          },
          "metadata": {},
          "execution_count": 66
        }
      ]
    },
    {
      "cell_type": "code",
      "metadata": {
        "colab": {
          "base_uri": "https://localhost:8080/"
        },
        "outputId": "989c7637-57e6-4924-bc8b-f47ff39c9af6",
        "id": "isUwfKpOeg89"
      },
      "source": [
        "d = 5\n",
        "probaAR(n, d)"
      ],
      "execution_count": null,
      "outputs": [
        {
          "output_type": "stream",
          "name": "stdout",
          "text": [
            "La probabilidad de que dos aviones, que salesn a 5.00 nmi de distancia, entren en conflicto es de 1.5244528888888888e-05\n"
          ]
        },
        {
          "output_type": "execute_result",
          "data": {
            "text/plain": [
              "{'Distancias Parciales': array([1.75455448, 0.43452588, 0.1       ]),\n",
              " 'Probabilidades Parciales': array([0.02073333, 0.01793333, 0.041     ]),\n",
              " 'Probabilidad de Conflicto': np.float64(1.5244528888888888e-05)}"
            ]
          },
          "metadata": {},
          "execution_count": 67
        }
      ]
    },
    {
      "cell_type": "code",
      "metadata": {
        "colab": {
          "base_uri": "https://localhost:8080/"
        },
        "outputId": "06a12ea3-2cc9-433f-ec11-9960e8efc4a5",
        "id": "C9lbqXFCyqmg"
      },
      "source": [
        "d = 4\n",
        "probaAR(n, d)"
      ],
      "execution_count": null,
      "outputs": [
        {
          "output_type": "stream",
          "name": "stdout",
          "text": [
            "La probabilidad de que dos aviones, que salesn a 4.00 nmi de distancia, entren en conflicto es de 0.00019730427022222218\n"
          ]
        },
        {
          "output_type": "execute_result",
          "data": {
            "text/plain": [
              "{'Distancias Parciales': array([1.00856912, 0.1494689 , 0.1       ]),\n",
              " 'Probabilidades Parciales': array([0.02253333, 0.01946667, 0.4498    ]),\n",
              " 'Probabilidad de Conflicto': np.float64(0.00019730427022222218)}"
            ]
          },
          "metadata": {},
          "execution_count": 68
        }
      ]
    },
    {
      "cell_type": "code",
      "metadata": {
        "colab": {
          "base_uri": "https://localhost:8080/"
        },
        "outputId": "7700f3dc-d4a3-4555-9d02-5b9e0320613f",
        "id": "XODhbge17Kjp"
      },
      "source": [
        "d = 4\n",
        "probaAR(n,d)"
      ],
      "execution_count": null,
      "outputs": [
        {
          "output_type": "stream",
          "name": "stdout",
          "text": [
            "La probabilidad de que dos aviones, que salesn a 4.00 nmi de distancia, entren en conflicto es de 0.00020671317333333333\n"
          ]
        },
        {
          "output_type": "execute_result",
          "data": {
            "text/plain": [
              "{'Distancias Parciales': array([0.86731427, 0.14262521, 0.1       ]),\n",
              " 'Probabilidades Parciales': array([0.01613333, 0.02773333, 0.462     ]),\n",
              " 'Probabilidad de Conflicto': np.float64(0.00020671317333333333)}"
            ]
          },
          "metadata": {},
          "execution_count": 69
        }
      ]
    },
    {
      "cell_type": "code",
      "metadata": {
        "colab": {
          "base_uri": "https://localhost:8080/"
        },
        "outputId": "cc9d419c-1f9a-41fe-f120-d01bcc666b19",
        "id": "edIP7hDh_8mE"
      },
      "source": [
        "d = 4\n",
        "probaAR(n,d)"
      ],
      "execution_count": null,
      "outputs": [
        {
          "output_type": "stream",
          "name": "stdout",
          "text": [
            "La probabilidad de que dos aviones, que salesn a 4.00 nmi de distancia, entren en conflicto es de 0.00020910709925925927\n"
          ]
        },
        {
          "output_type": "execute_result",
          "data": {
            "text/plain": [
              "{'Distancias Parciales': array([0.94453427, 0.14109876, 0.1       ]),\n",
              " 'Probabilidades Parciales': array([0.02126667, 0.01693333, 0.58066667]),\n",
              " 'Probabilidad de Conflicto': np.float64(0.00020910709925925927)}"
            ]
          },
          "metadata": {},
          "execution_count": 70
        }
      ]
    }
  ]
}