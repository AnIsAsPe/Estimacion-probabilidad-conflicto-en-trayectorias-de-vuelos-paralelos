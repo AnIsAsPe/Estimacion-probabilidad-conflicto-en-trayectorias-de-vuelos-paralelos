{
  "nbformat": 4,
  "nbformat_minor": 0,
  "metadata": {
    "kernelspec": {
      "display_name": "Python 3",
      "language": "python",
      "name": "python3"
    },
    "language_info": {
      "codemirror_mode": {
        "name": "ipython",
        "version": 3
      },
      "file_extension": ".py",
      "mimetype": "text/x-python",
      "name": "python",
      "nbconvert_exporter": "python",
      "pygments_lexer": "ipython3",
      "version": "3.7.3"
    },
    "colab": {
      "name": "MCMC Estimación probabilidad de conflicto en trayectorias de vuelo",
      "provenance": [],
      "toc_visible": true,
      "include_colab_link": true
    }
  },
  "cells": [
    {
      "cell_type": "markdown",
      "metadata": {
        "id": "view-in-github",
        "colab_type": "text"
      },
      "source": [
        "<a href=\"https://colab.research.google.com/github/AnIsAsPe/Estimacion-probabilidad-conflicto-en-trayectorias-de-vuelos-paralelos/blob/main/Notebooks/MCMC_Estimaci%C3%B3n_probabilidad_de_conflicto_en_trayectorias_de_vuelo.ipynb\" target=\"_parent\"><img src=\"https://colab.research.google.com/assets/colab-badge.svg\" alt=\"Open In Colab\"/></a>"
      ]
    },
    {
      "cell_type": "markdown",
      "source": [
        "# Bibliotecas y funciones"
      ],
      "metadata": {
        "id": "Ro2cXR7s1hz9"
      }
    },
    {
      "cell_type": "code",
      "metadata": {
        "id": "-Y8onNp3S8jK"
      },
      "source": [
        "import numpy as np\n",
        "\n",
        "import matplotlib.pyplot as plt\n",
        "import seaborn as sns"
      ],
      "execution_count": 67,
      "outputs": []
    },
    {
      "cell_type": "code",
      "metadata": {
        "id": "qv1nKIs7MhlM"
      },
      "source": [
        "def covarianzas(r_a, sigma_c, r_c, v ):\n",
        "  covA=np.zeros((20,20))\n",
        "  covC=np.zeros((20,20))\n",
        "  for s in range(20):\n",
        "    covC[s,s] = (sigma_c**2)*(1-np.exp(-2*r_c*v*(s+1)/sigma_c))\n",
        "    covA[s,s] = (r_a**2)*((s+1)**2)\n",
        "    for t in range(s):\n",
        "        covC[t,s] = covC[s,t]=(sigma_c**2)*(1-np.exp(-2*r_c*v*(t+1)/sigma_c))*np.exp(-r_c*v*(s-t)/sigma_c)\n",
        "        covA[t,s] = covA[s,t]=(r_a**2)*((t+1)**2)\n",
        "  return covA, covC\n"
      ],
      "execution_count": 68,
      "outputs": []
    },
    {
      "cell_type": "markdown",
      "metadata": {
        "id": "Rics1Qh1S8jT"
      },
      "source": [
        "# Generación de coordenadas along y cross"
      ]
    },
    {
      "cell_type": "markdown",
      "source": [
        "Como en el caso de Montecarlo iid, simulamos los errores en cada trayectoria utilizando el modelo de la distribución normal multinomial valiendonos de las covarianzas en el tiempo de la trayectoria (20 obs, 1 por min)"
      ],
      "metadata": {
        "id": "jQVIeTjsTNok"
      }
    },
    {
      "cell_type": "markdown",
      "source": [
        "$x_{a,t} = vt + error_{a,t}~~~~$  (Along-track component)\n",
        "\n",
        "$x_{c,t} = error_{c,t}~~~~~~~~~~~~~$       (Cross-track component)"
      ],
      "metadata": {
        "id": "QKQJ2eRII5BV"
      }
    },
    {
      "cell_type": "markdown",
      "metadata": {
        "id": "pmHP_vt2CvsQ"
      },
      "source": [
        "$\\mathbb{Cov}(error_{a,t},~error_{a,s}) = r_a^2t^2$    \n",
        "\n",
        "$\\mathbb{Cov}(error_{c,t},~error_{c,s}) = \\sigma_c^2(1-e^{-2\\frac{r_c}{\\sigma_c}vt})e^{-\\frac{r_c}{\\sigma_c}v(s-t)}$  \n",
        "\n",
        "\n",
        "---\n",
        "R. A. Paielli y H. Erzberger, «Conflict Probability Estimation for Free Flight», Journal of Guidance, Control, and Dynamics, may 2012, doi: 10.2514/2.4081.\n"
      ]
    },
    {
      "cell_type": "code",
      "metadata": {
        "id": "1VEXa5hbM3Tc"
      },
      "source": [
        "sigma_c= 1\n",
        "r_c=1/57\n",
        "v=8\n",
        "r_a = 0.25\n",
        "\n",
        "covA, covC = covarianzas(r_a, sigma_c, r_c, v)"
      ],
      "execution_count": 69,
      "outputs": []
    },
    {
      "cell_type": "markdown",
      "source": [
        "# Simulaciones con modelo AR (Construcción de la cadena de markov)\n",
        "\n",
        "Cuando existe un distancia menor a lo establecido (radar) entonces se considera el siguiente modelo AR\n",
        "\n",
        "$$Z_{i} = \\phi(Z_{i-1}-2\\mu) + \\sqrt{1-\\phi^{2}}(I_{i}-2\\mu) +2\\mu$$\n",
        "\n",
        "donde:\n",
        "\n",
        "- $\\phi(Z_{i-1}-2\\mu)$  es la parte de la trayectoria previa que conservamos, y\n",
        "- $ \\sqrt{1-\\phi^{2}}(I_{i}-2\\mu) $ es la parte de innovación que se añade\n",
        "\n",
        "\n",
        "\n",
        "En caso contrario\n",
        "\n",
        "$$Z_{i} = Z_{i-1} $$"
      ],
      "metadata": {
        "id": "xi9yjqH6Z2K-"
      }
    },
    {
      "cell_type": "code",
      "metadata": {
        "id": "NghADShV_ug-"
      },
      "source": [
        "d = 8\n",
        "n = 15000\n",
        "𝜇 = np.zeros(20) + d/2   # vector de tamaño 20 que contiene la mitad de la distancia inicial de los aviones\n",
        "\n",
        "# Simulamos nuestra primer vector de distancias entre dos aviones con\n",
        "# trayectorias paralelas \"startingpoint\" (1 observación de la Cadena de Markov)\n",
        "\n",
        "Z_a = np.random.multivariate_normal(np.zeros(20), 2*covA, size=1) + v*np.arange(1,21)\n",
        "Z_c = np.random.multivariate_normal(2*𝜇, 2*covC, size=1)\n",
        "Z = np.concatenate((Z_a, Z_c), axis=1)\n",
        "\n",
        "# Generamos una vector auxiliar iid que nos ayudará a construir la cadena de Markov\n",
        "\n",
        "I_a = np.random.multivariate_normal(np.zeros(20), 2*covA, size=n) + v*np.arange(1,21)\n",
        "I_c = np.random.multivariate_normal(2*𝜇, 2*covC, size=n)\n",
        "I = np.concatenate((I_a, I_c), axis=1)"
      ],
      "execution_count": null,
      "outputs": []
    },
    {
      "cell_type": "code",
      "metadata": {
        "id": "EzJhJInJ_wHm",
        "colab": {
          "base_uri": "https://localhost:8080/"
        },
        "outputId": "ca0c5d29-752f-4a06-b440-d507c58cace8"
      },
      "source": [
        "print(Z_a.shape, Z_c.shape, Z.shape)\n",
        "print(I_a.shape, I_c.shape, I.shape)"
      ],
      "execution_count": null,
      "outputs": [
        {
          "output_type": "stream",
          "name": "stdout",
          "text": [
            "(1, 20) (1, 20) (1, 40)\n",
            "(500, 20) (500, 20) (500, 40)\n"
          ]
        }
      ]
    },
    {
      "cell_type": "markdown",
      "source": [
        "$$Z_{i} = \\phi(Z_{i-1}-2\\mu) + \\sqrt{1-\\phi^{2}}(I_{i}-2\\mu) +2\\mu$$"
      ],
      "metadata": {
        "id": "up_7id_c1wcJ"
      }
    },
    {
      "cell_type": "code",
      "source": [
        "def simula_CadenaMarkov(d, startingPoint, dist_referencia = float(\"inf\")):\n",
        "        𝜇 = np.zeros(20) + d/2\n",
        "        Z = startingPoint\n",
        "        Z_a = Z[:,:20]\n",
        "        Z_c = Z[:,20:]\n",
        "\n",
        "        I_a = np.random.multivariate_normal(mean=np.zeros(20), cov=2*covA, size=n)\n",
        "        I_c = np.random.multivariate_normal(mean=2*𝜇, cov=2*covC,size=n)\n",
        "        I = np.concatenate((I_a, I_c), axis=1)\n",
        "\n",
        "        for i in range(n-1):\n",
        "            newZ_a = 𝜙*(Z_a[-1:,]) + 𝜙_bar*(I_a[i,:])\n",
        "            newZ_c = 𝜙*(Z_c[-1:,] - 2*𝜇) + 𝜙_bar*(I_c[i,:] - 2*𝜇) + 2*𝜇\n",
        "\n",
        "            # Se calcula la distancia minima de la nueva simulación(d_newZ).\n",
        "            d_newZ = np.sqrt(np.min(newZ_a**2 + newZ_c**2))\n",
        "\n",
        "            # Se considerará la nueva simulación cuando d_newZ sea menor o igual\n",
        "            # a la distancia de referencia, en caso contrario nos quedaremos con\n",
        "            # la trayectoria anterior.\n",
        "            Z_a = np.append(Z_a,\n",
        "                           newZ_a*(d_newZ <= dist_referencia) +                \\\n",
        "                           Z_a[-1]*(d_newZ > dist_referencia),\n",
        "                           axis=0)\n",
        "            Z_c = np.append(Z_c,\n",
        "                            newZ_c*(d_newZ <= dist_referencia) +               \\\n",
        "                            Z_c[-1]*(d_newZ>dist_referencia),\n",
        "                            axis=0)\n",
        "        Z = np.concatenate((Z_a, Z_c), axis=1)\n",
        "        return Z"
      ],
      "metadata": {
        "id": "U3CMqNaczOZl"
      },
      "execution_count": null,
      "outputs": []
    },
    {
      "cell_type": "markdown",
      "source": [
        "# Encontrar distancias parciales convenientes"
      ],
      "metadata": {
        "id": "NBYvPtK57_OF"
      }
    },
    {
      "cell_type": "code",
      "source": [
        "# Generamos un vector de distancias de tamaño n\n",
        "n=1000\n",
        "vector = np.random.normal(8, 1, n)\n",
        "distancias = vector[vector < 8]\n",
        "\n",
        "# Ordenamos el vector distancias de manera ascendente\n",
        "distancias = np.sort(distancias)\n",
        "\n",
        "# Elegimos el cuantil 2 de las distancias menores\n",
        "cuantil = 0.02\n",
        "inx = int(n * cuantil)\n",
        "distancia_parcial = distancias[inx]"
      ],
      "metadata": {
        "id": "2i_G2xdz3sX7"
      },
      "execution_count": 77,
      "outputs": []
    },
    {
      "cell_type": "code",
      "source": [
        "# Histograma\n",
        "plt.figure(figsize=(4, 3))\n",
        "plt.hist(distancias, bins=30, edgecolor='black')\n",
        "plt.axvline(x=distancia_parcial, color='red', linestyle='--',\n",
        "            label=f'Distancia Parcial ({distancia_parcial:.2f})')\n",
        "plt.xlabel('Distancias')\n",
        "plt.ylabel('Frecuencia')\n",
        "plt.title('Histograma de Distancias')\n",
        "plt.legend()\n",
        "\n",
        "# Show the plot\n",
        "plt.show()\n"
      ],
      "metadata": {
        "id": "_0NRRrEpwkji",
        "outputId": "36b780b7-9911-49a6-b94e-d6dbc2ec60bb",
        "colab": {
          "base_uri": "https://localhost:8080/",
          "height": 333
        }
      },
      "execution_count": 78,
      "outputs": [
        {
          "output_type": "display_data",
          "data": {
            "text/plain": [
              "<Figure size 400x300 with 1 Axes>"
            ],
            "image/png": "[encoded data removed]"
          },
          "metadata": {}
        }
      ]
    },
    {
      "cell_type": "code",
      "metadata": {
        "id": "Eh4rSgN0S8jT"
      },
      "source": [
        "def identificar_rangos_distancia(n, d):\n",
        "    cuantil = 0.98\n",
        "\n",
        "    # 1. Simula la primera cadena de markov.\n",
        "    𝜇 = np.zeros(20) + d/2\n",
        "    Z_a = np.random.multivariate_normal(np.zeros(20), 2*covA, size=1) + v*np.arange(1,21)\n",
        "    Z_c = np.random.multivariate_normal(2*𝜇, 2*covC, size=1)\n",
        "    startingPoint = np.concatenate((Z_a, Z_c), axis=1)\n",
        "    Z = simula_CadenaMarkov(d, startingPoint)\n",
        "\n",
        "    # 2. Ordena las simulaciones de manera ascendente considerando la distancia\n",
        "    # minima en cada simulación.\n",
        "    Z = np.array(sorted(list(Z), key=lambda x:min(x[:20]**2 + x[20:]**2)))\n",
        "\n",
        "    # 3. Conservamos el (1-cuantil)% de simulaciones en que se acercaron\n",
        "    #    más los aviones identificamos la trayectoria que separa con el criterio descrito.\n",
        "    renglon = int(np.ceil((1-cuantil)*n) - 1)\n",
        "\n",
        "    # 4. Guardamos la distancia mínima del renglón vector identificado.\n",
        "    distancias = np.array([])\n",
        "    distancia_minima = np.sqrt(np.min((Z[renglon,:20]**2 + Z[renglon, 20:]**2)))\n",
        "    distancias = np.append(distancias, distancia_minima)\n",
        "\n",
        "    # Repetimos el proceso mientras la distancia encontrada sea mayor\n",
        "    # que la distancia de conflicto.\n",
        "    while (distancias[-1] > a):\n",
        "        # 1. Comenzamos una nueva cadena de markov considerando el startingpoint\n",
        "        #    la Z con la menor distancia ocurrida en la simulación anterior y la\n",
        "        #    distancia de referencia identificada en la iteración anterior.\n",
        "        startingPoint = (Z[0]).reshape(1,-1)\n",
        "        Z = simula_CadenaMarkov(d, startingPoint, distancias[-1])\n",
        "\n",
        "        # 2. Ordena las simulaciones en base a la distancia minima en cada simulación.\n",
        "        Z = np.array(sorted(list(Z), key=lambda x: min(x[:20]**2+x[20:]**2)))\n",
        "\n",
        "        # 3. Nos quedamos con el (1-cuantil)% de simulaciones en que se acercaron más los aviones.\n",
        "        #    Identificamos la trayectoria que separa con el criterio descrito.\n",
        "        renglon = int(np.ceil((1-cuantil)*n)-1)\n",
        "\n",
        "        # 4. Guardamos la minima distancia minima del renglón vector identificado.\n",
        "        distancia_minima = np.sqrt(np.min((Z[renglon,:20]**2+Z[renglon, 20:]**2)))\n",
        "        distancias = np.append(distancias, distancia_minima)\n",
        "\n",
        "    # 5. Nos aseguramos de que el primer nivel sea a.\n",
        "    distancias = distancias[:-1]\n",
        "    distancias = np.append(distancias, a)\n",
        "\n",
        "    distancias=list(dict.fromkeys(distancias))\n",
        "\n",
        "    return distancias"
      ],
      "execution_count": null,
      "outputs": []
    },
    {
      "cell_type": "code",
      "metadata": {
        "colab": {
          "base_uri": "https://localhost:8080/"
        },
        "outputId": "f1e86fd8-3535-404a-f61e-fb747772f1a4",
        "id": "Dx22ASTfst9X"
      },
      "source": [
        "a = 0.1\n",
        "𝜙 = 0.9\n",
        "𝜙_bar = np.sqrt(1-𝜙**2)\n",
        "d = 10\n",
        "n = 15000\n",
        "\n",
        "rangos_distancias = identificar_rangos_distancia(n, d)\n",
        "rangos_distancias"
      ],
      "execution_count": null,
      "outputs": [
        {
          "output_type": "execute_result",
          "data": {
            "text/plain": [
              "[6.540577477087834,\n",
              " 5.0004945993145125,\n",
              " 3.800369374709701,\n",
              " 2.7480494189776574,\n",
              " 1.7370478187682243,\n",
              " 0.8886135113754713,\n",
              " 0.2885173434156159,\n",
              " 0.1]"
            ]
          },
          "metadata": {},
          "execution_count": 12
        }
      ]
    },
    {
      "cell_type": "markdown",
      "source": [
        "# Encontrar la probabilidad de conflicto usando las distancias parciales"
      ],
      "metadata": {
        "id": "cP393re88FRe"
      }
    },
    {
      "cell_type": "code",
      "metadata": {
        "id": "_fDWuv4QS8jU"
      },
      "source": [
        "def probaAR(n, d):\n",
        "\n",
        "    # 0. DIVIDIMOS LA DISTANCIA d en DISTANCIAS PARCIALES\n",
        "    rangos_distancias = identificar_rangos_distancia(n, d)\n",
        "\n",
        "    # 1.CREAMOS EL PUNTO DE INICIO DE LA PRIMERA CADENA DE MARKOV\n",
        "    𝜇 = np.zeros(20) + d/2\n",
        "    Z_a = np.random.multivariate_normal(np.zeros(20), 2*covA, size=1) + v*np.arange(1,21)\n",
        "    Z_c = np.random.multivariate_normal(2*𝜇, 2*covC, size=1)\n",
        "    startingPoint = np.concatenate((Z_a, Z_c), axis=1)\n",
        "\n",
        "    # 2. CONSTRUIMOS LA PRIMERA CADENA DE MARKOV\n",
        "    Z = simula_CadenaMarkov(d, startingPoint)\n",
        "\n",
        "    # 3. CALCULAMOS LA DISTANCIA MINIMA DE CADA SIMULACIÓN\n",
        "    l = np.sqrt(np.amin(Z[:,:20]**2 + Z[:,20:]**2,axis=1))\n",
        "\n",
        "    # 4. ESTIMAMOS LA PROBABILIDAD DE QUE SE LLEGUE A LA PRIMERA DISTANCIA PARCIAL\n",
        "    P_vec = np.array(np.mean(l <= rangos_distancias[0]))  # se guarda en el vector P_vec\n",
        "\n",
        "\n",
        "    for dist in range(1, len(rangos_distancias)):\n",
        "\n",
        "        # 1. ELECCION DEL PUNTO DE PARTIDA DE LA NUEVA CADENA DE MARKOV\n",
        "        d_parcial_ant = rangos_distancias[(dist-1)]\n",
        "        if sum(l <= d_parcial_ant) > 0:\n",
        "            # Si existe, se elige una trayectoria que haya llegado a la distancia de referencia anterior\n",
        "            startingPoint = (Z[l <= d_parcial_ant][0]).reshape(1,-1)\n",
        "        else:\n",
        "            # Si no hay ninguna, se empieza con la que tenga la distancia más pequeña\n",
        "            Z = np.array(sorted(list(Z),\n",
        "                                key=lambda x:min(x[:20]**2 + x[20:]**2)))\n",
        "            startingPoint = (Z[0]).reshape(1,-1)\n",
        "\n",
        "        # 2. SIMULACION DE LA NUEVA CADENA DE MARKOV\n",
        "        Z = simula_CadenaMarkov(d, startingPoint, d_parcial_ant)\n",
        "\n",
        "        # 3. CALCULAMOS LA DISTANCIA MINIMA DE CADA SIMULACIÓN\n",
        "        l = np.sqrt(np.amin(Z[:,:20]**2 + Z[:,20:]**2, axis=1))\n",
        "\n",
        "        # 4. CALCULAMOS LA PROBABILIDAD DE ALCANZAR LA DISTANCIA PARCIAL\n",
        "        P_vec = np.append(P_vec, np.mean(l <= rangos_distancias[dist]))\n",
        "\n",
        "    # 5. CALCULAMOS LA PROBABILIDAD DE CONFLICTO COMO EL PRODUCTO DE LAS PROBABILIDADES CONDICIONALES.\n",
        "    P = np.prod(P_vec)\n",
        "    resultados= {'Distancias Parciales': rangos_distancias,\n",
        "                 'Probabilidades Parciales':P_vec,\n",
        "                 'Probabilidad de Conflicto':P}\n",
        "\n",
        "    return resultados"
      ],
      "execution_count": null,
      "outputs": []
    },
    {
      "cell_type": "code",
      "metadata": {
        "colab": {
          "base_uri": "https://localhost:8080/"
        },
        "id": "LJnUQRGES8jU",
        "outputId": "ba03d7e9-3f90-4d82-c680-32aa1839b9ec"
      },
      "source": [
        "n = 15000\n",
        "d = 8\n",
        "probaAR(n,d)"
      ],
      "execution_count": null,
      "outputs": [
        {
          "output_type": "execute_result",
          "data": {
            "text/plain": [
              "{'Distancias Parciales': [4.521618765181297,\n",
              "  3.0292270998440904,\n",
              "  1.8448927360964005,\n",
              "  0.9137649253189507,\n",
              "  0.23159253720041512,\n",
              "  0.1],\n",
              " 'Probabilidades Parciales': array([0.01833333, 0.02653333, 0.02046667, 0.02026667, 0.01833333,\n",
              "        0.11733333]),\n",
              " 'Probabilidad de Conflicto': 4.3403577998573377e-10}"
            ]
          },
          "metadata": {},
          "execution_count": 36
        }
      ]
    },
    {
      "cell_type": "code",
      "metadata": {
        "colab": {
          "base_uri": "https://localhost:8080/"
        },
        "outputId": "c8ed2bce-507b-4a69-eb11-e5ceb1ac89ca",
        "id": "AVz_Xu9Pb3Ju"
      },
      "source": [
        "d = 7\n",
        "probaAR(n, d)"
      ],
      "execution_count": null,
      "outputs": [
        {
          "output_type": "execute_result",
          "data": {
            "text/plain": [
              "{'Distancias Parciales': [3.704800746472787,\n",
              "  2.1156015103042156,\n",
              "  0.9532938068079769,\n",
              "  0.23054879429000652,\n",
              "  0.1],\n",
              " 'Probabilidades Parciales': array([0.01973333, 0.01793333, 0.0174    , 0.0254    , 0.1682    ]),\n",
              " 'Probabilidad de Conflicto': 2.6306945757013327e-08}"
            ]
          },
          "metadata": {},
          "execution_count": 37
        }
      ]
    },
    {
      "cell_type": "code",
      "metadata": {
        "colab": {
          "base_uri": "https://localhost:8080/"
        },
        "outputId": "1b310879-199e-4f6e-d7d4-8d8cc32d146b",
        "id": "WFOj42f-d71l"
      },
      "source": [
        "d = 6\n",
        "probaAR(n, d)"
      ],
      "execution_count": null,
      "outputs": [
        {
          "output_type": "execute_result",
          "data": {
            "text/plain": [
              "{'Distancias Parciales': [2.703058954633923,\n",
              "  1.145374935768793,\n",
              "  0.2689092791907306,\n",
              "  0.1],\n",
              " 'Probabilidades Parciales': array([0.01846667, 0.01886667, 0.0202    , 0.10133333]),\n",
              " 'Probabilidad de Conflicto': 7.131606708148147e-07}"
            ]
          },
          "metadata": {},
          "execution_count": 39
        }
      ]
    },
    {
      "cell_type": "code",
      "metadata": {
        "colab": {
          "base_uri": "https://localhost:8080/"
        },
        "outputId": "07220d9c-7f75-487f-9a85-2c5e23ae63d8",
        "id": "isUwfKpOeg89"
      },
      "source": [
        "d = 5\n",
        "probaAR(n, d)"
      ],
      "execution_count": null,
      "outputs": [
        {
          "output_type": "execute_result",
          "data": {
            "text/plain": [
              "{'Distancias Parciales': [1.8159546142379157, 0.472436080092972, 0.1],\n",
              " 'Probabilidades Parciales': array([0.02126667, 0.01973333, 0.03586667]),\n",
              " 'Probabilidad de Conflicto': 1.5051885037037035e-05}"
            ]
          },
          "metadata": {},
          "execution_count": 40
        }
      ]
    },
    {
      "cell_type": "code",
      "metadata": {
        "colab": {
          "base_uri": "https://localhost:8080/"
        },
        "outputId": "1c76a167-6101-43a7-c0c1-5f8fc0af2d42",
        "id": "C9lbqXFCyqmg"
      },
      "source": [
        "d = 4\n",
        "probaAR(n, d)"
      ],
      "execution_count": null,
      "outputs": [
        {
          "output_type": "execute_result",
          "data": {
            "text/plain": [
              "{'Distancias Parciales': [0.922257509099814, 0.14165934205578615, 0.1],\n",
              " 'Probabilidades Parciales': array([0.02086667, 0.0252    , 0.49786667]),\n",
              " 'Probabilidad de Conflicto': 0.00026179820799999997}"
            ]
          },
          "metadata": {},
          "execution_count": 41
        }
      ]
    },
    {
      "cell_type": "code",
      "metadata": {
        "colab": {
          "base_uri": "https://localhost:8080/"
        },
        "outputId": "0fef4c15-2cb4-436c-bf5e-4bd7522de1b5",
        "id": "XODhbge17Kjp"
      },
      "source": [
        "d = 4\n",
        "probaAR(n,d)"
      ],
      "execution_count": null,
      "outputs": [
        {
          "output_type": "execute_result",
          "data": {
            "text/plain": [
              "{'Distancias Parciales': [0.9399536827571, 0.13674239154119097, 0.1],\n",
              " 'Probabilidades Parciales': array([0.0204    , 0.02246667, 0.57193333]),\n",
              " 'Probabilidad de Conflicto': 0.00026212848533333334}"
            ]
          },
          "metadata": {},
          "execution_count": 35
        }
      ]
    },
    {
      "cell_type": "code",
      "metadata": {
        "colab": {
          "base_uri": "https://localhost:8080/"
        },
        "outputId": "22b71836-f47b-4dc6-9886-7a7b98fbcbb4",
        "id": "edIP7hDh_8mE"
      },
      "source": [
        "d = 4\n",
        "probaAR(n,d)"
      ],
      "execution_count": null,
      "outputs": [
        {
          "output_type": "execute_result",
          "data": {
            "text/plain": [
              "{'Distancias Parciales': [0.895078212392745, 0.136458708774026, 0.1],\n",
              " 'Probabilidades Parciales': array([0.02253333, 0.0194    , 0.53453333]),\n",
              " 'Probabilidad de Conflicto': 0.00023366946488888887}"
            ]
          },
          "metadata": {},
          "execution_count": 38
        }
      ]
    }
  ]
}