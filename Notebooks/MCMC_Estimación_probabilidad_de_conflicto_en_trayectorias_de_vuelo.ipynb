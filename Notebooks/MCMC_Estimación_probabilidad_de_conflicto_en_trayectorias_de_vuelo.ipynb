{
  "nbformat": 4,
  "nbformat_minor": 0,
  "metadata": {
    "kernelspec": {
      "display_name": "Python 3",
      "language": "python",
      "name": "python3"
    },
    "language_info": {
      "codemirror_mode": {
        "name": "ipython",
        "version": 3
      },
      "file_extension": ".py",
      "mimetype": "text/x-python",
      "name": "python",
      "nbconvert_exporter": "python",
      "pygments_lexer": "ipython3",
      "version": "3.7.3"
    },
    "colab": {
      "name": "MCMC Estimación probabilidad de conflicto en trayectorias de vuelo",
      "provenance": [],
      "include_colab_link": true
    }
  },
  "cells": [
    {
      "cell_type": "markdown",
      "metadata": {
        "id": "view-in-github",
        "colab_type": "text"
      },
      "source": [
        "<a href=\"https://colab.research.google.com/github/AnIsAsPe/Estimacion-probabilidad-conflicto-en-trayectorias-de-vuelos-paralelos/blob/main/Notebooks/MCMC_Estimaci%C3%B3n_probabilidad_de_conflicto_en_trayectorias_de_vuelo.ipynb\" target=\"_parent\"><img src=\"https://colab.research.google.com/assets/colab-badge.svg\" alt=\"Open In Colab\"/></a>"
      ]
    },
    {
      "cell_type": "code",
      "metadata": {
        "id": "-Y8onNp3S8jK"
      },
      "source": [
        "import numpy as np\n",
        "\n",
        "import matplotlib.pyplot as plt\n",
        "import seaborn as sns"
      ],
      "execution_count": 1,
      "outputs": []
    },
    {
      "cell_type": "markdown",
      "metadata": {
        "id": "Rics1Qh1S8jT"
      },
      "source": [
        "#<h3>MCMC<h3>"
      ]
    },
    {
      "cell_type": "markdown",
      "source": [
        "Como en el caso de Montecarlo iid, simulamos los errores en cada trayectoria utilizando el modelo de la distribución normal multinomial valiendonos de las covarianzas en el tiempo de la trayectoria (20 obs, 1 por min)"
      ],
      "metadata": {
        "id": "jQVIeTjsTNok"
      }
    },
    {
      "cell_type": "markdown",
      "metadata": {
        "id": "pmHP_vt2CvsQ"
      },
      "source": [
        "$\\mathbb{Cov}(error_{a,t},~error_{a,s}) = r_a^2t^2$    \n",
        "\n",
        "$\\mathbb{Cov}(error_{c,t},~error_{c,s}) = \\sigma_c^2(1-e^{-2\\frac{r_c}{\\sigma_c}vt})e^{-\\frac{r_c}{\\sigma_c}v(s-t)}$  \n",
        "\n",
        "\n",
        "---\n",
        "R. A. Paielli y H. Erzberger, «Conflict Probability Estimation for Free Flight», Journal of Guidance, Control, and Dynamics, may 2012, doi: 10.2514/2.4081.\n"
      ]
    },
    {
      "cell_type": "code",
      "metadata": {
        "id": "qv1nKIs7MhlM"
      },
      "source": [
        "def covarianzas(r_a, sigma_c, r_c, v ):\n",
        "  covA=np.zeros((20,20))\n",
        "  covC=np.zeros((20,20))\n",
        "  for s in range(20):\n",
        "    covC[s,s] = (sigma_c**2)*(1-np.exp(-2*r_c*v*(s+1)/sigma_c))\n",
        "    covA[s,s] = (r_a**2)*((s+1)**2)\n",
        "    for t in range(s):\n",
        "        covC[t,s] = covC[s,t]=(sigma_c**2)*(1-np.exp(-2*r_c*v*(t+1)/sigma_c))*np.exp(-r_c*v*(s-t)/sigma_c)\n",
        "        covA[t,s] = covA[s,t]=(r_a**2)*((t+1)**2)\n",
        "  return covA, covC\n"
      ],
      "execution_count": 2,
      "outputs": []
    },
    {
      "cell_type": "code",
      "metadata": {
        "id": "1VEXa5hbM3Tc",
        "colab": {
          "base_uri": "https://localhost:8080/",
          "height": 452
        },
        "outputId": "75b7b934-bc20-440c-9f09-91af5a835f22"
      },
      "source": [
        "sigma_c= 1\n",
        "r_c=1/57\n",
        "v=8\n",
        "r_a = 0.25\n",
        "\n",
        "covA, covC = covarianzas(r_a, sigma_c, r_c, v)\n",
        "sns.heatmap(covA)"
      ],
      "execution_count": 3,
      "outputs": [
        {
          "output_type": "execute_result",
          "data": {
            "text/plain": [
              "<Axes: >"
            ]
          },
          "metadata": {},
          "execution_count": 3
        },
        {
          "output_type": "display_data",
          "data": {
            "text/plain": [
              "<Figure size 640x480 with 2 Axes>"
            ],
            "image/png": "[encoded data removed]"
          },
          "metadata": {}
        }
      ]
    },
    {
      "cell_type": "markdown",
      "source": [
        "$x_{a,t} = vt + error_{a,t}~~~~$  (Along-track component)\n",
        "\n",
        "$x_{c,t} = error_{c,t}~~~~~~~~~~~~~$       (Cross-track component)"
      ],
      "metadata": {
        "id": "QKQJ2eRII5BV"
      }
    },
    {
      "cell_type": "markdown",
      "source": [
        "# Simulaciones con modelo AR (Construcción de la cadena de markov)\n",
        "\n",
        "Cuando existe un distancia menor a lo establecido (radar) entonces se considera el siguiente modelo AR\n",
        "\n",
        "$$Z_{i} = \\phi(Z_{i-1}-2\\mu) + \\sqrt{1-\\phi^{2}}(I_{i}-2\\mu) +2\\mu$$\n",
        "\n",
        "donde:\n",
        "\n",
        "- $\\phi(Z_{i-1}-2\\mu)$  es la parte de la trayectoria previa que conservamos, y\n",
        "- $ \\sqrt{1-\\phi^{2}}(I_{i}-2\\mu) $ es la parte de inovacion que se añade\n",
        "\n",
        "\n",
        "\n",
        "En caso contrario\n",
        "\n",
        "$$Z_{i} = Z_{i-1} $$"
      ],
      "metadata": {
        "id": "xi9yjqH6Z2K-"
      }
    },
    {
      "cell_type": "code",
      "metadata": {
        "id": "NghADShV_ug-"
      },
      "source": [
        "d = 8\n",
        "n = 500\n",
        "𝜇 = np.zeros(20) + d/2   # vector de tamaño 20 que contiene la mitad de la distancia inicial de los aviones\n",
        "\n",
        "# Simulamos nuestra primer vector de distancias entre dos aviones con\n",
        "# trayectorias paralelas \"startingpoint\" (1 observación de la Cadena de Markov)\n",
        "\n",
        "Z_a = np.random.multivariate_normal(np.zeros(20), 2 * covA, size = 1) + v * np.arange(1,21)\n",
        "Z_c = np.random.multivariate_normal(2 * 𝜇, 2 * covC, size = 1)\n",
        "Z = np.concatenate((Z_a, Z_c), axis=1)\n",
        "\n",
        "\n",
        "# Generamos una vector auxiliar iid que nos ayudará a construir la cadena de Markov\n",
        "\n",
        "I_a = np.random.multivariate_normal(np.zeros(20), 2 * covA, size = n) + v * np.arange(1,21)\n",
        "I_c = np.random.multivariate_normal(2 * 𝜇, 2 * covC, size = n)\n",
        "I = np.concatenate((I_a, I_c), axis=1)"
      ],
      "execution_count": 4,
      "outputs": []
    },
    {
      "cell_type": "code",
      "metadata": {
        "id": "EzJhJInJ_wHm",
        "colab": {
          "base_uri": "https://localhost:8080/"
        },
        "outputId": "c505da6f-7dd7-4bc7-b759-8caac31affe6"
      },
      "source": [
        "print(Z_a.shape, Z_c.shape, Z.shape)\n",
        "print(I_a.shape, I_c.shape, I.shape)"
      ],
      "execution_count": 5,
      "outputs": [
        {
          "output_type": "stream",
          "name": "stdout",
          "text": [
            "(1, 20) (1, 20) (1, 40)\n",
            "(500, 20) (500, 20) (500, 40)\n"
          ]
        }
      ]
    },
    {
      "cell_type": "code",
      "metadata": {
        "id": "5BmSnkKG_hE5",
        "outputId": "b69ec65b-718a-4bc6-ee02-46f690886091",
        "colab": {
          "base_uri": "https://localhost:8080/"
        }
      },
      "source": [
        "# Simulación del caso más simple, cuando no se ha establecido ninguna distancia (radar infinito)\n",
        "\n",
        "𝜙 = 0.9  # coeficiente\n",
        "𝜙_bar = np.sqrt(1-𝜙**2)\n",
        "\n",
        "\n",
        "for i in range(500-1):\n",
        "    Z_a = np.append(Z_a,\n",
        "                   𝜙 * (Z_a[-1:,]) + 𝜙_bar * (I_a[i,:]),  # en la componente al lo largo de la trayectoria, no interviene la distancia entre aviones (2 * 𝜇)\n",
        "                   axis=0)\n",
        "    Z_c = np.append(Z_c,\n",
        "                   𝜙 * (Z_c[-1:,] - 2 * 𝜇) + 𝜙_bar * (I_c[i,:] - 2 * 𝜇) + 2 * 𝜇,\n",
        "                   axis=0)\n",
        "\n",
        "Z = np.concatenate((Z_a, Z_c), axis=1)\n",
        "\n",
        "print(Z_a.shape, Z_c.shape, Z.shape)"
      ],
      "execution_count": 6,
      "outputs": [
        {
          "output_type": "stream",
          "name": "stdout",
          "text": [
            "(500, 20) (500, 20) (500, 40)\n"
          ]
        }
      ]
    },
    {
      "cell_type": "code",
      "source": [
        "def simula_CadenaMarkov(d, startingPoint, dist_referencia = float(\"inf\")):\n",
        "        𝜇 = np.zeros(20) + d/2\n",
        "\n",
        "        Z = startingPoint\n",
        "        Z_a = Z[:,:20]\n",
        "        Z_c = Z[:,20:]\n",
        "\n",
        "        I_a = np.random.multivariate_normal(mean = np.zeros(20),\n",
        "                                           cov = 2*covA,\n",
        "                                           size=n)\n",
        "        I_c = np.random.multivariate_normal(mean= 2 * 𝜇,\n",
        "                                           cov = 2 * covC,\n",
        "                                           size=n)\n",
        "        I = np.concatenate((I_a, I_c), axis=1)\n",
        "\n",
        "        for i in range(n-1):\n",
        "            newZ_a = 𝜙 * (Z_a[-1:,]) + 𝜙_bar * (I_a[i,:])\n",
        "            newZ_c = 𝜙 * (Z_c[-1:,] - 2 * 𝜇) + 𝜙_bar * (I_c[i,:] - 2 * 𝜇) + 2 * 𝜇\n",
        "\n",
        "\n",
        "            # se calcula la distancia minima de la nueva simulación(d_newZ)\n",
        "            d_newZ = np.sqrt(np.min(newZ_a**2 + newZ_c**2))\n",
        "\n",
        "            # Se considerará la nueva simulación cuando d_newZ sea menor o igual\n",
        "            # a la distancia de referencia, en caso contrario nos quedaremos con\n",
        "            # la trayectoria anterior.\n",
        "            Z_a = np.append(Z_a,\n",
        "                           # Si existe un distancia <= distancia de referencia, se considera newZ_a\n",
        "                           newZ_a * (d_newZ <= dist_referencia) + \\\n",
        "                           # En caso contrario, se considera la Z_a del tiempo anterior\n",
        "                           Z_a[-1] * (d_newZ > dist_referencia),\n",
        "                           axis=0)\n",
        "            Z_c = np.append(Z_c,\n",
        "                           # Si existe un distancia <= distancia de referencia, se considera newZ_c\n",
        "                           newZ_c      *  (d_newZ <= dist_referencia) + \\\n",
        "                           # En caso contrario, se considera la Z_a del tiempo anterior\n",
        "                           Z_c[-1] *  (d_newZ  > dist_referencia),\n",
        "                           axis=0)\n",
        "\n",
        "        Z = np.concatenate((Z_a, Z_c), axis=1)\n",
        "\n",
        "        return Z\n"
      ],
      "metadata": {
        "id": "U3CMqNaczOZl"
      },
      "execution_count": 9,
      "outputs": []
    },
    {
      "cell_type": "markdown",
      "source": [
        "# Encontrar distancias parciales convenientes"
      ],
      "metadata": {
        "id": "NBYvPtK57_OF"
      }
    },
    {
      "cell_type": "code",
      "source": [
        "n = 1000\n",
        "cuantil = 0.98\n",
        "int(np.ceil((1-cuantil)*n)-1)"
      ],
      "metadata": {
        "id": "2i_G2xdz3sX7",
        "outputId": "579064eb-3b53-425e-e8e2-c30eb1dcaae1",
        "colab": {
          "base_uri": "https://localhost:8080/"
        }
      },
      "execution_count": 10,
      "outputs": [
        {
          "output_type": "execute_result",
          "data": {
            "text/plain": [
              "20"
            ]
          },
          "metadata": {},
          "execution_count": 10
        }
      ]
    },
    {
      "cell_type": "code",
      "metadata": {
        "id": "Eh4rSgN0S8jT"
      },
      "source": [
        "def identificar_rangos_distancia(n, d):\n",
        "    cuantil = 0.98\n",
        "    𝜇 = np.zeros(20) + d/2\n",
        "    Z_a = np.random.multivariate_normal(mean = np.zeros(20),\n",
        "                                       cov = 2 * covA,\n",
        "                                       size=1)\n",
        "    Z_c = np.random.multivariate_normal(mean = 2 * 𝜇,\n",
        "                                       cov = 2*covC,\n",
        "                                       size=1)\n",
        "    startingPoint = np.concatenate((Z_a, Z_c), axis=1)\n",
        "    Z = simula_CadenaMarkov(d, startingPoint)\n",
        "\n",
        "    # Ordena las simulaciones de manera ascendente considerando la distancia\n",
        "    # minima en cada simulación\n",
        "    Z = np.array(sorted(list(Z), key=lambda x:min(x[:20]**2 + x[20:]**2)))\n",
        "\n",
        "    # Nos quedamos con el (1-cuantil)% de simulaciones en que se acercaron más los aviones\n",
        "    # identificamos la trayectoria que separa con el criterio descrito\n",
        "    renglon = int(np.ceil((1 - cuantil) * n) - 1)\n",
        "\n",
        "    # guardamos la minima distancia minima del renglón vector identificado\n",
        "    distancias = np.array([])\n",
        "    distancia_minima = np.sqrt(np.min(( Z[renglon,:20]**2 + Z[renglon, 20:]**2)))\n",
        "    distancias = np.append(distancias, distancia_minima)\n",
        "\n",
        "    # mientras la distancia encontrada sea mayor que la distancia de conflicto\n",
        "    while (distancias[-1] > a ):\n",
        "        # comenzamos una nueva cadena de markov considerando el startingpoint la\n",
        "        # Z con la menor distancia ocurrida en la simulación anterior y la distancia\n",
        "        # de referencia identificada en la iteración anterior\n",
        "\n",
        "        startingPoint = (Z[0]).reshape(1,-1)\n",
        "        Z = simula_CadenaMarkov(d, startingPoint, distancias[-1])\n",
        "\n",
        "        # Ordena las simulaciones en base a la distancia minima en cada simulación\n",
        "\n",
        "        Z = np.array(sorted(list(Z), key=lambda x:min(x[:20]**2+x[20:]**2)))\n",
        "        renglon = int(np.ceil((1-cuantil)*n)-1)\n",
        "        distancia_minima = np.sqrt(np.min((Z[renglon,:20]**2+Z[renglon, 20:]**2)))\n",
        "        distancias = np.append(distancias, distancia_minima)\n",
        "\n",
        "    ## Nos aseguramos de que el primer nivel sea a\n",
        "    distancias = distancias[:-1]\n",
        "    distancias = np.append(distancias, a)\n",
        "\n",
        "    distancias=list(dict.fromkeys(distancias))\n",
        "\n",
        "    return distancias"
      ],
      "execution_count": 11,
      "outputs": []
    },
    {
      "cell_type": "code",
      "metadata": {
        "colab": {
          "base_uri": "https://localhost:8080/"
        },
        "outputId": "c79ab788-d99f-48ad-baf3-564e2007d126",
        "id": "Dx22ASTfst9X"
      },
      "source": [
        "a = 0.1\n",
        "cuantil = 0.98\n",
        "𝜙 = 0.9\n",
        "𝜙_bar = np.sqrt(1-𝜙**2)\n",
        "d = 10\n",
        "n = 15000\n",
        "\n",
        "rangos_distancias = identificar_rangos_distancia(n, d)\n",
        "rangos_distancias"
      ],
      "execution_count": 13,
      "outputs": [
        {
          "output_type": "execute_result",
          "data": {
            "text/plain": [
              "[6.530343856359507,\n",
              " 5.006157838961066,\n",
              " 3.768520163399977,\n",
              " 2.706650846426762,\n",
              " 1.8089571809066127,\n",
              " 1.0427936390799462,\n",
              " 0.3740115234573149,\n",
              " 0.1]"
            ]
          },
          "metadata": {},
          "execution_count": 13
        }
      ]
    },
    {
      "cell_type": "markdown",
      "source": [
        "# Encontrar la probabilidad de conflicto usando las distancias parciales"
      ],
      "metadata": {
        "id": "cP393re88FRe"
      }
    },
    {
      "cell_type": "code",
      "metadata": {
        "id": "_fDWuv4QS8jU"
      },
      "source": [
        "def probaAR(n, d):\n",
        "\n",
        "    # 0. DIVIDIMOS LA DISTANCIA d en DISTANCIAS PARCIALES\n",
        "    rangos_distancias = identificar_rangos_distancia(n, d)\n",
        "\n",
        "    # 1.CREAMOS EL PUNTO DE INICIO DE LA PRIMERA CADENA DE MARKOV\n",
        "    𝜇 = np.zeros(20) + d/2\n",
        "    Z_a = np.random.multivariate_normal(mean = np.zeros(20),\n",
        "                                       cov  = 2 * covA,\n",
        "                                       size = 1)\n",
        "    Z_c = np.random.multivariate_normal(mean = 2 * 𝜇,\n",
        "                                       cov  = 2 * covC,\n",
        "                                       size = 1)\n",
        "    startingPoint = np.concatenate((Z_a, Z_c), axis=1)\n",
        "\n",
        "    # 2. CONSTRUIMOS LA PRIMERA CADENA DE MARKOV\n",
        "    Z = simula_CadenaMarkov(d,startingPoint)\n",
        "\n",
        "    # 3. CALCULAMOS LA DISTANCIA MINIMA DE CADA SIMULACIÓN\n",
        "    l = np.sqrt(np.amin(Z[:,:20]**2 + Z[:,20:]**2,axis=1))\n",
        "\n",
        "    # 4. ESTIMAMOS LA PROBABILIDAD DE QUE SE LLEGUE A LA PRIMERA DISTANCIA PARCIAL\n",
        "    P_vec = np.array(np.mean( l <= rangos_distancias[0]))  # se guarda en el vector P_vec\n",
        "\n",
        "\n",
        "    for dist in range(1, len(rangos_distancias)):\n",
        "\n",
        "        # 1. ELECCION DEL PUNTO DE PARTIDA DE LA NUEVA CADENA DE MARKOV\n",
        "\n",
        "        d_parcial_ant = rangos_distancias[(dist-1)]\n",
        "        if sum(l <= d_parcial_ant) > 0:\n",
        "            # Si existe, se elige una trayectoria que haya llegado a la distancia de referencia anterior\n",
        "            startingPoint = (Z[l <= d_parcial_ant][0]).reshape(1,-1)\n",
        "        else:\n",
        "            # Si no hay ninguna, se empieza con la que tenga la distancia más pequeña\n",
        "            Z = np.array(sorted(list(Z),\n",
        "                                key=lambda x:min(x[:20]**2 + x[20:]**2)))\n",
        "            startingPoint = (Z[0]).reshape(1,-1)\n",
        "\n",
        "        # 2. SIMULACION DE LA NUEVA CADENA DE MARKOV\n",
        "        Z = simula_CadenaMarkov(d, startingPoint, d_parcial_ant)\n",
        "\n",
        "        # 3. CALCULAMOS LA DISTANCIA MINIMA DE CADA SIMULACIÓN\n",
        "        l = np.sqrt(np.amin(Z[:,:20]**2 + Z[:,20:]**2, axis=1))\n",
        "\n",
        "        # 4. CALCULAMOS LA PROBABILIDAD DE ALCANZAR LA DISTANCIA PARCIAL\n",
        "        P_vec = np.append(P_vec, np.mean(l <= rangos_distancias[dist]))\n",
        "\n",
        "    # 5. CALCULAMOS LA PROBABILIDAD DE CONFLICTO COMO EL PRODUCTO DE LAS PROBABILIDADES CONDICIONALES.\n",
        "    P = np.prod(P_vec)\n",
        "\n",
        "    return P"
      ],
      "execution_count": 14,
      "outputs": []
    },
    {
      "cell_type": "code",
      "metadata": {
        "colab": {
          "base_uri": "https://localhost:8080/"
        },
        "id": "LJnUQRGES8jU",
        "outputId": "cab8a7ad-162e-4e9f-deff-5771f4007faa"
      },
      "source": [
        "n = 15000\n",
        "d = 8\n",
        "P = probaAR(n,d)\n",
        "P"
      ],
      "execution_count": 15,
      "outputs": [
        {
          "output_type": "execute_result",
          "data": {
            "text/plain": [
              "6.558409511757606e-10"
            ]
          },
          "metadata": {},
          "execution_count": 15
        }
      ]
    },
    {
      "cell_type": "code",
      "metadata": {
        "colab": {
          "base_uri": "https://localhost:8080/"
        },
        "outputId": "886f2b25-6c51-4809-8ed3-e8570225c423",
        "id": "AVz_Xu9Pb3Ju"
      },
      "source": [
        "d = 7\n",
        "probaAR(n ,d)"
      ],
      "execution_count": 16,
      "outputs": [
        {
          "output_type": "execute_result",
          "data": {
            "text/plain": [
              "3.3266282824691354e-08"
            ]
          },
          "metadata": {},
          "execution_count": 16
        }
      ]
    },
    {
      "cell_type": "code",
      "metadata": {
        "colab": {
          "base_uri": "https://localhost:8080/"
        },
        "outputId": "43703359-75e3-4b64-8dcf-10523b04d054",
        "id": "WFOj42f-d71l"
      },
      "source": [
        "d = 6\n",
        "probaAR( n,d, )"
      ],
      "execution_count": 17,
      "outputs": [
        {
          "output_type": "execute_result",
          "data": {
            "text/plain": [
              "1.3174309623703704e-06"
            ]
          },
          "metadata": {},
          "execution_count": 17
        }
      ]
    },
    {
      "cell_type": "code",
      "metadata": {
        "colab": {
          "base_uri": "https://localhost:8080/"
        },
        "outputId": "99132f9e-3386-42a4-8806-9206398b045c",
        "id": "isUwfKpOeg89"
      },
      "source": [
        "d = 5\n",
        "probaAR(n,d,)"
      ],
      "execution_count": 18,
      "outputs": [
        {
          "output_type": "execute_result",
          "data": {
            "text/plain": [
              "1.2657274074074074e-05"
            ]
          },
          "metadata": {},
          "execution_count": 18
        }
      ]
    },
    {
      "cell_type": "code",
      "metadata": {
        "colab": {
          "base_uri": "https://localhost:8080/"
        },
        "outputId": "9e0ef25a-fef1-47aa-cb45-622e3c0545a8",
        "id": "C9lbqXFCyqmg"
      },
      "source": [
        "d = 4\n",
        "probaAR(n,d)"
      ],
      "execution_count": 19,
      "outputs": [
        {
          "output_type": "execute_result",
          "data": {
            "text/plain": [
              "0.00026532406755555555"
            ]
          },
          "metadata": {},
          "execution_count": 19
        }
      ]
    }
  ]
}